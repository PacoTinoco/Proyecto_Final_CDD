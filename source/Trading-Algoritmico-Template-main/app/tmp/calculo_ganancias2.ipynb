{
 "cells": [
  {
   "cell_type": "code",
   "execution_count": 46,
   "id": "1bab3709-8b90-46f1-8a23-9620772bbe17",
   "metadata": {
    "ExecuteTime": {
     "end_time": "2024-11-20T03:26:50.476490Z",
     "start_time": "2024-11-20T03:26:50.461189Z"
    }
   },
   "outputs": [],
   "source": [
    "import mlflow.pyfunc\n",
    "from datetime import timedelta\n",
    "import pandas as pd\n",
    "import dagshub\n",
    "import yfinance as yf"
   ]
  },
  {
   "cell_type": "code",
   "execution_count": 47,
   "id": "ce476592",
   "metadata": {},
   "outputs": [
    {
     "name": "stdout",
     "output_type": "stream",
     "text": [
      "Requirement already satisfied: mlflow==2.16.1 in c:\\users\\almen\\documents\\dev\\samsara\\pythonproject\\.venv\\lib\\site-packages (2.16.1)\n",
      "Requirement already satisfied: mlflow-skinny==2.16.1 in c:\\users\\almen\\documents\\dev\\samsara\\pythonproject\\.venv\\lib\\site-packages (from mlflow==2.16.1) (2.16.1)\n",
      "Requirement already satisfied: Flask<4 in c:\\users\\almen\\documents\\dev\\samsara\\pythonproject\\.venv\\lib\\site-packages (from mlflow==2.16.1) (3.0.3)\n",
      "Requirement already satisfied: alembic!=1.10.0,<2 in c:\\users\\almen\\documents\\dev\\samsara\\pythonproject\\.venv\\lib\\site-packages (from mlflow==2.16.1) (1.13.3)\n",
      "Requirement already satisfied: docker<8,>=4.0.0 in c:\\users\\almen\\documents\\dev\\samsara\\pythonproject\\.venv\\lib\\site-packages (from mlflow==2.16.1) (7.1.0)\n",
      "Requirement already satisfied: graphene<4 in c:\\users\\almen\\documents\\dev\\samsara\\pythonproject\\.venv\\lib\\site-packages (from mlflow==2.16.1) (3.4.1)\n",
      "Requirement already satisfied: markdown<4,>=3.3 in c:\\users\\almen\\documents\\dev\\samsara\\pythonproject\\.venv\\lib\\site-packages (from mlflow==2.16.1) (3.7)\n",
      "Requirement already satisfied: matplotlib<4 in c:\\users\\almen\\documents\\dev\\samsara\\pythonproject\\.venv\\lib\\site-packages (from mlflow==2.16.1) (3.9.2)\n",
      "Requirement already satisfied: numpy<3 in c:\\users\\almen\\documents\\dev\\samsara\\pythonproject\\.venv\\lib\\site-packages (from mlflow==2.16.1) (2.1.1)\n",
      "Requirement already satisfied: pandas<3 in c:\\users\\almen\\documents\\dev\\samsara\\pythonproject\\.venv\\lib\\site-packages (from mlflow==2.16.1) (2.2.2)\n",
      "Requirement already satisfied: pyarrow<18,>=4.0.0 in c:\\users\\almen\\documents\\dev\\samsara\\pythonproject\\.venv\\lib\\site-packages (from mlflow==2.16.1) (17.0.0)\n",
      "Requirement already satisfied: scikit-learn<2 in c:\\users\\almen\\documents\\dev\\samsara\\pythonproject\\.venv\\lib\\site-packages (from mlflow==2.16.1) (1.5.2)\n",
      "Requirement already satisfied: scipy<2 in c:\\users\\almen\\documents\\dev\\samsara\\pythonproject\\.venv\\lib\\site-packages (from mlflow==2.16.1) (1.14.1)\n",
      "Requirement already satisfied: sqlalchemy<3,>=1.4.0 in c:\\users\\almen\\documents\\dev\\samsara\\pythonproject\\.venv\\lib\\site-packages (from mlflow==2.16.1) (2.0.36)\n",
      "Requirement already satisfied: Jinja2<4,>=3.0 in c:\\users\\almen\\documents\\dev\\samsara\\pythonproject\\.venv\\lib\\site-packages (from mlflow==2.16.1) (3.1.4)\n",
      "Requirement already satisfied: waitress<4 in c:\\users\\almen\\documents\\dev\\samsara\\pythonproject\\.venv\\lib\\site-packages (from mlflow==2.16.1) (3.0.1)\n",
      "Requirement already satisfied: cachetools<6,>=5.0.0 in c:\\users\\almen\\documents\\dev\\samsara\\pythonproject\\.venv\\lib\\site-packages (from mlflow-skinny==2.16.1->mlflow==2.16.1) (5.5.0)\n",
      "Requirement already satisfied: click<9,>=7.0 in c:\\users\\almen\\documents\\dev\\samsara\\pythonproject\\.venv\\lib\\site-packages (from mlflow-skinny==2.16.1->mlflow==2.16.1) (8.1.7)\n",
      "Requirement already satisfied: cloudpickle<4 in c:\\users\\almen\\documents\\dev\\samsara\\pythonproject\\.venv\\lib\\site-packages (from mlflow-skinny==2.16.1->mlflow==2.16.1) (3.0.0)\n",
      "Requirement already satisfied: databricks-sdk<1,>=0.20.0 in c:\\users\\almen\\documents\\dev\\samsara\\pythonproject\\.venv\\lib\\site-packages (from mlflow-skinny==2.16.1->mlflow==2.16.1) (0.36.0)\n",
      "Requirement already satisfied: gitpython<4,>=3.1.9 in c:\\users\\almen\\documents\\dev\\samsara\\pythonproject\\.venv\\lib\\site-packages (from mlflow-skinny==2.16.1->mlflow==2.16.1) (3.1.43)\n",
      "Requirement already satisfied: importlib-metadata!=4.7.0,<9,>=3.7.0 in c:\\users\\almen\\documents\\dev\\samsara\\pythonproject\\.venv\\lib\\site-packages (from mlflow-skinny==2.16.1->mlflow==2.16.1) (8.4.0)\n",
      "Requirement already satisfied: opentelemetry-api<3,>=1.9.0 in c:\\users\\almen\\documents\\dev\\samsara\\pythonproject\\.venv\\lib\\site-packages (from mlflow-skinny==2.16.1->mlflow==2.16.1) (1.27.0)\n",
      "Requirement already satisfied: opentelemetry-sdk<3,>=1.9.0 in c:\\users\\almen\\documents\\dev\\samsara\\pythonproject\\.venv\\lib\\site-packages (from mlflow-skinny==2.16.1->mlflow==2.16.1) (1.27.0)\n",
      "Requirement already satisfied: packaging<25 in c:\\users\\almen\\documents\\dev\\samsara\\pythonproject\\.venv\\lib\\site-packages (from mlflow-skinny==2.16.1->mlflow==2.16.1) (24.1)\n",
      "Requirement already satisfied: protobuf<6,>=3.12.0 in c:\\users\\almen\\documents\\dev\\samsara\\pythonproject\\.venv\\lib\\site-packages (from mlflow-skinny==2.16.1->mlflow==2.16.1) (5.28.3)\n",
      "Requirement already satisfied: pyyaml<7,>=5.1 in c:\\users\\almen\\documents\\dev\\samsara\\pythonproject\\.venv\\lib\\site-packages (from mlflow-skinny==2.16.1->mlflow==2.16.1) (6.0.1)\n",
      "Requirement already satisfied: requests<3,>=2.17.3 in c:\\users\\almen\\documents\\dev\\samsara\\pythonproject\\.venv\\lib\\site-packages (from mlflow-skinny==2.16.1->mlflow==2.16.1) (2.32.3)\n",
      "Requirement already satisfied: sqlparse<1,>=0.4.0 in c:\\users\\almen\\documents\\dev\\samsara\\pythonproject\\.venv\\lib\\site-packages (from mlflow-skinny==2.16.1->mlflow==2.16.1) (0.5.1)\n",
      "Requirement already satisfied: Mako in c:\\users\\almen\\documents\\dev\\samsara\\pythonproject\\.venv\\lib\\site-packages (from alembic!=1.10.0,<2->mlflow==2.16.1) (1.3.6)\n",
      "Requirement already satisfied: typing-extensions>=4 in c:\\users\\almen\\documents\\dev\\samsara\\pythonproject\\.venv\\lib\\site-packages (from alembic!=1.10.0,<2->mlflow==2.16.1) (4.12.2)\n",
      "Requirement already satisfied: pywin32>=304 in c:\\users\\almen\\documents\\dev\\samsara\\pythonproject\\.venv\\lib\\site-packages (from docker<8,>=4.0.0->mlflow==2.16.1) (308)\n",
      "Requirement already satisfied: urllib3>=1.26.0 in c:\\users\\almen\\documents\\dev\\samsara\\pythonproject\\.venv\\lib\\site-packages (from docker<8,>=4.0.0->mlflow==2.16.1) (1.26.20)\n",
      "Requirement already satisfied: Werkzeug>=3.0.0 in c:\\users\\almen\\documents\\dev\\samsara\\pythonproject\\.venv\\lib\\site-packages (from Flask<4->mlflow==2.16.1) (3.0.4)\n",
      "Requirement already satisfied: itsdangerous>=2.1.2 in c:\\users\\almen\\documents\\dev\\samsara\\pythonproject\\.venv\\lib\\site-packages (from Flask<4->mlflow==2.16.1) (2.2.0)\n",
      "Requirement already satisfied: blinker>=1.6.2 in c:\\users\\almen\\documents\\dev\\samsara\\pythonproject\\.venv\\lib\\site-packages (from Flask<4->mlflow==2.16.1) (1.8.2)\n",
      "Requirement already satisfied: graphql-core<3.3,>=3.1 in c:\\users\\almen\\documents\\dev\\samsara\\pythonproject\\.venv\\lib\\site-packages (from graphene<4->mlflow==2.16.1) (3.2.5)\n",
      "Requirement already satisfied: graphql-relay<3.3,>=3.1 in c:\\users\\almen\\documents\\dev\\samsara\\pythonproject\\.venv\\lib\\site-packages (from graphene<4->mlflow==2.16.1) (3.2.0)\n",
      "Requirement already satisfied: python-dateutil<3,>=2.7.0 in c:\\users\\almen\\documents\\dev\\samsara\\pythonproject\\.venv\\lib\\site-packages (from graphene<4->mlflow==2.16.1) (2.9.0.post0)\n",
      "Requirement already satisfied: MarkupSafe>=2.0 in c:\\users\\almen\\documents\\dev\\samsara\\pythonproject\\.venv\\lib\\site-packages (from Jinja2<4,>=3.0->mlflow==2.16.1) (3.0.2)\n",
      "Requirement already satisfied: contourpy>=1.0.1 in c:\\users\\almen\\documents\\dev\\samsara\\pythonproject\\.venv\\lib\\site-packages (from matplotlib<4->mlflow==2.16.1) (1.3.0)\n",
      "Requirement already satisfied: cycler>=0.10 in c:\\users\\almen\\documents\\dev\\samsara\\pythonproject\\.venv\\lib\\site-packages (from matplotlib<4->mlflow==2.16.1) (0.12.1)\n",
      "Requirement already satisfied: fonttools>=4.22.0 in c:\\users\\almen\\documents\\dev\\samsara\\pythonproject\\.venv\\lib\\site-packages (from matplotlib<4->mlflow==2.16.1) (4.54.1)\n",
      "Requirement already satisfied: kiwisolver>=1.3.1 in c:\\users\\almen\\documents\\dev\\samsara\\pythonproject\\.venv\\lib\\site-packages (from matplotlib<4->mlflow==2.16.1) (1.4.7)\n",
      "Requirement already satisfied: pillow>=8 in c:\\users\\almen\\documents\\dev\\samsara\\pythonproject\\.venv\\lib\\site-packages (from matplotlib<4->mlflow==2.16.1) (11.0.0)\n",
      "Requirement already satisfied: pyparsing>=2.3.1 in c:\\users\\almen\\documents\\dev\\samsara\\pythonproject\\.venv\\lib\\site-packages (from matplotlib<4->mlflow==2.16.1) (3.2.0)\n",
      "Requirement already satisfied: pytz>=2020.1 in c:\\users\\almen\\documents\\dev\\samsara\\pythonproject\\.venv\\lib\\site-packages (from pandas<3->mlflow==2.16.1) (2024.2)\n",
      "Requirement already satisfied: tzdata>=2022.7 in c:\\users\\almen\\documents\\dev\\samsara\\pythonproject\\.venv\\lib\\site-packages (from pandas<3->mlflow==2.16.1) (2024.2)\n",
      "Requirement already satisfied: joblib>=1.2.0 in c:\\users\\almen\\documents\\dev\\samsara\\pythonproject\\.venv\\lib\\site-packages (from scikit-learn<2->mlflow==2.16.1) (1.4.2)\n",
      "Requirement already satisfied: threadpoolctl>=3.1.0 in c:\\users\\almen\\documents\\dev\\samsara\\pythonproject\\.venv\\lib\\site-packages (from scikit-learn<2->mlflow==2.16.1) (3.5.0)\n",
      "Requirement already satisfied: greenlet!=0.4.17 in c:\\users\\almen\\documents\\dev\\samsara\\pythonproject\\.venv\\lib\\site-packages (from sqlalchemy<3,>=1.4.0->mlflow==2.16.1) (3.1.1)\n",
      "Requirement already satisfied: colorama in c:\\users\\almen\\documents\\dev\\samsara\\pythonproject\\.venv\\lib\\site-packages (from click<9,>=7.0->mlflow-skinny==2.16.1->mlflow==2.16.1) (0.4.6)\n",
      "Requirement already satisfied: google-auth~=2.0 in c:\\users\\almen\\documents\\dev\\samsara\\pythonproject\\.venv\\lib\\site-packages (from databricks-sdk<1,>=0.20.0->mlflow-skinny==2.16.1->mlflow==2.16.1) (2.35.0)\n",
      "Requirement already satisfied: gitdb<5,>=4.0.1 in c:\\users\\almen\\documents\\dev\\samsara\\pythonproject\\.venv\\lib\\site-packages (from gitpython<4,>=3.1.9->mlflow-skinny==2.16.1->mlflow==2.16.1) (4.0.11)\n",
      "Requirement already satisfied: zipp>=0.5 in c:\\users\\almen\\documents\\dev\\samsara\\pythonproject\\.venv\\lib\\site-packages (from importlib-metadata!=4.7.0,<9,>=3.7.0->mlflow-skinny==2.16.1->mlflow==2.16.1) (3.20.2)\n",
      "Requirement already satisfied: deprecated>=1.2.6 in c:\\users\\almen\\documents\\dev\\samsara\\pythonproject\\.venv\\lib\\site-packages (from opentelemetry-api<3,>=1.9.0->mlflow-skinny==2.16.1->mlflow==2.16.1) (1.2.14)\n",
      "Requirement already satisfied: opentelemetry-semantic-conventions==0.48b0 in c:\\users\\almen\\documents\\dev\\samsara\\pythonproject\\.venv\\lib\\site-packages (from opentelemetry-sdk<3,>=1.9.0->mlflow-skinny==2.16.1->mlflow==2.16.1) (0.48b0)\n",
      "Requirement already satisfied: six>=1.5 in c:\\users\\almen\\documents\\dev\\samsara\\pythonproject\\.venv\\lib\\site-packages (from python-dateutil<3,>=2.7.0->graphene<4->mlflow==2.16.1) (1.16.0)\n",
      "Requirement already satisfied: charset-normalizer<4,>=2 in c:\\users\\almen\\documents\\dev\\samsara\\pythonproject\\.venv\\lib\\site-packages (from requests<3,>=2.17.3->mlflow-skinny==2.16.1->mlflow==2.16.1) (3.4.0)\n",
      "Requirement already satisfied: idna<4,>=2.5 in c:\\users\\almen\\documents\\dev\\samsara\\pythonproject\\.venv\\lib\\site-packages (from requests<3,>=2.17.3->mlflow-skinny==2.16.1->mlflow==2.16.1) (3.10)\n",
      "Requirement already satisfied: certifi>=2017.4.17 in c:\\users\\almen\\documents\\dev\\samsara\\pythonproject\\.venv\\lib\\site-packages (from requests<3,>=2.17.3->mlflow-skinny==2.16.1->mlflow==2.16.1) (2024.8.30)\n",
      "Requirement already satisfied: wrapt<2,>=1.10 in c:\\users\\almen\\documents\\dev\\samsara\\pythonproject\\.venv\\lib\\site-packages (from deprecated>=1.2.6->opentelemetry-api<3,>=1.9.0->mlflow-skinny==2.16.1->mlflow==2.16.1) (1.16.0)\n",
      "Requirement already satisfied: smmap<6,>=3.0.1 in c:\\users\\almen\\documents\\dev\\samsara\\pythonproject\\.venv\\lib\\site-packages (from gitdb<5,>=4.0.1->gitpython<4,>=3.1.9->mlflow-skinny==2.16.1->mlflow==2.16.1) (5.0.1)\n",
      "Requirement already satisfied: pyasn1-modules>=0.2.1 in c:\\users\\almen\\documents\\dev\\samsara\\pythonproject\\.venv\\lib\\site-packages (from google-auth~=2.0->databricks-sdk<1,>=0.20.0->mlflow-skinny==2.16.1->mlflow==2.16.1) (0.4.1)\n",
      "Requirement already satisfied: rsa<5,>=3.1.4 in c:\\users\\almen\\documents\\dev\\samsara\\pythonproject\\.venv\\lib\\site-packages (from google-auth~=2.0->databricks-sdk<1,>=0.20.0->mlflow-skinny==2.16.1->mlflow==2.16.1) (4.9)\n",
      "Requirement already satisfied: pyasn1<0.7.0,>=0.4.6 in c:\\users\\almen\\documents\\dev\\samsara\\pythonproject\\.venv\\lib\\site-packages (from pyasn1-modules>=0.2.1->google-auth~=2.0->databricks-sdk<1,>=0.20.0->mlflow-skinny==2.16.1->mlflow==2.16.1) (0.6.1)\n",
      "Requirement already satisfied: cloudpickle==3.0.0 in c:\\users\\almen\\documents\\dev\\samsara\\pythonproject\\.venv\\lib\\site-packages (3.0.0)\n",
      "Requirement already satisfied: numpy==2.1.1 in c:\\users\\almen\\documents\\dev\\samsara\\pythonproject\\.venv\\lib\\site-packages (2.1.1)\n",
      "Requirement already satisfied: pandas==2.2.2 in c:\\users\\almen\\documents\\dev\\samsara\\pythonproject\\.venv\\lib\\site-packages (2.2.2)\n",
      "Requirement already satisfied: numpy>=1.26.0 in c:\\users\\almen\\documents\\dev\\samsara\\pythonproject\\.venv\\lib\\site-packages (from pandas==2.2.2) (2.1.1)\n",
      "Requirement already satisfied: python-dateutil>=2.8.2 in c:\\users\\almen\\documents\\dev\\samsara\\pythonproject\\.venv\\lib\\site-packages (from pandas==2.2.2) (2.9.0.post0)\n",
      "Requirement already satisfied: pytz>=2020.1 in c:\\users\\almen\\documents\\dev\\samsara\\pythonproject\\.venv\\lib\\site-packages (from pandas==2.2.2) (2024.2)\n",
      "Requirement already satisfied: tzdata>=2022.7 in c:\\users\\almen\\documents\\dev\\samsara\\pythonproject\\.venv\\lib\\site-packages (from pandas==2.2.2) (2024.2)\n",
      "Requirement already satisfied: six>=1.5 in c:\\users\\almen\\documents\\dev\\samsara\\pythonproject\\.venv\\lib\\site-packages (from python-dateutil>=2.8.2->pandas==2.2.2) (1.16.0)\n",
      "Requirement already satisfied: psutil==6.0.0 in c:\\users\\almen\\documents\\dev\\samsara\\pythonproject\\.venv\\lib\\site-packages (6.0.0)\n"
     ]
    }
   ],
   "source": [
    "!pip install mlflow==2.16.1\n",
    "!pip install cloudpickle==3.0.0\n",
    "!pip install numpy==2.1.1\n",
    "!pip install pandas==2.2.2\n",
    "!pip install psutil==6.0.0\n"
   ]
  },
  {
   "cell_type": "code",
   "execution_count": 48,
   "id": "723db742-4774-4f90-830c-b599d6b41421",
   "metadata": {
    "ExecuteTime": {
     "end_time": "2024-11-20T03:28:29.338192Z",
     "start_time": "2024-11-20T03:28:25.331394Z"
    }
   },
   "outputs": [
    {
     "data": {
      "text/html": [
       "<pre style=\"white-space:pre;overflow-x:auto;line-height:normal;font-family:Menlo,'DejaVu Sans Mono',consolas,'Courier New',monospace\">Initialized MLflow to track repo <span style=\"color: #008000; text-decoration-color: #008000\">\"PacoTinoco/Proyecto_Final_CDD\"</span>\n",
       "</pre>\n"
      ],
      "text/plain": [
       "Initialized MLflow to track repo \u001b[32m\"PacoTinoco/Proyecto_Final_CDD\"\u001b[0m\n"
      ]
     },
     "metadata": {},
     "output_type": "display_data"
    },
    {
     "data": {
      "text/html": [
       "<pre style=\"white-space:pre;overflow-x:auto;line-height:normal;font-family:Menlo,'DejaVu Sans Mono',consolas,'Courier New',monospace\">Repository PacoTinoco/Proyecto_Final_CDD initialized!\n",
       "</pre>\n"
      ],
      "text/plain": [
       "Repository PacoTinoco/Proyecto_Final_CDD initialized!\n"
      ]
     },
     "metadata": {},
     "output_type": "display_data"
    },
    {
     "name": "stderr",
     "output_type": "stream",
     "text": [
      "Downloading artifacts: 100%|██████████| 6/6 [00:00<00:00,  9.65it/s]\n"
     ]
    }
   ],
   "source": [
    "# Definir la configuración del modelo y el alias del modelo optimizado\n",
    "dagshub.init(url=\"https://dagshub.com/PacoTinoco/Proyecto_Final_CDD\", mlflow=True)\n",
    "MLFLOW_TRACKING_URI = mlflow.get_tracking_uri()\n",
    "\n",
    "model_name = \"amazon-stock-model-randomforest-prefect\"\n",
    "alias = \"champion\"\n",
    "model_uri = f\"models:/{model_name}@{alias}\"\n",
    "\n",
    "# Cargar el modelo entrenado de MLflow\n",
    "model = mlflow.pyfunc.load_model(model_uri)\n"
   ]
  },
  {
   "cell_type": "code",
   "execution_count": 49,
   "id": "8b7d33f5-664d-4d59-8058-8f7a66172871",
   "metadata": {
    "ExecuteTime": {
     "end_time": "2024-11-20T03:27:08.744067Z",
     "start_time": "2024-11-20T03:27:01.437878Z"
    }
   },
   "outputs": [],
   "source": [
    "# Solicitar datos al usuario\n",
    "capital_inicial = float(input(\"Ingrese el capital inicial a invertir en USD: \"))\n",
    "dias_inversion = int(input(\"Ingrese el número de días de inversión: \"))"
   ]
  },
  {
   "cell_type": "code",
   "execution_count": 50,
   "id": "f256ad0e-16f1-43b5-804c-9902a69924e0",
   "metadata": {
    "ExecuteTime": {
     "end_time": "2024-11-20T03:28:29.493520Z",
     "start_time": "2024-11-20T03:28:29.350318Z"
    }
   },
   "outputs": [
    {
     "data": {
      "text/html": [
       "<div>\n",
       "<style scoped>\n",
       "    .dataframe tbody tr th:only-of-type {\n",
       "        vertical-align: middle;\n",
       "    }\n",
       "\n",
       "    .dataframe tbody tr th {\n",
       "        vertical-align: top;\n",
       "    }\n",
       "\n",
       "    .dataframe thead th {\n",
       "        text-align: right;\n",
       "    }\n",
       "</style>\n",
       "<table border=\"1\" class=\"dataframe\">\n",
       "  <thead>\n",
       "    <tr style=\"text-align: right;\">\n",
       "      <th></th>\n",
       "      <th>Date</th>\n",
       "      <th>Open</th>\n",
       "      <th>High</th>\n",
       "      <th>Low</th>\n",
       "      <th>Close</th>\n",
       "      <th>Volume</th>\n",
       "    </tr>\n",
       "  </thead>\n",
       "  <tbody>\n",
       "    <tr>\n",
       "      <th>0</th>\n",
       "      <td>2024-10-21</td>\n",
       "      <td>188.050003</td>\n",
       "      <td>189.460007</td>\n",
       "      <td>186.399994</td>\n",
       "      <td>189.070007</td>\n",
       "      <td>24639400</td>\n",
       "    </tr>\n",
       "    <tr>\n",
       "      <th>1</th>\n",
       "      <td>2024-10-22</td>\n",
       "      <td>188.350006</td>\n",
       "      <td>191.520004</td>\n",
       "      <td>186.979996</td>\n",
       "      <td>189.699997</td>\n",
       "      <td>29650600</td>\n",
       "    </tr>\n",
       "    <tr>\n",
       "      <th>2</th>\n",
       "      <td>2024-10-23</td>\n",
       "      <td>188.850006</td>\n",
       "      <td>189.160004</td>\n",
       "      <td>183.690002</td>\n",
       "      <td>184.710007</td>\n",
       "      <td>31937100</td>\n",
       "    </tr>\n",
       "    <tr>\n",
       "      <th>3</th>\n",
       "      <td>2024-10-24</td>\n",
       "      <td>185.250000</td>\n",
       "      <td>187.110001</td>\n",
       "      <td>183.860001</td>\n",
       "      <td>186.380005</td>\n",
       "      <td>21647400</td>\n",
       "    </tr>\n",
       "    <tr>\n",
       "      <th>4</th>\n",
       "      <td>2024-10-25</td>\n",
       "      <td>187.850006</td>\n",
       "      <td>190.449997</td>\n",
       "      <td>187.529999</td>\n",
       "      <td>187.830002</td>\n",
       "      <td>29362100</td>\n",
       "    </tr>\n",
       "    <tr>\n",
       "      <th>5</th>\n",
       "      <td>2024-10-28</td>\n",
       "      <td>189.570007</td>\n",
       "      <td>190.210007</td>\n",
       "      <td>188.210007</td>\n",
       "      <td>188.389999</td>\n",
       "      <td>27930800</td>\n",
       "    </tr>\n",
       "    <tr>\n",
       "      <th>6</th>\n",
       "      <td>2024-10-29</td>\n",
       "      <td>188.580002</td>\n",
       "      <td>191.460007</td>\n",
       "      <td>187.820007</td>\n",
       "      <td>190.830002</td>\n",
       "      <td>35690200</td>\n",
       "    </tr>\n",
       "    <tr>\n",
       "      <th>7</th>\n",
       "      <td>2024-10-30</td>\n",
       "      <td>194.699997</td>\n",
       "      <td>195.610001</td>\n",
       "      <td>192.419998</td>\n",
       "      <td>192.729996</td>\n",
       "      <td>37707600</td>\n",
       "    </tr>\n",
       "    <tr>\n",
       "      <th>8</th>\n",
       "      <td>2024-10-31</td>\n",
       "      <td>190.509995</td>\n",
       "      <td>190.600006</td>\n",
       "      <td>185.229996</td>\n",
       "      <td>186.399994</td>\n",
       "      <td>75146800</td>\n",
       "    </tr>\n",
       "    <tr>\n",
       "      <th>9</th>\n",
       "      <td>2024-11-01</td>\n",
       "      <td>199.000000</td>\n",
       "      <td>200.500000</td>\n",
       "      <td>197.020004</td>\n",
       "      <td>197.929993</td>\n",
       "      <td>99687800</td>\n",
       "    </tr>\n",
       "    <tr>\n",
       "      <th>10</th>\n",
       "      <td>2024-11-04</td>\n",
       "      <td>196.449997</td>\n",
       "      <td>197.330002</td>\n",
       "      <td>194.309998</td>\n",
       "      <td>195.779999</td>\n",
       "      <td>38492100</td>\n",
       "    </tr>\n",
       "    <tr>\n",
       "      <th>11</th>\n",
       "      <td>2024-11-05</td>\n",
       "      <td>196.039993</td>\n",
       "      <td>199.820007</td>\n",
       "      <td>195.990005</td>\n",
       "      <td>199.500000</td>\n",
       "      <td>30564800</td>\n",
       "    </tr>\n",
       "    <tr>\n",
       "      <th>12</th>\n",
       "      <td>2024-11-06</td>\n",
       "      <td>200.009995</td>\n",
       "      <td>207.550003</td>\n",
       "      <td>199.139999</td>\n",
       "      <td>207.089996</td>\n",
       "      <td>72292200</td>\n",
       "    </tr>\n",
       "    <tr>\n",
       "      <th>13</th>\n",
       "      <td>2024-11-07</td>\n",
       "      <td>207.440002</td>\n",
       "      <td>212.250000</td>\n",
       "      <td>207.190002</td>\n",
       "      <td>210.050003</td>\n",
       "      <td>52878400</td>\n",
       "    </tr>\n",
       "    <tr>\n",
       "      <th>14</th>\n",
       "      <td>2024-11-08</td>\n",
       "      <td>209.720001</td>\n",
       "      <td>209.960007</td>\n",
       "      <td>207.440002</td>\n",
       "      <td>208.179993</td>\n",
       "      <td>36075800</td>\n",
       "    </tr>\n",
       "    <tr>\n",
       "      <th>15</th>\n",
       "      <td>2024-11-11</td>\n",
       "      <td>208.500000</td>\n",
       "      <td>209.649994</td>\n",
       "      <td>205.589996</td>\n",
       "      <td>206.839996</td>\n",
       "      <td>35456000</td>\n",
       "    </tr>\n",
       "    <tr>\n",
       "      <th>16</th>\n",
       "      <td>2024-11-12</td>\n",
       "      <td>208.369995</td>\n",
       "      <td>209.539993</td>\n",
       "      <td>206.009995</td>\n",
       "      <td>208.910004</td>\n",
       "      <td>38942900</td>\n",
       "    </tr>\n",
       "    <tr>\n",
       "      <th>17</th>\n",
       "      <td>2024-11-13</td>\n",
       "      <td>209.399994</td>\n",
       "      <td>215.089996</td>\n",
       "      <td>209.139999</td>\n",
       "      <td>214.100006</td>\n",
       "      <td>46212900</td>\n",
       "    </tr>\n",
       "    <tr>\n",
       "      <th>18</th>\n",
       "      <td>2024-11-14</td>\n",
       "      <td>214.160004</td>\n",
       "      <td>215.899994</td>\n",
       "      <td>210.880005</td>\n",
       "      <td>211.479996</td>\n",
       "      <td>42620300</td>\n",
       "    </tr>\n",
       "    <tr>\n",
       "      <th>19</th>\n",
       "      <td>2024-11-15</td>\n",
       "      <td>206.759995</td>\n",
       "      <td>207.339996</td>\n",
       "      <td>199.610001</td>\n",
       "      <td>202.610001</td>\n",
       "      <td>86591100</td>\n",
       "    </tr>\n",
       "    <tr>\n",
       "      <th>20</th>\n",
       "      <td>2024-11-18</td>\n",
       "      <td>204.149994</td>\n",
       "      <td>204.669998</td>\n",
       "      <td>200.949997</td>\n",
       "      <td>201.699997</td>\n",
       "      <td>36512500</td>\n",
       "    </tr>\n",
       "    <tr>\n",
       "      <th>21</th>\n",
       "      <td>2024-11-19</td>\n",
       "      <td>199.330002</td>\n",
       "      <td>205.300003</td>\n",
       "      <td>198.779999</td>\n",
       "      <td>204.610001</td>\n",
       "      <td>30916900</td>\n",
       "    </tr>\n",
       "  </tbody>\n",
       "</table>\n",
       "</div>"
      ],
      "text/plain": [
       "          Date        Open        High         Low       Close    Volume\n",
       "0   2024-10-21  188.050003  189.460007  186.399994  189.070007  24639400\n",
       "1   2024-10-22  188.350006  191.520004  186.979996  189.699997  29650600\n",
       "2   2024-10-23  188.850006  189.160004  183.690002  184.710007  31937100\n",
       "3   2024-10-24  185.250000  187.110001  183.860001  186.380005  21647400\n",
       "4   2024-10-25  187.850006  190.449997  187.529999  187.830002  29362100\n",
       "5   2024-10-28  189.570007  190.210007  188.210007  188.389999  27930800\n",
       "6   2024-10-29  188.580002  191.460007  187.820007  190.830002  35690200\n",
       "7   2024-10-30  194.699997  195.610001  192.419998  192.729996  37707600\n",
       "8   2024-10-31  190.509995  190.600006  185.229996  186.399994  75146800\n",
       "9   2024-11-01  199.000000  200.500000  197.020004  197.929993  99687800\n",
       "10  2024-11-04  196.449997  197.330002  194.309998  195.779999  38492100\n",
       "11  2024-11-05  196.039993  199.820007  195.990005  199.500000  30564800\n",
       "12  2024-11-06  200.009995  207.550003  199.139999  207.089996  72292200\n",
       "13  2024-11-07  207.440002  212.250000  207.190002  210.050003  52878400\n",
       "14  2024-11-08  209.720001  209.960007  207.440002  208.179993  36075800\n",
       "15  2024-11-11  208.500000  209.649994  205.589996  206.839996  35456000\n",
       "16  2024-11-12  208.369995  209.539993  206.009995  208.910004  38942900\n",
       "17  2024-11-13  209.399994  215.089996  209.139999  214.100006  46212900\n",
       "18  2024-11-14  214.160004  215.899994  210.880005  211.479996  42620300\n",
       "19  2024-11-15  206.759995  207.339996  199.610001  202.610001  86591100\n",
       "20  2024-11-18  204.149994  204.669998  200.949997  201.699997  36512500\n",
       "21  2024-11-19  199.330002  205.300003  198.779999  204.610001  30916900"
      ]
     },
     "execution_count": 50,
     "metadata": {},
     "output_type": "execute_result"
    }
   ],
   "source": [
    "def obtener_datos_limpios(ticker, periodo=\"1mo\"):\n",
    "    stock = yf.Ticker(ticker)\n",
    "    df = stock.history(period=periodo)\n",
    "    columnas_limpias = {\n",
    "        'Open': 'Open',\n",
    "        'High': 'High',\n",
    "        'Low': 'Low',\n",
    "        'Close': 'Close',\n",
    "        'Volume': 'Volume'\n",
    "    }\n",
    "    df = df.rename(columns=columnas_limpias)\n",
    "    df = df.reset_index()\n",
    "    df['Date'] = df['Date'].dt.strftime('%Y-%m-%d')\n",
    "    return df\n",
    "data = obtener_datos_limpios('AMZN', '1mo')\n",
    "data = data.drop(['Dividends', 'Stock Splits'], axis=1)\n",
    "data\n",
    "\n"
   ]
  },
  {
   "cell_type": "code",
   "execution_count": 51,
   "id": "312996e9",
   "metadata": {},
   "outputs": [],
   "source": [
    "data.to_csv('Data_amazon_definitiva.csv', index=False)\n"
   ]
  },
  {
   "cell_type": "code",
   "execution_count": 52,
   "id": "163684c3b6aabc99",
   "metadata": {
    "ExecuteTime": {
     "end_time": "2024-11-20T03:28:31.195475Z",
     "start_time": "2024-11-20T03:28:31.136403Z"
    }
   },
   "outputs": [
    {
     "data": {
      "text/html": [
       "<div>\n",
       "<style scoped>\n",
       "    .dataframe tbody tr th:only-of-type {\n",
       "        vertical-align: middle;\n",
       "    }\n",
       "\n",
       "    .dataframe tbody tr th {\n",
       "        vertical-align: top;\n",
       "    }\n",
       "\n",
       "    .dataframe thead th {\n",
       "        text-align: right;\n",
       "    }\n",
       "</style>\n",
       "<table border=\"1\" class=\"dataframe\">\n",
       "  <thead>\n",
       "    <tr style=\"text-align: right;\">\n",
       "      <th></th>\n",
       "      <th>Date</th>\n",
       "      <th>Open</th>\n",
       "      <th>High</th>\n",
       "      <th>Low</th>\n",
       "      <th>Close</th>\n",
       "      <th>Volume</th>\n",
       "    </tr>\n",
       "  </thead>\n",
       "  <tbody>\n",
       "    <tr>\n",
       "      <th>21</th>\n",
       "      <td>2024-11-19</td>\n",
       "      <td>199.330002</td>\n",
       "      <td>205.300003</td>\n",
       "      <td>198.779999</td>\n",
       "      <td>204.610001</td>\n",
       "      <td>30916900</td>\n",
       "    </tr>\n",
       "  </tbody>\n",
       "</table>\n",
       "</div>"
      ],
      "text/plain": [
       "          Date        Open        High         Low       Close    Volume\n",
       "21  2024-11-19  199.330002  205.300003  198.779999  204.610001  30916900"
      ]
     },
     "execution_count": 52,
     "metadata": {},
     "output_type": "execute_result"
    }
   ],
   "source": [
    "input_data = data.iloc[-1:]\n",
    "input_data"
   ]
  },
  {
   "cell_type": "code",
   "execution_count": 53,
   "id": "ae337b18d439065a",
   "metadata": {
    "ExecuteTime": {
     "end_time": "2024-11-20T03:29:18.518917Z",
     "start_time": "2024-11-20T03:29:18.488775Z"
    }
   },
   "outputs": [
    {
     "data": {
      "text/plain": [
       "Index(['Date', 'Open', 'High', 'Low', 'Close', 'Volume'], dtype='object')"
      ]
     },
     "execution_count": 53,
     "metadata": {},
     "output_type": "execute_result"
    }
   ],
   "source": [
    "data.columns\n",
    "\n"
   ]
  },
  {
   "cell_type": "code",
   "execution_count": 54,
   "id": "73a0894c246e97fb",
   "metadata": {
    "ExecuteTime": {
     "end_time": "2024-11-20T03:29:23.254337Z",
     "start_time": "2024-11-20T03:29:23.232676Z"
    }
   },
   "outputs": [],
   "source": [
    "# Iterar para simular la predicción de cada día adicional\n",
    "precio_inicial = input_data[('Open')]\n"
   ]
  },
  {
   "cell_type": "code",
   "execution_count": 55,
   "id": "749474aaffb2fdb2",
   "metadata": {
    "ExecuteTime": {
     "end_time": "2024-11-20T03:29:24.392847Z",
     "start_time": "2024-11-20T03:29:24.380950Z"
    }
   },
   "outputs": [],
   "source": [
    "cantidad_acciones = capital_inicial / precio_inicial"
   ]
  },
  {
   "cell_type": "code",
   "execution_count": 56,
   "id": "d93dfb8d99bfb662",
   "metadata": {
    "ExecuteTime": {
     "end_time": "2024-11-20T03:30:40.054359Z",
     "start_time": "2024-11-20T03:30:39.804047Z"
    }
   },
   "outputs": [],
   "source": [
    "precio_estimado = model.predict(input_data)"
   ]
  },
  {
   "cell_type": "code",
   "execution_count": 57,
   "id": "361d8cb7-8187-4ecc-9507-61087e1a71ed",
   "metadata": {
    "ExecuteTime": {
     "end_time": "2024-11-20T03:24:20.924165400Z",
     "start_time": "2024-11-20T02:29:21.457631Z"
    }
   },
   "outputs": [
    {
     "data": {
      "text/plain": [
       "21    199.330002\n",
       "Name: Open, dtype: float64"
      ]
     },
     "execution_count": 57,
     "metadata": {},
     "output_type": "execute_result"
    }
   ],
   "source": [
    "precio_inicial"
   ]
  },
  {
   "cell_type": "code",
   "execution_count": 58,
   "id": "f9b548e4-bfa6-4a45-abbb-f2784e34d692",
   "metadata": {},
   "outputs": [
    {
     "data": {
      "text/plain": [
       "21    91.557969\n",
       "Name: Open, dtype: float64"
      ]
     },
     "execution_count": 58,
     "metadata": {},
     "output_type": "execute_result"
    }
   ],
   "source": [
    "precio_siguiente = precio_inicial\n",
    "for _ in range(dias_inversion):\n",
    "    # Calculamos la proporción del precio estimado respecto al precio inicial\n",
    "    proporcion = precio_estimado / precio_inicial\n",
    "    # Actualizamos el precio inicial para el siguiente día\n",
    "    precio_siguiente = precio_siguiente * proporcion\n",
    "    \n",
    "precio_final = precio_siguiente\n",
    "precio_final"
   ]
  },
  {
   "cell_type": "code",
   "execution_count": 59,
   "id": "971e91ca-76b4-4a26-b4fe-a036cbc8f5a9",
   "metadata": {},
   "outputs": [
    {
     "data": {
      "text/plain": [
       "21    4593.285905\n",
       "Name: Open, dtype: float64"
      ]
     },
     "execution_count": 59,
     "metadata": {},
     "output_type": "execute_result"
    }
   ],
   "source": [
    "cantidad_acciones = capital_inicial / precio_inicial\n",
    "capital_final = cantidad_acciones * precio_final\n",
    "capital_final"
   ]
  },
  {
   "cell_type": "code",
   "execution_count": 60,
   "id": "2d6b70aa",
   "metadata": {},
   "outputs": [
    {
     "data": {
      "text/plain": [
       "(10000.0,\n",
       " 21    4593.285905\n",
       " Name: Open, dtype: float64)"
      ]
     },
     "execution_count": 60,
     "metadata": {},
     "output_type": "execute_result"
    }
   ],
   "source": [
    "capital_inicial, capital_final"
   ]
  },
  {
   "cell_type": "code",
   "execution_count": 62,
   "id": "24a4ae1f",
   "metadata": {},
   "outputs": [
    {
     "data": {
      "text/plain": [
       "21    0.459329\n",
       "Name: Open, dtype: float64"
      ]
     },
     "execution_count": 62,
     "metadata": {},
     "output_type": "execute_result"
    }
   ],
   "source": [
    "rendimiento = capital_final/capital_inicial\n",
    "rendimiento"
   ]
  }
 ],
 "metadata": {
  "kernelspec": {
   "display_name": ".venv",
   "language": "python",
   "name": "python3"
  },
  "language_info": {
   "codemirror_mode": {
    "name": "ipython",
    "version": 3
   },
   "file_extension": ".py",
   "mimetype": "text/x-python",
   "name": "python",
   "nbconvert_exporter": "python",
   "pygments_lexer": "ipython3",
   "version": "3.12.3"
  }
 },
 "nbformat": 4,
 "nbformat_minor": 5
}
