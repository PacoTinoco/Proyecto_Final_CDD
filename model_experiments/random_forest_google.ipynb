{
 "cells": [
  {
   "cell_type": "code",
   "outputs": [],
   "source": [
    "from sklearn.model_selection import train_test_split\n",
    "import pandas as pd\n",
    "import matplotlib.pyplot as plt\n",
    "import seaborn as sns\n",
    "import yfinance as yf\n",
    "from sklearn.metrics import  root_mean_squared_error\n",
    "from sklearn.feature_extraction import  DictVectorizer\n",
    "from sklearn.linear_model import Lasso, Ridge, LinearRegression\n",
    "from sklearn.ensemble import RandomForestRegressor\n",
    "from sklearn.metrics import mean_squared_error\n",
    "from hyperopt import fmin, tpe, hp, STATUS_OK, Trials\n",
    "import numpy as np\n",
    "import mlflow"
   ],
   "metadata": {
    "collapsed": false,
    "ExecuteTime": {
     "end_time": "2024-11-16T00:48:56.137626Z",
     "start_time": "2024-11-16T00:48:52.035957Z"
    }
   },
   "id": "7a289573112f81c2",
   "execution_count": 1
  },
  {
   "cell_type": "code",
   "outputs": [
    {
     "name": "stderr",
     "output_type": "stream",
     "text": [
      "[*********************100%***********************]  1 of 1 completed\n"
     ]
    }
   ],
   "source": [
    "google_stock = yf.download('GOOGL', start='2015-01-01', end='2024-01-01')"
   ],
   "metadata": {
    "collapsed": false,
    "ExecuteTime": {
     "end_time": "2024-11-16T00:49:03.894935800Z",
     "start_time": "2024-11-16T00:49:02.679665800Z"
    }
   },
   "id": "f2a5f961e60b7443",
   "execution_count": 2
  },
  {
   "cell_type": "code",
   "outputs": [
    {
     "name": "stdout",
     "output_type": "stream",
     "text": [
      "Tamaño del conjunto de entrenamiento: (1811, 5) (1811,)\n",
      "Tamaño del conjunto de prueba: (453, 5) (453,)\n"
     ]
    }
   ],
   "source": [
    "# Definir X e y\n",
    "X = google_stock.drop(columns=[\"Close\"])\n",
    "y = google_stock[\"Close\"]\n",
    "\n",
    "\n",
    "# Dividir en entrenamiento y prueba (80% entrenamiento, 20% prueba)\n",
    "X_train, X_val, y_train, y_val = train_test_split(X, y, test_size=0.2, random_state=42)\n",
    "\n",
    "print(\"Tamaño del conjunto de entrenamiento:\", X_train.shape, y_train.shape)\n",
    "print(\"Tamaño del conjunto de prueba:\", X_val.shape, y_val.shape)\n"
   ],
   "metadata": {
    "collapsed": false,
    "ExecuteTime": {
     "end_time": "2024-11-07T20:26:52.679438700Z",
     "start_time": "2024-11-07T20:26:52.666821100Z"
    }
   },
   "id": "d1267a95a3775693",
   "execution_count": 12
  },
  {
   "cell_type": "code",
   "outputs": [],
   "source": [],
   "metadata": {
    "collapsed": false,
    "ExecuteTime": {
     "end_time": "2024-11-07T20:26:58.674562300Z",
     "start_time": "2024-11-07T20:26:58.669460Z"
    }
   },
   "id": "d6d7e237bf485c7f",
   "execution_count": 13
  },
  {
   "cell_type": "code",
   "outputs": [
    {
     "data": {
      "text/plain": "Initialized MLflow to track repo \u001B[32m\"PacoTinoco/Proyecto_Final_CDD\"\u001B[0m\n",
      "text/html": "<pre style=\"white-space:pre;overflow-x:auto;line-height:normal;font-family:Menlo,'DejaVu Sans Mono',consolas,'Courier New',monospace\">Initialized MLflow to track repo <span style=\"color: #008000; text-decoration-color: #008000\">\"PacoTinoco/Proyecto_Final_CDD\"</span>\n</pre>\n"
     },
     "metadata": {},
     "output_type": "display_data"
    },
    {
     "data": {
      "text/plain": "Repository PacoTinoco/Proyecto_Final_CDD initialized!\n",
      "text/html": "<pre style=\"white-space:pre;overflow-x:auto;line-height:normal;font-family:Menlo,'DejaVu Sans Mono',consolas,'Courier New',monospace\">Repository PacoTinoco/Proyecto_Final_CDD initialized!\n</pre>\n"
     },
     "metadata": {},
     "output_type": "display_data"
    },
    {
     "name": "stdout",
     "output_type": "stream",
     "text": [
      "https://dagshub.com/PacoTinoco/Proyecto_Final_CDD.mlflow\n"
     ]
    },
    {
     "name": "stderr",
     "output_type": "stream",
     "text": [
      "2024/11/07 15:56:46 INFO mlflow.tracking.fluent: Experiment with name 'google-stock-model-randomforest' does not exist. Creating a new experiment.\n"
     ]
    },
    {
     "data": {
      "text/plain": "<Experiment: artifact_location='mlflow-artifacts:/62536d2f603e4621b047d552ffc80167', creation_time=1731016605756, experiment_id='4', last_update_time=1731016605756, lifecycle_stage='active', name='google-stock-model-randomforest', tags={}>"
     },
     "execution_count": 25,
     "metadata": {},
     "output_type": "execute_result"
    }
   ],
   "source": [
    "import dagshub\n",
    "import mlflow\n",
    "dagshub.init(url=\"https://dagshub.com/PacoTinoco/Proyecto_Final_CDD\", mlflow=True)\n",
    "\n",
    "MLFLOW_TRACKING_URI = mlflow.get_tracking_uri()\n",
    "\n",
    "print(MLFLOW_TRACKING_URI)\n",
    "\n",
    "mlflow.set_tracking_uri(MLFLOW_TRACKING_URI)\n",
    "mlflow.set_experiment(experiment_name=\"google-stock-model-randomforest\")"
   ],
   "metadata": {
    "collapsed": false,
    "ExecuteTime": {
     "end_time": "2024-11-07T21:56:47.816221800Z",
     "start_time": "2024-11-07T21:56:26.060014800Z"
    }
   },
   "id": "8049c1c0cb3e35db",
   "execution_count": 25
  },
  {
   "cell_type": "code",
   "outputs": [
    {
     "name": "stderr",
     "output_type": "stream",
     "text": [
      "2024/11/07 15:57:09 WARNING mlflow.utils.autologging_utils: MLflow sklearn autologging is known to be compatible with 0.24.1 <= scikit-learn <= 1.5.1, but the installed version is 1.5.2. If you encounter errors during autologging, try upgrading / downgrading scikit-learn to a compatible version, or try upgrading MLflow.\n"
     ]
    },
    {
     "name": "stdout",
     "output_type": "stream",
     "text": [
      "  0%|          | 0/10 [00:00<?, ?trial/s, best loss=?]"
     ]
    },
    {
     "name": "stderr",
     "output_type": "stream",
     "text": [
      "2024/11/07 15:57:12 WARNING mlflow.utils.autologging_utils: MLflow autologging encountered a warning: \"C:\\Users\\Francisco\\PycharmProjects\\Proyecto_Final_CDD\\.venv\\Lib\\site-packages\\mlflow\\types\\utils.py:407: UserWarning: Hint: Inferred schema contains integer column(s). Integer columns in Python cannot represent missing values. If your input data contains missing values at inference time, it will be encoded as floats and will cause a schema enforcement error. The best way to avoid this problem is to infer the model schema based on a realistic data sample (training dataset) that includes missing values. Alternatively, you can declare integer columns as doubles (float64) whenever these columns may have missing values. See `Handling Integers With Missing Values <https://www.mlflow.org/docs/latest/models.html#handling-integers-with-missing-values>`_ for more details.\"\n",
      "\n",
      "2024/11/07 15:57:13 WARNING mlflow.utils.autologging_utils: MLflow autologging encountered a warning: \"C:\\Users\\Francisco\\PycharmProjects\\Proyecto_Final_CDD\\.venv\\Lib\\site-packages\\mlflow\\types\\utils.py:407: UserWarning: Hint: Inferred schema contains integer column(s). Integer columns in Python cannot represent missing values. If your input data contains missing values at inference time, it will be encoded as floats and will cause a schema enforcement error. The best way to avoid this problem is to infer the model schema based on a realistic data sample (training dataset) that includes missing values. Alternatively, you can declare integer columns as doubles (float64) whenever these columns may have missing values. See `Handling Integers With Missing Values <https://www.mlflow.org/docs/latest/models.html#handling-integers-with-missing-values>`_ for more details.\"\n",
      "\n",
      "2024/11/07 15:57:37 WARNING mlflow.utils.autologging_utils: Encountered unexpected error during sklearn autologging: The following failures occurred while performing one or more logging operations: [MlflowException('Failed to perform one or more operations on the run with ID 2bcbe321f99041a7a64caa6b2e6625c8. Failed operations: [RestException(\"INVALID_PARAMETER_VALUE: Response: {\\'error_code\\': \\'INVALID_PARAMETER_VALUE\\'}\")]')]\n",
      "\n",
      "2024/11/07 15:57:38 INFO mlflow.tracking._tracking_service.client: 🏃 View run bustling-frog-744 at: https://dagshub.com/PacoTinoco/Proyecto_Final_CDD.mlflow/#/experiments/4/runs/2bcbe321f99041a7a64caa6b2e6625c8.\n",
      "\n",
      "2024/11/07 15:57:38 INFO mlflow.tracking._tracking_service.client: 🧪 View experiment at: https://dagshub.com/PacoTinoco/Proyecto_Final_CDD.mlflow/#/experiments/4.\n",
      "\n"
     ]
    },
    {
     "name": "stdout",
     "output_type": "stream",
     "text": [
      " 10%|█         | 1/10 [00:28<04:17, 28.64s/trial, best loss: 0.12185739266325228]"
     ]
    },
    {
     "name": "stderr",
     "output_type": "stream",
     "text": [
      "2024/11/07 15:57:38 WARNING mlflow.utils.autologging_utils: MLflow autologging encountered a warning: \"C:\\Users\\Francisco\\PycharmProjects\\Proyecto_Final_CDD\\.venv\\Lib\\site-packages\\mlflow\\types\\utils.py:407: UserWarning: Hint: Inferred schema contains integer column(s). Integer columns in Python cannot represent missing values. If your input data contains missing values at inference time, it will be encoded as floats and will cause a schema enforcement error. The best way to avoid this problem is to infer the model schema based on a realistic data sample (training dataset) that includes missing values. Alternatively, you can declare integer columns as doubles (float64) whenever these columns may have missing values. See `Handling Integers With Missing Values <https://www.mlflow.org/docs/latest/models.html#handling-integers-with-missing-values>`_ for more details.\"\n",
      "\n",
      "2024/11/07 15:57:59 WARNING mlflow.utils.autologging_utils: MLflow autologging encountered a warning: \"C:\\Users\\Francisco\\PycharmProjects\\Proyecto_Final_CDD\\.venv\\Lib\\site-packages\\mlflow\\types\\utils.py:407: UserWarning: Hint: Inferred schema contains integer column(s). Integer columns in Python cannot represent missing values. If your input data contains missing values at inference time, it will be encoded as floats and will cause a schema enforcement error. The best way to avoid this problem is to infer the model schema based on a realistic data sample (training dataset) that includes missing values. Alternatively, you can declare integer columns as doubles (float64) whenever these columns may have missing values. See `Handling Integers With Missing Values <https://www.mlflow.org/docs/latest/models.html#handling-integers-with-missing-values>`_ for more details.\"\n",
      "\n",
      "2024/11/07 15:58:07 WARNING mlflow.utils.autologging_utils: Encountered unexpected error during sklearn autologging: The following failures occurred while performing one or more logging operations: [MlflowException('Failed to perform one or more operations on the run with ID 3f8554d9ba134baca694492292d2ab43. Failed operations: [RestException(\"INVALID_PARAMETER_VALUE: Response: {\\'error_code\\': \\'INVALID_PARAMETER_VALUE\\'}\")]')]\n",
      "\n",
      "2024/11/07 15:58:07 INFO mlflow.tracking._tracking_service.client: 🏃 View run able-carp-810 at: https://dagshub.com/PacoTinoco/Proyecto_Final_CDD.mlflow/#/experiments/4/runs/3f8554d9ba134baca694492292d2ab43.\n",
      "\n",
      "2024/11/07 15:58:07 INFO mlflow.tracking._tracking_service.client: 🧪 View experiment at: https://dagshub.com/PacoTinoco/Proyecto_Final_CDD.mlflow/#/experiments/4.\n",
      "\n"
     ]
    },
    {
     "name": "stdout",
     "output_type": "stream",
     "text": [
      " 20%|██        | 2/10 [00:57<03:52, 29.03s/trial, best loss: 0.12185739266325228]"
     ]
    },
    {
     "name": "stderr",
     "output_type": "stream",
     "text": [
      "2024/11/07 15:58:08 WARNING mlflow.utils.autologging_utils: MLflow autologging encountered a warning: \"C:\\Users\\Francisco\\PycharmProjects\\Proyecto_Final_CDD\\.venv\\Lib\\site-packages\\mlflow\\types\\utils.py:407: UserWarning: Hint: Inferred schema contains integer column(s). Integer columns in Python cannot represent missing values. If your input data contains missing values at inference time, it will be encoded as floats and will cause a schema enforcement error. The best way to avoid this problem is to infer the model schema based on a realistic data sample (training dataset) that includes missing values. Alternatively, you can declare integer columns as doubles (float64) whenever these columns may have missing values. See `Handling Integers With Missing Values <https://www.mlflow.org/docs/latest/models.html#handling-integers-with-missing-values>`_ for more details.\"\n",
      "\n",
      "2024/11/07 15:58:10 WARNING mlflow.utils.autologging_utils: MLflow autologging encountered a warning: \"C:\\Users\\Francisco\\PycharmProjects\\Proyecto_Final_CDD\\.venv\\Lib\\site-packages\\mlflow\\types\\utils.py:407: UserWarning: Hint: Inferred schema contains integer column(s). Integer columns in Python cannot represent missing values. If your input data contains missing values at inference time, it will be encoded as floats and will cause a schema enforcement error. The best way to avoid this problem is to infer the model schema based on a realistic data sample (training dataset) that includes missing values. Alternatively, you can declare integer columns as doubles (float64) whenever these columns may have missing values. See `Handling Integers With Missing Values <https://www.mlflow.org/docs/latest/models.html#handling-integers-with-missing-values>`_ for more details.\"\n",
      "\n",
      "2024/11/07 15:58:17 WARNING mlflow.utils.autologging_utils: Encountered unexpected error during sklearn autologging: The following failures occurred while performing one or more logging operations: [MlflowException('Failed to perform one or more operations on the run with ID 7471e707a29e449383a2e9cd4ee8a0de. Failed operations: [RestException(\"INVALID_PARAMETER_VALUE: Response: {\\'error_code\\': \\'INVALID_PARAMETER_VALUE\\'}\")]')]\n",
      "\n",
      "2024/11/07 15:58:19 INFO mlflow.tracking._tracking_service.client: 🏃 View run angry-conch-350 at: https://dagshub.com/PacoTinoco/Proyecto_Final_CDD.mlflow/#/experiments/4/runs/7471e707a29e449383a2e9cd4ee8a0de.\n",
      "\n",
      "2024/11/07 15:58:19 INFO mlflow.tracking._tracking_service.client: 🧪 View experiment at: https://dagshub.com/PacoTinoco/Proyecto_Final_CDD.mlflow/#/experiments/4.\n",
      "\n"
     ]
    },
    {
     "name": "stdout",
     "output_type": "stream",
     "text": [
      " 30%|███       | 3/10 [01:10<02:30, 21.46s/trial, best loss: 0.12185739266325228]"
     ]
    },
    {
     "name": "stderr",
     "output_type": "stream",
     "text": [
      "2024/11/07 15:58:23 WARNING mlflow.utils.autologging_utils: MLflow autologging encountered a warning: \"C:\\Users\\Francisco\\PycharmProjects\\Proyecto_Final_CDD\\.venv\\Lib\\site-packages\\mlflow\\types\\utils.py:407: UserWarning: Hint: Inferred schema contains integer column(s). Integer columns in Python cannot represent missing values. If your input data contains missing values at inference time, it will be encoded as floats and will cause a schema enforcement error. The best way to avoid this problem is to infer the model schema based on a realistic data sample (training dataset) that includes missing values. Alternatively, you can declare integer columns as doubles (float64) whenever these columns may have missing values. See `Handling Integers With Missing Values <https://www.mlflow.org/docs/latest/models.html#handling-integers-with-missing-values>`_ for more details.\"\n",
      "\n",
      "2024/11/07 15:58:27 WARNING mlflow.utils.autologging_utils: MLflow autologging encountered a warning: \"C:\\Users\\Francisco\\PycharmProjects\\Proyecto_Final_CDD\\.venv\\Lib\\site-packages\\mlflow\\types\\utils.py:407: UserWarning: Hint: Inferred schema contains integer column(s). Integer columns in Python cannot represent missing values. If your input data contains missing values at inference time, it will be encoded as floats and will cause a schema enforcement error. The best way to avoid this problem is to infer the model schema based on a realistic data sample (training dataset) that includes missing values. Alternatively, you can declare integer columns as doubles (float64) whenever these columns may have missing values. See `Handling Integers With Missing Values <https://www.mlflow.org/docs/latest/models.html#handling-integers-with-missing-values>`_ for more details.\"\n",
      "\n",
      "2024/11/07 15:58:36 WARNING mlflow.utils.autologging_utils: Encountered unexpected error during sklearn autologging: The following failures occurred while performing one or more logging operations: [MlflowException('Failed to perform one or more operations on the run with ID 69021990adff43aaa0a8657a4c652c01. Failed operations: [RestException(\"INVALID_PARAMETER_VALUE: Response: {\\'error_code\\': \\'INVALID_PARAMETER_VALUE\\'}\")]')]\n",
      "\n",
      "2024/11/07 15:58:36 INFO mlflow.tracking._tracking_service.client: 🏃 View run blushing-sow-818 at: https://dagshub.com/PacoTinoco/Proyecto_Final_CDD.mlflow/#/experiments/4/runs/69021990adff43aaa0a8657a4c652c01.\n",
      "\n",
      "2024/11/07 15:58:36 INFO mlflow.tracking._tracking_service.client: 🧪 View experiment at: https://dagshub.com/PacoTinoco/Proyecto_Final_CDD.mlflow/#/experiments/4.\n",
      "\n"
     ]
    },
    {
     "name": "stdout",
     "output_type": "stream",
     "text": [
      " 40%|████      | 4/10 [01:27<01:58, 19.70s/trial, best loss: 0.12185739266325228]"
     ]
    },
    {
     "name": "stderr",
     "output_type": "stream",
     "text": [
      "2024/11/07 15:58:40 WARNING mlflow.utils.autologging_utils: MLflow autologging encountered a warning: \"C:\\Users\\Francisco\\PycharmProjects\\Proyecto_Final_CDD\\.venv\\Lib\\site-packages\\mlflow\\types\\utils.py:407: UserWarning: Hint: Inferred schema contains integer column(s). Integer columns in Python cannot represent missing values. If your input data contains missing values at inference time, it will be encoded as floats and will cause a schema enforcement error. The best way to avoid this problem is to infer the model schema based on a realistic data sample (training dataset) that includes missing values. Alternatively, you can declare integer columns as doubles (float64) whenever these columns may have missing values. See `Handling Integers With Missing Values <https://www.mlflow.org/docs/latest/models.html#handling-integers-with-missing-values>`_ for more details.\"\n",
      "\n",
      "2024/11/07 15:58:44 WARNING mlflow.utils.autologging_utils: MLflow autologging encountered a warning: \"C:\\Users\\Francisco\\PycharmProjects\\Proyecto_Final_CDD\\.venv\\Lib\\site-packages\\mlflow\\types\\utils.py:407: UserWarning: Hint: Inferred schema contains integer column(s). Integer columns in Python cannot represent missing values. If your input data contains missing values at inference time, it will be encoded as floats and will cause a schema enforcement error. The best way to avoid this problem is to infer the model schema based on a realistic data sample (training dataset) that includes missing values. Alternatively, you can declare integer columns as doubles (float64) whenever these columns may have missing values. See `Handling Integers With Missing Values <https://www.mlflow.org/docs/latest/models.html#handling-integers-with-missing-values>`_ for more details.\"\n",
      "\n",
      "2024/11/07 15:58:51 WARNING mlflow.utils.autologging_utils: Encountered unexpected error during sklearn autologging: The following failures occurred while performing one or more logging operations: [MlflowException('Failed to perform one or more operations on the run with ID dbcd71aa20904afdabfdc3ea82e09e94. Failed operations: [RestException(\"INVALID_PARAMETER_VALUE: Response: {\\'error_code\\': \\'INVALID_PARAMETER_VALUE\\'}\")]')]\n",
      "\n",
      "2024/11/07 15:58:53 INFO mlflow.tracking._tracking_service.client: 🏃 View run selective-quail-528 at: https://dagshub.com/PacoTinoco/Proyecto_Final_CDD.mlflow/#/experiments/4/runs/dbcd71aa20904afdabfdc3ea82e09e94.\n",
      "\n",
      "2024/11/07 15:58:53 INFO mlflow.tracking._tracking_service.client: 🧪 View experiment at: https://dagshub.com/PacoTinoco/Proyecto_Final_CDD.mlflow/#/experiments/4.\n",
      "\n"
     ]
    },
    {
     "name": "stdout",
     "output_type": "stream",
     "text": [
      " 50%|█████     | 5/10 [01:44<01:33, 18.77s/trial, best loss: 0.12185739266325228]"
     ]
    },
    {
     "name": "stderr",
     "output_type": "stream",
     "text": [
      "2024/11/07 15:58:57 WARNING mlflow.utils.autologging_utils: MLflow autologging encountered a warning: \"C:\\Users\\Francisco\\PycharmProjects\\Proyecto_Final_CDD\\.venv\\Lib\\site-packages\\mlflow\\types\\utils.py:407: UserWarning: Hint: Inferred schema contains integer column(s). Integer columns in Python cannot represent missing values. If your input data contains missing values at inference time, it will be encoded as floats and will cause a schema enforcement error. The best way to avoid this problem is to infer the model schema based on a realistic data sample (training dataset) that includes missing values. Alternatively, you can declare integer columns as doubles (float64) whenever these columns may have missing values. See `Handling Integers With Missing Values <https://www.mlflow.org/docs/latest/models.html#handling-integers-with-missing-values>`_ for more details.\"\n",
      "\n",
      "2024/11/07 15:59:01 WARNING mlflow.utils.autologging_utils: MLflow autologging encountered a warning: \"C:\\Users\\Francisco\\PycharmProjects\\Proyecto_Final_CDD\\.venv\\Lib\\site-packages\\mlflow\\types\\utils.py:407: UserWarning: Hint: Inferred schema contains integer column(s). Integer columns in Python cannot represent missing values. If your input data contains missing values at inference time, it will be encoded as floats and will cause a schema enforcement error. The best way to avoid this problem is to infer the model schema based on a realistic data sample (training dataset) that includes missing values. Alternatively, you can declare integer columns as doubles (float64) whenever these columns may have missing values. See `Handling Integers With Missing Values <https://www.mlflow.org/docs/latest/models.html#handling-integers-with-missing-values>`_ for more details.\"\n",
      "\n",
      "2024/11/07 15:59:11 WARNING mlflow.utils.autologging_utils: Encountered unexpected error during sklearn autologging: The following failures occurred while performing one or more logging operations: [MlflowException('Failed to perform one or more operations on the run with ID 0e5a71be4743453cb99f7301eeb226ea. Failed operations: [RestException(\"INVALID_PARAMETER_VALUE: Response: {\\'error_code\\': \\'INVALID_PARAMETER_VALUE\\'}\")]')]\n",
      "\n",
      "2024/11/07 15:59:12 INFO mlflow.tracking._tracking_service.client: 🏃 View run bemused-midge-798 at: https://dagshub.com/PacoTinoco/Proyecto_Final_CDD.mlflow/#/experiments/4/runs/0e5a71be4743453cb99f7301eeb226ea.\n",
      "\n",
      "2024/11/07 15:59:12 INFO mlflow.tracking._tracking_service.client: 🧪 View experiment at: https://dagshub.com/PacoTinoco/Proyecto_Final_CDD.mlflow/#/experiments/4.\n",
      "\n"
     ]
    },
    {
     "name": "stdout",
     "output_type": "stream",
     "text": [
      " 60%|██████    | 6/10 [02:02<01:14, 18.63s/trial, best loss: 0.12185739266325228]"
     ]
    },
    {
     "name": "stderr",
     "output_type": "stream",
     "text": [
      "2024/11/07 15:59:14 WARNING mlflow.utils.autologging_utils: MLflow autologging encountered a warning: \"C:\\Users\\Francisco\\PycharmProjects\\Proyecto_Final_CDD\\.venv\\Lib\\site-packages\\mlflow\\types\\utils.py:407: UserWarning: Hint: Inferred schema contains integer column(s). Integer columns in Python cannot represent missing values. If your input data contains missing values at inference time, it will be encoded as floats and will cause a schema enforcement error. The best way to avoid this problem is to infer the model schema based on a realistic data sample (training dataset) that includes missing values. Alternatively, you can declare integer columns as doubles (float64) whenever these columns may have missing values. See `Handling Integers With Missing Values <https://www.mlflow.org/docs/latest/models.html#handling-integers-with-missing-values>`_ for more details.\"\n",
      "\n",
      "2024/11/07 15:59:18 WARNING mlflow.utils.autologging_utils: MLflow autologging encountered a warning: \"C:\\Users\\Francisco\\PycharmProjects\\Proyecto_Final_CDD\\.venv\\Lib\\site-packages\\mlflow\\types\\utils.py:407: UserWarning: Hint: Inferred schema contains integer column(s). Integer columns in Python cannot represent missing values. If your input data contains missing values at inference time, it will be encoded as floats and will cause a schema enforcement error. The best way to avoid this problem is to infer the model schema based on a realistic data sample (training dataset) that includes missing values. Alternatively, you can declare integer columns as doubles (float64) whenever these columns may have missing values. See `Handling Integers With Missing Values <https://www.mlflow.org/docs/latest/models.html#handling-integers-with-missing-values>`_ for more details.\"\n",
      "\n",
      "2024/11/07 15:59:26 WARNING mlflow.utils.autologging_utils: Encountered unexpected error during sklearn autologging: The following failures occurred while performing one or more logging operations: [MlflowException('Failed to perform one or more operations on the run with ID 73c32174c7054a21992864d7116dab31. Failed operations: [RestException(\"INVALID_PARAMETER_VALUE: Response: {\\'error_code\\': \\'INVALID_PARAMETER_VALUE\\'}\")]')]\n",
      "\n",
      "2024/11/07 15:59:27 INFO mlflow.tracking._tracking_service.client: 🏃 View run likeable-smelt-417 at: https://dagshub.com/PacoTinoco/Proyecto_Final_CDD.mlflow/#/experiments/4/runs/73c32174c7054a21992864d7116dab31.\n",
      "\n",
      "2024/11/07 15:59:27 INFO mlflow.tracking._tracking_service.client: 🧪 View experiment at: https://dagshub.com/PacoTinoco/Proyecto_Final_CDD.mlflow/#/experiments/4.\n",
      "\n"
     ]
    },
    {
     "name": "stdout",
     "output_type": "stream",
     "text": [
      " 70%|███████   | 7/10 [02:18<00:52, 17.65s/trial, best loss: 0.12185739266325228]"
     ]
    },
    {
     "name": "stderr",
     "output_type": "stream",
     "text": [
      "2024/11/07 15:59:31 WARNING mlflow.utils.autologging_utils: MLflow autologging encountered a warning: \"C:\\Users\\Francisco\\PycharmProjects\\Proyecto_Final_CDD\\.venv\\Lib\\site-packages\\mlflow\\types\\utils.py:407: UserWarning: Hint: Inferred schema contains integer column(s). Integer columns in Python cannot represent missing values. If your input data contains missing values at inference time, it will be encoded as floats and will cause a schema enforcement error. The best way to avoid this problem is to infer the model schema based on a realistic data sample (training dataset) that includes missing values. Alternatively, you can declare integer columns as doubles (float64) whenever these columns may have missing values. See `Handling Integers With Missing Values <https://www.mlflow.org/docs/latest/models.html#handling-integers-with-missing-values>`_ for more details.\"\n",
      "\n",
      "2024/11/07 15:59:35 WARNING mlflow.utils.autologging_utils: MLflow autologging encountered a warning: \"C:\\Users\\Francisco\\PycharmProjects\\Proyecto_Final_CDD\\.venv\\Lib\\site-packages\\mlflow\\types\\utils.py:407: UserWarning: Hint: Inferred schema contains integer column(s). Integer columns in Python cannot represent missing values. If your input data contains missing values at inference time, it will be encoded as floats and will cause a schema enforcement error. The best way to avoid this problem is to infer the model schema based on a realistic data sample (training dataset) that includes missing values. Alternatively, you can declare integer columns as doubles (float64) whenever these columns may have missing values. See `Handling Integers With Missing Values <https://www.mlflow.org/docs/latest/models.html#handling-integers-with-missing-values>`_ for more details.\"\n",
      "\n",
      "2024/11/07 15:59:45 WARNING mlflow.utils.autologging_utils: Encountered unexpected error during sklearn autologging: The following failures occurred while performing one or more logging operations: [MlflowException('Failed to perform one or more operations on the run with ID 48d0c28be48243aa9e37488867194a27. Failed operations: [RestException(\"INVALID_PARAMETER_VALUE: Response: {\\'error_code\\': \\'INVALID_PARAMETER_VALUE\\'}\")]')]\n",
      "\n",
      "2024/11/07 15:59:46 INFO mlflow.tracking._tracking_service.client: 🏃 View run invincible-shad-582 at: https://dagshub.com/PacoTinoco/Proyecto_Final_CDD.mlflow/#/experiments/4/runs/48d0c28be48243aa9e37488867194a27.\n",
      "\n",
      "2024/11/07 15:59:46 INFO mlflow.tracking._tracking_service.client: 🧪 View experiment at: https://dagshub.com/PacoTinoco/Proyecto_Final_CDD.mlflow/#/experiments/4.\n",
      "\n"
     ]
    },
    {
     "name": "stdout",
     "output_type": "stream",
     "text": [
      " 80%|████████  | 8/10 [02:36<00:35, 17.82s/trial, best loss: 0.12185739266325228]"
     ]
    },
    {
     "name": "stderr",
     "output_type": "stream",
     "text": [
      "2024/11/07 15:59:48 WARNING mlflow.utils.autologging_utils: MLflow autologging encountered a warning: \"C:\\Users\\Francisco\\PycharmProjects\\Proyecto_Final_CDD\\.venv\\Lib\\site-packages\\mlflow\\types\\utils.py:407: UserWarning: Hint: Inferred schema contains integer column(s). Integer columns in Python cannot represent missing values. If your input data contains missing values at inference time, it will be encoded as floats and will cause a schema enforcement error. The best way to avoid this problem is to infer the model schema based on a realistic data sample (training dataset) that includes missing values. Alternatively, you can declare integer columns as doubles (float64) whenever these columns may have missing values. See `Handling Integers With Missing Values <https://www.mlflow.org/docs/latest/models.html#handling-integers-with-missing-values>`_ for more details.\"\n",
      "\n",
      "2024/11/07 15:59:52 WARNING mlflow.utils.autologging_utils: MLflow autologging encountered a warning: \"C:\\Users\\Francisco\\PycharmProjects\\Proyecto_Final_CDD\\.venv\\Lib\\site-packages\\mlflow\\types\\utils.py:407: UserWarning: Hint: Inferred schema contains integer column(s). Integer columns in Python cannot represent missing values. If your input data contains missing values at inference time, it will be encoded as floats and will cause a schema enforcement error. The best way to avoid this problem is to infer the model schema based on a realistic data sample (training dataset) that includes missing values. Alternatively, you can declare integer columns as doubles (float64) whenever these columns may have missing values. See `Handling Integers With Missing Values <https://www.mlflow.org/docs/latest/models.html#handling-integers-with-missing-values>`_ for more details.\"\n",
      "\n",
      "2024/11/07 16:00:02 WARNING mlflow.utils.autologging_utils: Encountered unexpected error during sklearn autologging: The following failures occurred while performing one or more logging operations: [MlflowException('Failed to perform one or more operations on the run with ID 58deb5dc75fd45c6b7e890fbc68d30b4. Failed operations: [RestException(\"INVALID_PARAMETER_VALUE: Response: {\\'error_code\\': \\'INVALID_PARAMETER_VALUE\\'}\")]')]\n",
      "\n",
      "2024/11/07 16:00:02 INFO mlflow.tracking._tracking_service.client: 🏃 View run powerful-auk-183 at: https://dagshub.com/PacoTinoco/Proyecto_Final_CDD.mlflow/#/experiments/4/runs/58deb5dc75fd45c6b7e890fbc68d30b4.\n",
      "\n",
      "2024/11/07 16:00:02 INFO mlflow.tracking._tracking_service.client: 🧪 View experiment at: https://dagshub.com/PacoTinoco/Proyecto_Final_CDD.mlflow/#/experiments/4.\n",
      "\n"
     ]
    },
    {
     "name": "stdout",
     "output_type": "stream",
     "text": [
      " 90%|█████████ | 9/10 [02:53<00:17, 17.47s/trial, best loss: 0.12185739266325228]"
     ]
    },
    {
     "name": "stderr",
     "output_type": "stream",
     "text": [
      "2024/11/07 16:00:05 WARNING mlflow.utils.autologging_utils: MLflow autologging encountered a warning: \"C:\\Users\\Francisco\\PycharmProjects\\Proyecto_Final_CDD\\.venv\\Lib\\site-packages\\mlflow\\types\\utils.py:407: UserWarning: Hint: Inferred schema contains integer column(s). Integer columns in Python cannot represent missing values. If your input data contains missing values at inference time, it will be encoded as floats and will cause a schema enforcement error. The best way to avoid this problem is to infer the model schema based on a realistic data sample (training dataset) that includes missing values. Alternatively, you can declare integer columns as doubles (float64) whenever these columns may have missing values. See `Handling Integers With Missing Values <https://www.mlflow.org/docs/latest/models.html#handling-integers-with-missing-values>`_ for more details.\"\n",
      "\n",
      "2024/11/07 16:00:09 WARNING mlflow.utils.autologging_utils: MLflow autologging encountered a warning: \"C:\\Users\\Francisco\\PycharmProjects\\Proyecto_Final_CDD\\.venv\\Lib\\site-packages\\mlflow\\types\\utils.py:407: UserWarning: Hint: Inferred schema contains integer column(s). Integer columns in Python cannot represent missing values. If your input data contains missing values at inference time, it will be encoded as floats and will cause a schema enforcement error. The best way to avoid this problem is to infer the model schema based on a realistic data sample (training dataset) that includes missing values. Alternatively, you can declare integer columns as doubles (float64) whenever these columns may have missing values. See `Handling Integers With Missing Values <https://www.mlflow.org/docs/latest/models.html#handling-integers-with-missing-values>`_ for more details.\"\n",
      "\n",
      "2024/11/07 16:00:17 WARNING mlflow.utils.autologging_utils: Encountered unexpected error during sklearn autologging: The following failures occurred while performing one or more logging operations: [MlflowException('Failed to perform one or more operations on the run with ID 217b931773254cc1b62484ef7cf73e15. Failed operations: [RestException(\"INVALID_PARAMETER_VALUE: Response: {\\'error_code\\': \\'INVALID_PARAMETER_VALUE\\'}\")]')]\n",
      "\n",
      "2024/11/07 16:00:18 INFO mlflow.tracking._tracking_service.client: 🏃 View run delicate-grouse-14 at: https://dagshub.com/PacoTinoco/Proyecto_Final_CDD.mlflow/#/experiments/4/runs/217b931773254cc1b62484ef7cf73e15.\n",
      "\n",
      "2024/11/07 16:00:18 INFO mlflow.tracking._tracking_service.client: 🧪 View experiment at: https://dagshub.com/PacoTinoco/Proyecto_Final_CDD.mlflow/#/experiments/4.\n",
      "\n"
     ]
    },
    {
     "name": "stdout",
     "output_type": "stream",
     "text": [
      "100%|██████████| 10/10 [03:09<00:00, 18.97s/trial, best loss: 0.12185739266325228]\n"
     ]
    },
    {
     "name": "stderr",
     "output_type": "stream",
     "text": [
      "2024/11/07 16:00:21 INFO mlflow.tracking._tracking_service.client: 🏃 View run Parent Random Forest at: https://dagshub.com/PacoTinoco/Proyecto_Final_CDD.mlflow/#/experiments/4/runs/e871fc362bc84a19a791641d2e24f4e9.\n",
      "2024/11/07 16:00:21 INFO mlflow.tracking._tracking_service.client: 🧪 View experiment at: https://dagshub.com/PacoTinoco/Proyecto_Final_CDD.mlflow/#/experiments/4.\n"
     ]
    }
   ],
   "source": [
    "mlflow.sklearn.autolog()\n",
    "\n",
    "def objective_rf(params):\n",
    "    with mlflow.start_run(nested=True):\n",
    "        # Set model tag\n",
    "        mlflow.set_tag(\"model_family\", \"random_forest\")\n",
    "        \n",
    "        # Log parameters\n",
    "        mlflow.log_params(params)\n",
    "        \n",
    "        # Train RandomForest model\n",
    "        rf_model = RandomForestRegressor(\n",
    "            n_estimators=int(params['n_estimators']),\n",
    "            max_depth=int(params['max_depth']),\n",
    "            min_samples_split=int(params['min_samples_split']),\n",
    "            min_samples_leaf=int(params['min_samples_leaf']),\n",
    "            random_state=42\n",
    "        )\n",
    "        rf_model.fit(X_train, y_train)\n",
    "        \n",
    "        # Predict on validation dataset\n",
    "        y_pred = rf_model.predict(X_val)\n",
    "        \n",
    "        # Calculate RMSE\n",
    "        rmse = np.sqrt(mean_squared_error(y_val, y_pred))\n",
    "        \n",
    "        # Log RMSE metric\n",
    "        mlflow.log_metric(\"rmse\", rmse)\n",
    "        \n",
    "        return {'loss': rmse, 'status': STATUS_OK}\n",
    "\n",
    "# Define search space for RandomForest\n",
    "search_space_rf = {\n",
    "    'n_estimators': hp.quniform('n_estimators', 50, 100, 1),\n",
    "    'max_depth': hp.quniform('max_depth', 5, 15, 1),\n",
    "    'min_samples_split': hp.quniform('min_samples_split', 2, 5, 1),\n",
    "    'min_samples_leaf': hp.quniform('min_samples_leaf', 1, 2, 1),\n",
    "}\n",
    "\n",
    "\n",
    "# Run hyperparameter optimization\n",
    "with mlflow.start_run(run_name=\"Parent Random Forest\", nested=True):\n",
    "    best_params_rf = fmin(\n",
    "        fn=objective_rf,\n",
    "        space=search_space_rf,\n",
    "        algo=tpe.suggest,\n",
    "        max_evals=10,\n",
    "        trials=Trials()\n",
    "    )\n",
    "    \n",
    "    # Log best parameters\n",
    "    mlflow.log_params(best_params_rf)\n"
   ],
   "metadata": {
    "collapsed": false,
    "ExecuteTime": {
     "end_time": "2024-11-07T22:00:22.495508Z",
     "start_time": "2024-11-07T21:57:09.387951800Z"
    }
   },
   "id": "a47475d316022f8d",
   "execution_count": 26
  },
  {
   "cell_type": "code",
   "outputs": [
    {
     "name": "stderr",
     "output_type": "stream",
     "text": [
      "Successfully registered model 'google-stock-model-randomforest'.\n",
      "2024/11/07 16:02:01 INFO mlflow.store.model_registry.abstract_store: Waiting up to 300 seconds for model version to finish creation. Model name: google-stock-model-randomforest, version 1\n",
      "Created version '1' of model 'google-stock-model-randomforest'.\n"
     ]
    }
   ],
   "source": [
    "run_id = input(\"Ingrese el run_id\")\n",
    "run_uri = f\"runs:/{run_id}/model\"\n",
    "\n",
    "result = mlflow.register_model(\n",
    "    model_uri=run_uri,\n",
    "    name=\"google-stock-model-randomforest\"\n",
    ")"
   ],
   "metadata": {
    "collapsed": false,
    "ExecuteTime": {
     "end_time": "2024-11-07T22:02:01.579123300Z",
     "start_time": "2024-11-07T22:01:54.940923400Z"
    }
   },
   "id": "fa8710107586210b",
   "execution_count": 27
  },
  {
   "cell_type": "code",
   "outputs": [
    {
     "data": {
      "text/plain": "<ModelVersion: aliases=['champion'], creation_timestamp=1731016920090, current_stage='None', description='The model version 1 was transitioned to champion on 2024-11-07 16:02:09.404804', last_updated_timestamp=1731016928388, name='google-stock-model-randomforest', run_id='2bcbe321f99041a7a64caa6b2e6625c8', run_link='', source='mlflow-artifacts:/62536d2f603e4621b047d552ffc80167/2bcbe321f99041a7a64caa6b2e6625c8/artifacts/model', status='READY', status_message='', tags={}, user_id='', version='1'>"
     },
     "execution_count": 28,
     "metadata": {},
     "output_type": "execute_result"
    }
   ],
   "source": [
    "from datetime import datetime\n",
    "from mlflow import MlflowClient\n",
    "\n",
    "client = MlflowClient(tracking_uri=MLFLOW_TRACKING_URI)\n",
    "client.update_registered_model(\n",
    "    name=\"google-stock-model-randomforest\",\n",
    "    description=\"Model registry for the google stock randomforest prediction\",\n",
    ")\n",
    "\n",
    "new_alias = \"champion\"\n",
    "date = datetime.today()\n",
    "model_version = \"1\"\n",
    "\n",
    "# create \"champion\" alias for version 1 of model \"nyc-taxi-model\"\n",
    "client.set_registered_model_alias(\n",
    "    name=\"google-stock-model-randomforest\",\n",
    "    alias=new_alias,\n",
    "    version=model_version\n",
    ")\n",
    "\n",
    "client.update_model_version(\n",
    "    name=\"google-stock-model-randomforest\",\n",
    "    version=model_version,\n",
    "    description=f\"The model version {model_version} was transitioned to {new_alias} on {date}\",\n",
    ")"
   ],
   "metadata": {
    "collapsed": false,
    "ExecuteTime": {
     "end_time": "2024-11-07T22:02:09.871271100Z",
     "start_time": "2024-11-07T22:02:08.915464300Z"
    }
   },
   "id": "6406aace4e0e60ac",
   "execution_count": 28
  },
  {
   "cell_type": "code",
   "outputs": [
    {
     "data": {
      "text/plain": "{'max_depth': 10.0,\n 'min_samples_leaf': 2.0,\n 'min_samples_split': 3.0,\n 'n_estimators': 90.0}"
     },
     "execution_count": 29,
     "metadata": {},
     "output_type": "execute_result"
    }
   ],
   "source": [
    "best_params_rf"
   ],
   "metadata": {
    "collapsed": false,
    "ExecuteTime": {
     "end_time": "2024-11-07T22:02:17.206710100Z",
     "start_time": "2024-11-07T22:02:17.187124400Z"
    }
   },
   "id": "b298e9186755645f",
   "execution_count": 29
  },
  {
   "cell_type": "code",
   "outputs": [
    {
     "data": {
      "text/plain": "Downloading artifacts:   0%|          | 0/5 [00:00<?, ?it/s]",
      "application/vnd.jupyter.widget-view+json": {
       "version_major": 2,
       "version_minor": 0,
       "model_id": "2176990b3aef402f9f850c6563f93e58"
      }
     },
     "metadata": {},
     "output_type": "display_data"
    },
    {
     "data": {
      "text/plain": "array([143.39611824,  72.33691959,  36.65969283,  39.56621352,\n        28.44043678, 101.64589281,  55.1978257 , 135.71078295,\n        27.35770143, 100.90802738,  98.74155235,  33.0730147 ,\n        41.97921658,  53.66298278, 104.21847534, 144.66890164,\n        78.43887062, 109.12898887,  37.44733363, 109.87744648,\n       114.58751971,  74.57362504, 138.3260697 ,  88.07526337,\n        55.81324986, 142.01213406,  59.45868574,  35.34376257,\n        60.27217642,  65.96854082,  27.69732073,  99.54098795,\n       112.06186148,  38.8278025 , 120.12662645, 135.79049695,\n        59.36572084,  67.67225257,  42.50766845,  52.21065427,\n       129.28772085, 140.73385527,  40.04446543,  54.57088909,\n       118.16404847,  75.54631549, 148.00197613,  46.15179818,\n       102.50932031,  41.1640359 ,  27.80818016, 145.49685679,\n       134.05984034,  40.53051936, 144.87106793,  90.32964065,\n        59.6538808 ,  47.9418361 ,  73.2794782 , 127.56433644,\n        52.3915711 ,  29.76232568,  91.13215942,  71.67512679,\n       115.61604238,  38.82048333, 104.40685469,  36.46718668,\n        52.2034075 , 129.72805485, 130.26902481,  56.0900575 ,\n       127.42606211,  52.60446893,  35.28765451,  76.16633992,\n        38.28142766,  48.45489389, 142.26365724,  41.59695417,\n       119.0101528 ,  37.42573193,  69.1620657 ,  67.62431551,\n        38.59746189, 133.69532005,  59.19319407,  37.88581348,\n        51.66013389, 115.05231936,  55.51556658,  56.98067961,\n        28.68428645,  97.24304402,  38.00285916, 113.50244775,\n       139.07911166,  74.92847081,  60.33781526, 116.48108952,\n        48.91049104, 104.4459261 , 138.7661763 ,  90.99764272,\n       129.21395811,  39.9474279 ,  27.04316724,  88.06122816,\n        58.89054195,  56.02426717,  36.25885206, 135.26944306,\n        41.35765538,  39.88607537,  91.96217876, 126.13991675,\n        32.07575934,  60.56741896, 125.19701927,  53.67558494,\n        48.23680169,  78.90961336,  41.51367111,  27.57191429,\n        34.09883904,  47.00095403,  55.19962398,  57.59982225,\n       132.55527423,  72.01671911,  28.18981555,  60.25801715,\n        55.61703812, 108.78429062,  37.98014355,  74.37911664,\n       121.63683044, 128.6863117 , 143.90592989,  56.26920628,\n       114.26051603, 104.39732453, 113.79790714,  47.62178991,\n        95.5953072 ,  41.47352962,  94.61967361,  36.6043021 ,\n        52.72691686, 129.06137213,  35.8718002 , 140.6380853 ,\n        27.00095672, 135.04541254, 119.61544095, 110.39035582,\n       105.47742983,  40.26853612,  39.08301255, 145.79016385,\n        70.03341292,  41.04618141,  60.49491137,  90.56928606,\n        47.94268887,  78.33522025,  41.5173642 , 127.52141713,\n        27.15019487, 136.13314522, 131.93323824,  27.2392851 ,\n        27.61710555, 102.92615805,  67.94046455, 135.71112661,\n       131.45393205,  36.5947985 ,  27.66070861,  63.25167787,\n        81.42059038,  62.93918414, 107.25687168,  61.59950021,\n        58.57854781, 113.6768089 , 130.3972646 ,  57.52620859,\n        68.57272572,  52.17587112, 135.33489962,  35.9637281 ,\n        59.93753168,  53.5603962 , 113.15028597,  58.72998498,\n        64.62435926,  86.88516073,  56.52507968,  25.47264204,\n       101.10698004, 137.56416904, 104.40732705,  67.47092123,\n       141.5788818 ,  27.44242328, 129.10225096,  61.34551123,\n        53.99992164,  47.96675428,  67.14850039,  46.3908562 ,\n        75.48496191,  32.10710228, 139.18178182,  49.90336793,\n        58.46728132,  50.62890692, 138.65012199,  52.55603473,\n        52.71299238, 118.08376973, 138.08748994,  50.26965172,\n        60.32785944,  70.93262656, 117.26954536,  89.13419045,\n        53.01017657,  49.42183094, 109.20958834, 115.70605013,\n       135.0635738 , 134.33088965,  60.35552063,  48.55203279,\n       102.81446524,  37.87218808,  51.5205691 ,  56.46869756,\n        38.84928593,  55.93007839,  34.86718097,  26.43605477,\n        81.78975827,  52.42750816, 140.9617842 , 115.12184953,\n        46.60159466,  37.91160969,  72.34306613,  35.29830886,\n        40.35726427,  33.54334883,  51.7604117 ,  63.22859076,\n        38.81408362,  65.35635458,  41.83078363,  27.09881017,\n        60.36954003,  39.00786488, 143.61127256,  56.39064453,\n        40.48528786,  99.39104451,  40.05104087,  70.05514524,\n        32.0068814 , 120.69938173,  57.3440684 ,  36.27402296,\n        47.32956878,  39.03396194,  84.88292536,  38.77603594,\n        41.468275  ,  50.91304084,  64.57514186, 136.52064666,\n        57.20804408, 141.48574475,  36.6436974 ,  89.21317491,\n       127.47553828,  81.83027098,  51.84977901,  52.66043564,\n        86.3589724 ,  40.01564002,  53.6340938 ,  43.61044537,\n        70.66714944,  57.37931804, 141.13720373,  56.14494228,\n        51.30035973,  32.73136317,  52.14399111,  27.89211789,\n        90.2719722 ,  57.52675646,  67.97358851,  60.40408705,\n        40.20391134,  35.26270317, 119.67201873, 100.3483881 ,\n        55.69855823,  40.38037516,  42.47945654,  44.20186469,\n        87.87061935, 131.04970315,  70.37454708, 137.22309188,\n        52.33515088,  40.13899395,  32.90062281,  60.60166095,\n        65.42557116,  42.82314548,  60.91711465, 120.09580383,\n        61.62539409, 147.97005935, 129.82721625,  63.85306132,\n        39.21774097,  64.50662362,  40.25470357,  62.90017741,\n        57.99989268, 108.7470833 ,  39.36807204, 101.5827599 ,\n       143.61124678,  64.83458774,  37.68226149,  36.26194837,\n        39.70701091,  38.09049382,  27.69190508, 117.16725458,\n        35.87251229, 133.27875199,  43.29308012, 113.86776181,\n        72.05180352,  53.13463288, 136.05587778,  51.28933229,\n        27.16618825, 104.97765449,  31.22639328,  88.1416622 ,\n        70.64758213,  80.32031808,  47.75152271,  27.44678147,\n        59.11440423,  37.379043  ,  41.34009584, 117.53941434,\n        89.861656  , 140.12113291,  57.7358682 ,  28.05611445,\n        52.47662749, 124.663293  ,  94.66234326,  37.04372379,\n       102.39570058,  54.24148955,  26.37223829,  60.33883207,\n        37.74523659, 146.71868765, 122.13353466,  68.45914748,\n        39.02627838, 129.73975945,  75.20782483, 148.1000003 ,\n        49.66490688,  38.81547458, 120.13649308,  49.72493808,\n        37.13450179,  52.59819396,  36.858361  ,  61.75509478,\n       113.72221199,  37.3752624 , 120.00165207,  37.24036163,\n        37.99650042,  98.00581304,  55.08248317,  42.06012097,\n        54.92568537,  37.47109151, 135.64227985,  86.87878353,\n       140.47623124,  37.99598633, 141.96291468, 123.64672645,\n        92.29492875,  52.90479951, 106.3847192 , 105.50982861,\n        97.13238435, 119.01182927, 122.20622077, 122.54564599,\n        26.76870083,  37.12828834,  55.99495865,  35.66642432,\n       114.28256071,  56.96324955,  52.85349539,  40.2667902 ,\n        55.84212944, 109.43122775,  97.41622272,  37.6132697 ,\n       102.65055063,  40.76948181,  74.35787388,  36.29801407,\n        63.04323614,  87.32855803, 102.62427513,  98.62346722,\n        97.21193902, 119.59017256,  33.26242245,  47.16330857,\n        90.12948469,  33.92350318, 112.24318826,  40.61267396,\n        39.30019121,  50.10656855,  39.46228143,  58.55980067,\n        47.37780287,  25.26218027,  86.96966056, 107.73150167,\n        40.23425605])"
     },
     "execution_count": 30,
     "metadata": {},
     "output_type": "execute_result"
    }
   ],
   "source": [
    "import mlflow.pyfunc\n",
    "\n",
    "model_name = \"google-stock-model-randomforest\"\n",
    "alias = \"champion\"\n",
    "\n",
    "model_uri = f\"models:/{model_name}@{alias}\"\n",
    "\n",
    "champion_version = mlflow.pyfunc.load_model(\n",
    "    model_uri=model_uri\n",
    ")\n",
    "\n",
    "champion_version.predict(X_val)"
   ],
   "metadata": {
    "collapsed": false,
    "ExecuteTime": {
     "end_time": "2024-11-07T22:02:23.925558Z",
     "start_time": "2024-11-07T22:02:21.536984900Z"
    }
   },
   "id": "e0165f20850088c7",
   "execution_count": 30
  },
  {
   "cell_type": "code",
   "outputs": [],
   "source": [],
   "metadata": {
    "collapsed": false
   },
   "id": "97ffd41ec41feb6d"
  }
 ],
 "metadata": {
  "kernelspec": {
   "display_name": "Python 3",
   "language": "python",
   "name": "python3"
  },
  "language_info": {
   "codemirror_mode": {
    "name": "ipython",
    "version": 2
   },
   "file_extension": ".py",
   "mimetype": "text/x-python",
   "name": "python",
   "nbconvert_exporter": "python",
   "pygments_lexer": "ipython2",
   "version": "2.7.6"
  }
 },
 "nbformat": 4,
 "nbformat_minor": 5
}
