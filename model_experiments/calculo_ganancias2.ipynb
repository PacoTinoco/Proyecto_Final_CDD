{
 "cells": [
  {
   "cell_type": "code",
   "execution_count": 13,
   "id": "1bab3709-8b90-46f1-8a23-9620772bbe17",
   "metadata": {
    "ExecuteTime": {
     "end_time": "2024-11-20T02:31:28.974215400Z",
     "start_time": "2024-11-20T02:31:28.968698100Z"
    }
   },
   "outputs": [],
   "source": [
    "import mlflow.pyfunc\n",
    "from datetime import timedelta\n",
    "import pandas as pd\n",
    "import dagshub\n",
    "import yfinance as yf"
   ]
  },
  {
   "cell_type": "code",
   "execution_count": 35,
   "id": "723db742-4774-4f90-830c-b599d6b41421",
   "metadata": {
    "ExecuteTime": {
     "end_time": "2024-11-20T03:05:38.826942100Z",
     "start_time": "2024-11-20T03:05:36.298238400Z"
    }
   },
   "outputs": [
    {
     "data": {
      "text/plain": "Initialized MLflow to track repo \u001B[32m\"PacoTinoco/Proyecto_Final_CDD\"\u001B[0m\n",
      "text/html": "<pre style=\"white-space:pre;overflow-x:auto;line-height:normal;font-family:Menlo,'DejaVu Sans Mono',consolas,'Courier New',monospace\">Initialized MLflow to track repo <span style=\"color: #008000; text-decoration-color: #008000\">\"PacoTinoco/Proyecto_Final_CDD\"</span>\n</pre>\n"
     },
     "metadata": {},
     "output_type": "display_data"
    },
    {
     "data": {
      "text/plain": "Repository PacoTinoco/Proyecto_Final_CDD initialized!\n",
      "text/html": "<pre style=\"white-space:pre;overflow-x:auto;line-height:normal;font-family:Menlo,'DejaVu Sans Mono',consolas,'Courier New',monospace\">Repository PacoTinoco/Proyecto_Final_CDD initialized!\n</pre>\n"
     },
     "metadata": {},
     "output_type": "display_data"
    },
    {
     "data": {
      "text/plain": "Downloading artifacts:   0%|          | 0/6 [00:00<?, ?it/s]",
      "application/vnd.jupyter.widget-view+json": {
       "version_major": 2,
       "version_minor": 0,
       "model_id": "8c7b768ab27348e09e7abe5c48ee96f1"
      }
     },
     "metadata": {},
     "output_type": "display_data"
    }
   ],
   "source": [
    "# Definir la configuración del modelo y el alias del modelo optimizado\n",
    "dagshub.init(url=\"https://dagshub.com/PacoTinoco/Proyecto_Final_CDD\", mlflow=True)\n",
    "MLFLOW_TRACKING_URI = mlflow.get_tracking_uri()\n",
    "\n",
    "model_name = \"google-stock-model-randomforest-perfect\"\n",
    "alias = \"champion\"\n",
    "model_uri = f\"models:/{model_name}@{alias}\"\n",
    "\n",
    "# Cargar el modelo entrenado de MLflow\n",
    "model = mlflow.pyfunc.load_model(model_uri)\n"
   ]
  },
  {
   "cell_type": "code",
   "execution_count": 36,
   "id": "8b7d33f5-664d-4d59-8058-8f7a66172871",
   "metadata": {
    "ExecuteTime": {
     "end_time": "2024-11-20T03:05:54.524629500Z",
     "start_time": "2024-11-20T03:05:40.785209400Z"
    }
   },
   "outputs": [],
   "source": [
    "# Solicitar datos al usuario\n",
    "capital_inicial = float(input(\"Ingrese el capital inicial a invertir en USD: \"))\n",
    "dias_inversion = int(input(\"Ingrese el número de días de inversión: \"))"
   ]
  },
  {
   "cell_type": "code",
   "outputs": [
    {
     "data": {
      "text/plain": "                  Open        High         Low       Close   Adj Close  \\\nDate                                                                     \n2024-10-21  188.050003  189.460007  186.399994  189.070007  189.070007   \n2024-10-22  188.350006  191.520004  186.979996  189.699997  189.699997   \n2024-10-23  188.850006  189.160004  183.690002  184.710007  184.710007   \n2024-10-24  185.250000  187.110001  183.860001  186.380005  186.380005   \n2024-10-25  187.850006  190.449997  187.529999  187.830002  187.830002   \n2024-10-28  189.570007  190.210007  188.210007  188.389999  188.389999   \n2024-10-29  188.580002  191.460007  187.820007  190.830002  190.830002   \n2024-10-30  194.699997  195.610001  192.419998  192.729996  192.729996   \n2024-10-31  190.509995  190.600006  185.229996  186.399994  186.399994   \n2024-11-01  199.000000  200.500000  197.020004  197.929993  197.929993   \n2024-11-04  196.449997  197.330002  194.309998  195.779999  195.779999   \n2024-11-05  196.039993  199.820007  195.990005  199.500000  199.500000   \n2024-11-06  200.009995  207.550003  199.139999  207.089996  207.089996   \n2024-11-07  207.440002  212.250000  207.190002  210.050003  210.050003   \n2024-11-08  209.720001  209.960007  207.440002  208.179993  208.179993   \n2024-11-11  208.500000  209.649994  205.589996  206.839996  206.839996   \n2024-11-12  208.369995  209.539993  206.009995  208.910004  208.910004   \n2024-11-13  209.399994  215.089996  209.139999  214.100006  214.100006   \n2024-11-14  214.160004  215.899994  210.880005  211.479996  211.479996   \n2024-11-15  206.759995  207.339996  199.610001  202.610001  202.610001   \n2024-11-18  204.149994  204.669998  200.949997  201.699997  201.699997   \n2024-11-19  199.330002  205.300003  198.779999  204.610001  204.610001   \n\n              Volume  \nDate                  \n2024-10-21  24639400  \n2024-10-22  29650600  \n2024-10-23  31937100  \n2024-10-24  21647400  \n2024-10-25  29362100  \n2024-10-28  27930800  \n2024-10-29  35690200  \n2024-10-30  37707600  \n2024-10-31  75146800  \n2024-11-01  99687800  \n2024-11-04  38492100  \n2024-11-05  30564800  \n2024-11-06  72292200  \n2024-11-07  52878400  \n2024-11-08  36075800  \n2024-11-11  35456000  \n2024-11-12  38942900  \n2024-11-13  46212900  \n2024-11-14  42620300  \n2024-11-15  86591100  \n2024-11-18  36512500  \n2024-11-19  30916900  ",
      "text/html": "<div>\n<style scoped>\n    .dataframe tbody tr th:only-of-type {\n        vertical-align: middle;\n    }\n\n    .dataframe tbody tr th {\n        vertical-align: top;\n    }\n\n    .dataframe thead th {\n        text-align: right;\n    }\n</style>\n<table border=\"1\" class=\"dataframe\">\n  <thead>\n    <tr style=\"text-align: right;\">\n      <th></th>\n      <th>Open</th>\n      <th>High</th>\n      <th>Low</th>\n      <th>Close</th>\n      <th>Adj Close</th>\n      <th>Volume</th>\n    </tr>\n    <tr>\n      <th>Date</th>\n      <th></th>\n      <th></th>\n      <th></th>\n      <th></th>\n      <th></th>\n      <th></th>\n    </tr>\n  </thead>\n  <tbody>\n    <tr>\n      <th>2024-10-21</th>\n      <td>188.050003</td>\n      <td>189.460007</td>\n      <td>186.399994</td>\n      <td>189.070007</td>\n      <td>189.070007</td>\n      <td>24639400</td>\n    </tr>\n    <tr>\n      <th>2024-10-22</th>\n      <td>188.350006</td>\n      <td>191.520004</td>\n      <td>186.979996</td>\n      <td>189.699997</td>\n      <td>189.699997</td>\n      <td>29650600</td>\n    </tr>\n    <tr>\n      <th>2024-10-23</th>\n      <td>188.850006</td>\n      <td>189.160004</td>\n      <td>183.690002</td>\n      <td>184.710007</td>\n      <td>184.710007</td>\n      <td>31937100</td>\n    </tr>\n    <tr>\n      <th>2024-10-24</th>\n      <td>185.250000</td>\n      <td>187.110001</td>\n      <td>183.860001</td>\n      <td>186.380005</td>\n      <td>186.380005</td>\n      <td>21647400</td>\n    </tr>\n    <tr>\n      <th>2024-10-25</th>\n      <td>187.850006</td>\n      <td>190.449997</td>\n      <td>187.529999</td>\n      <td>187.830002</td>\n      <td>187.830002</td>\n      <td>29362100</td>\n    </tr>\n    <tr>\n      <th>2024-10-28</th>\n      <td>189.570007</td>\n      <td>190.210007</td>\n      <td>188.210007</td>\n      <td>188.389999</td>\n      <td>188.389999</td>\n      <td>27930800</td>\n    </tr>\n    <tr>\n      <th>2024-10-29</th>\n      <td>188.580002</td>\n      <td>191.460007</td>\n      <td>187.820007</td>\n      <td>190.830002</td>\n      <td>190.830002</td>\n      <td>35690200</td>\n    </tr>\n    <tr>\n      <th>2024-10-30</th>\n      <td>194.699997</td>\n      <td>195.610001</td>\n      <td>192.419998</td>\n      <td>192.729996</td>\n      <td>192.729996</td>\n      <td>37707600</td>\n    </tr>\n    <tr>\n      <th>2024-10-31</th>\n      <td>190.509995</td>\n      <td>190.600006</td>\n      <td>185.229996</td>\n      <td>186.399994</td>\n      <td>186.399994</td>\n      <td>75146800</td>\n    </tr>\n    <tr>\n      <th>2024-11-01</th>\n      <td>199.000000</td>\n      <td>200.500000</td>\n      <td>197.020004</td>\n      <td>197.929993</td>\n      <td>197.929993</td>\n      <td>99687800</td>\n    </tr>\n    <tr>\n      <th>2024-11-04</th>\n      <td>196.449997</td>\n      <td>197.330002</td>\n      <td>194.309998</td>\n      <td>195.779999</td>\n      <td>195.779999</td>\n      <td>38492100</td>\n    </tr>\n    <tr>\n      <th>2024-11-05</th>\n      <td>196.039993</td>\n      <td>199.820007</td>\n      <td>195.990005</td>\n      <td>199.500000</td>\n      <td>199.500000</td>\n      <td>30564800</td>\n    </tr>\n    <tr>\n      <th>2024-11-06</th>\n      <td>200.009995</td>\n      <td>207.550003</td>\n      <td>199.139999</td>\n      <td>207.089996</td>\n      <td>207.089996</td>\n      <td>72292200</td>\n    </tr>\n    <tr>\n      <th>2024-11-07</th>\n      <td>207.440002</td>\n      <td>212.250000</td>\n      <td>207.190002</td>\n      <td>210.050003</td>\n      <td>210.050003</td>\n      <td>52878400</td>\n    </tr>\n    <tr>\n      <th>2024-11-08</th>\n      <td>209.720001</td>\n      <td>209.960007</td>\n      <td>207.440002</td>\n      <td>208.179993</td>\n      <td>208.179993</td>\n      <td>36075800</td>\n    </tr>\n    <tr>\n      <th>2024-11-11</th>\n      <td>208.500000</td>\n      <td>209.649994</td>\n      <td>205.589996</td>\n      <td>206.839996</td>\n      <td>206.839996</td>\n      <td>35456000</td>\n    </tr>\n    <tr>\n      <th>2024-11-12</th>\n      <td>208.369995</td>\n      <td>209.539993</td>\n      <td>206.009995</td>\n      <td>208.910004</td>\n      <td>208.910004</td>\n      <td>38942900</td>\n    </tr>\n    <tr>\n      <th>2024-11-13</th>\n      <td>209.399994</td>\n      <td>215.089996</td>\n      <td>209.139999</td>\n      <td>214.100006</td>\n      <td>214.100006</td>\n      <td>46212900</td>\n    </tr>\n    <tr>\n      <th>2024-11-14</th>\n      <td>214.160004</td>\n      <td>215.899994</td>\n      <td>210.880005</td>\n      <td>211.479996</td>\n      <td>211.479996</td>\n      <td>42620300</td>\n    </tr>\n    <tr>\n      <th>2024-11-15</th>\n      <td>206.759995</td>\n      <td>207.339996</td>\n      <td>199.610001</td>\n      <td>202.610001</td>\n      <td>202.610001</td>\n      <td>86591100</td>\n    </tr>\n    <tr>\n      <th>2024-11-18</th>\n      <td>204.149994</td>\n      <td>204.669998</td>\n      <td>200.949997</td>\n      <td>201.699997</td>\n      <td>201.699997</td>\n      <td>36512500</td>\n    </tr>\n    <tr>\n      <th>2024-11-19</th>\n      <td>199.330002</td>\n      <td>205.300003</td>\n      <td>198.779999</td>\n      <td>204.610001</td>\n      <td>204.610001</td>\n      <td>30916900</td>\n    </tr>\n  </tbody>\n</table>\n</div>"
     },
     "execution_count": 37,
     "metadata": {},
     "output_type": "execute_result"
    }
   ],
   "source": [
    "data"
   ],
   "metadata": {
    "collapsed": false,
    "ExecuteTime": {
     "end_time": "2024-11-20T03:05:56.979055900Z",
     "start_time": "2024-11-20T03:05:56.967019Z"
    }
   },
   "id": "fa76c262d6bcbf12",
   "execution_count": 37
  },
  {
   "cell_type": "code",
   "execution_count": 42,
   "id": "f256ad0e-16f1-43b5-804c-9902a69924e0",
   "metadata": {
    "ExecuteTime": {
     "end_time": "2024-11-20T03:07:09.952522700Z",
     "start_time": "2024-11-20T03:07:09.812810500Z"
    }
   },
   "outputs": [
    {
     "name": "stderr",
     "output_type": "stream",
     "text": [
      "[*********************100%***********************]  1 of 1 completed\n"
     ]
    }
   ],
   "source": [
    "# Descargar datos históricos recientes para Google\n",
    "data = yf.download('GOOGL', period=\"1mo\")\n",
    "\n",
    "# Usar la última fila como base\n",
    "input_data = data.iloc[-1:]\n",
    "\n",
    "# Iterar para simular la predicción de cada día adicional\n",
    "precio_inicial = input_data['Open']\n",
    "cantidad_acciones = capital_inicial / precio_inicial\n",
    "precio_estimado = model.predict(input_data)\n"
   ]
  },
  {
   "cell_type": "code",
   "outputs": [
    {
     "data": {
      "text/plain": "                  Open        High         Low       Close   Adj Close  \\\nDate                                                                     \n2024-11-19  173.720001  178.869995  173.559998  178.119995  178.119995   \n\n              Volume  \nDate                  \n2024-11-19  23402800  ",
      "text/html": "<div>\n<style scoped>\n    .dataframe tbody tr th:only-of-type {\n        vertical-align: middle;\n    }\n\n    .dataframe tbody tr th {\n        vertical-align: top;\n    }\n\n    .dataframe thead th {\n        text-align: right;\n    }\n</style>\n<table border=\"1\" class=\"dataframe\">\n  <thead>\n    <tr style=\"text-align: right;\">\n      <th></th>\n      <th>Open</th>\n      <th>High</th>\n      <th>Low</th>\n      <th>Close</th>\n      <th>Adj Close</th>\n      <th>Volume</th>\n    </tr>\n    <tr>\n      <th>Date</th>\n      <th></th>\n      <th></th>\n      <th></th>\n      <th></th>\n      <th></th>\n      <th></th>\n    </tr>\n  </thead>\n  <tbody>\n    <tr>\n      <th>2024-11-19</th>\n      <td>173.720001</td>\n      <td>178.869995</td>\n      <td>173.559998</td>\n      <td>178.119995</td>\n      <td>178.119995</td>\n      <td>23402800</td>\n    </tr>\n  </tbody>\n</table>\n</div>"
     },
     "execution_count": 46,
     "metadata": {},
     "output_type": "execute_result"
    }
   ],
   "source": [
    "input_data"
   ],
   "metadata": {
    "collapsed": false,
    "ExecuteTime": {
     "end_time": "2024-11-20T03:09:14.835530200Z",
     "start_time": "2024-11-20T03:09:14.831010200Z"
    }
   },
   "id": "df7b46908135ca02",
   "execution_count": 46
  },
  {
   "cell_type": "code",
   "execution_count": 43,
   "id": "361d8cb7-8187-4ecc-9507-61087e1a71ed",
   "metadata": {
    "ExecuteTime": {
     "end_time": "2024-11-20T03:07:15.157344600Z",
     "start_time": "2024-11-20T03:07:15.149779200Z"
    }
   },
   "outputs": [
    {
     "data": {
      "text/plain": "array([149.18993028])"
     },
     "execution_count": 43,
     "metadata": {},
     "output_type": "execute_result"
    }
   ],
   "source": [
    "precio_estimado"
   ]
  },
  {
   "cell_type": "code",
   "execution_count": 44,
   "id": "f9b548e4-bfa6-4a45-abbb-f2784e34d692",
   "metadata": {
    "ExecuteTime": {
     "end_time": "2024-11-20T03:07:19.187100800Z",
     "start_time": "2024-11-20T03:07:19.182585700Z"
    }
   },
   "outputs": [
    {
     "data": {
      "text/plain": "Date\n2024-11-19    37.909381\nName: Open, dtype: float64"
     },
     "execution_count": 44,
     "metadata": {},
     "output_type": "execute_result"
    }
   ],
   "source": [
    "precio_siguiente = precio_inicial\n",
    "for _ in range(dias_inversion):\n",
    "    # Calculamos la proporción del precio estimado respecto al precio inicial\n",
    "    proporcion = precio_estimado / precio_inicial\n",
    "    # Actualizamos el precio inicial para el siguiente día\n",
    "    precio_siguiente = precio_siguiente * proporcion\n",
    "    \n",
    "precio_final = precio_siguiente\n",
    "precio_final"
   ]
  },
  {
   "cell_type": "code",
   "execution_count": 45,
   "id": "971e91ca-76b4-4a26-b4fe-a036cbc8f5a9",
   "metadata": {
    "ExecuteTime": {
     "end_time": "2024-11-20T03:07:21.998235100Z",
     "start_time": "2024-11-20T03:07:21.992061Z"
    }
   },
   "outputs": [
    {
     "data": {
      "text/plain": "Date\n2024-11-19    21.822117\nName: Open, dtype: float64"
     },
     "execution_count": 45,
     "metadata": {},
     "output_type": "execute_result"
    }
   ],
   "source": [
    "cantidad_acciones = capital_inicial / precio_inicial\n",
    "capital_final = cantidad_acciones * precio_final\n",
    "capital_final"
   ]
  }
 ],
 "metadata": {
  "kernelspec": {
   "display_name": "Python 3 (ipykernel)",
   "language": "python",
   "name": "python3"
  },
  "language_info": {
   "codemirror_mode": {
    "name": "ipython",
    "version": 3
   },
   "file_extension": ".py",
   "mimetype": "text/x-python",
   "name": "python",
   "nbconvert_exporter": "python",
   "pygments_lexer": "ipython3",
   "version": "3.12.6"
  }
 },
 "nbformat": 4,
 "nbformat_minor": 5
}
