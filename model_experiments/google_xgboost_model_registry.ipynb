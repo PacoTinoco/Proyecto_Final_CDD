{
 "cells": [
  {
   "cell_type": "code",
   "outputs": [],
   "source": [
    "import dagshub\n",
    "import mlflow\n",
    "import xgboost as xgb\n",
    "from hyperopt import fmin, tpe, hp, STATUS_OK, Trials\n",
    "from hyperopt.pyll import scope\n",
    "import pathlib\n",
    "from sklearn.metrics import  root_mean_squared_error\n",
    "import numpy as np\n",
    "import pandas as pd\n",
    "import matplotlib.pyplot as plt\n",
    "import seaborn as sns\n",
    "import yfinance as yf\n",
    "from sklearn.model_selection import train_test_split"
   ],
   "metadata": {
    "collapsed": false,
    "ExecuteTime": {
     "end_time": "2024-11-25T23:29:22.455854300Z",
     "start_time": "2024-11-25T23:29:18.596067200Z"
    }
   },
   "id": "e0ef7d38eb8e16ad",
   "execution_count": 1
  },
  {
   "cell_type": "code",
   "outputs": [
    {
     "data": {
      "text/html": [
       "<pre style=\"white-space:pre;overflow-x:auto;line-height:normal;font-family:Menlo,'DejaVu Sans Mono',consolas,'Courier New',monospace\">Accessing as juanplv04\n",
       "</pre>\n"
      ],
      "text/plain": [
       "Accessing as juanplv04\n"
      ]
     },
     "metadata": {},
     "output_type": "display_data"
    },
    {
     "data": {
      "text/html": [
       "<pre style=\"white-space:pre;overflow-x:auto;line-height:normal;font-family:Menlo,'DejaVu Sans Mono',consolas,'Courier New',monospace\">Initialized MLflow to track repo <span style=\"color: #008000; text-decoration-color: #008000\">\"PacoTinoco/Proyecto_Final_CDD\"</span>\n",
       "</pre>\n"
      ],
      "text/plain": [
       "Initialized MLflow to track repo \u001B[32m\"PacoTinoco/Proyecto_Final_CDD\"\u001B[0m\n"
      ]
     },
     "metadata": {},
     "output_type": "display_data"
    },
    {
     "data": {
      "text/html": [
       "<pre style=\"white-space:pre;overflow-x:auto;line-height:normal;font-family:Menlo,'DejaVu Sans Mono',consolas,'Courier New',monospace\">Repository PacoTinoco/Proyecto_Final_CDD initialized!\n",
       "</pre>\n"
      ],
      "text/plain": [
       "Repository PacoTinoco/Proyecto_Final_CDD initialized!\n"
      ]
     },
     "metadata": {},
     "output_type": "display_data"
    },
    {
     "name": "stderr",
     "output_type": "stream",
     "text": [
      "2024/09/27 23:34:54 INFO mlflow.tracking.fluent: Experiment with name 'google_stock' does not exist. Creating a new experiment.\n"
     ]
    },
    {
     "name": "stdout",
     "output_type": "stream",
     "text": [
      "https://dagshub.com/PacoTinoco/Proyecto_Final_CDD.mlflow\n"
     ]
    },
    {
     "data": {
      "text/plain": [
       "<Experiment: artifact_location='mlflow-artifacts:/6ec4ca913e1442d7a8287af46c3fa3b1', creation_time=1727501692460, experiment_id='0', last_update_time=1727501692460, lifecycle_stage='active', name='google_stock', tags={}>"
      ]
     },
     "execution_count": 1,
     "metadata": {},
     "output_type": "execute_result"
    }
   ],
   "source": [
    "dagshub.init(url=\"https://dagshub.com/PacoTinoco/Proyecto_Final_CDD\", mlflow=True)\n",
    "\n",
    "MLFLOW_TRACKING_URI = mlflow.get_tracking_uri()\n",
    "\n",
    "print(MLFLOW_TRACKING_URI)\n",
    "\n",
    "mlflow.set_tracking_uri(MLFLOW_TRACKING_URI)\n",
    "mlflow.set_experiment(experiment_name=\"google_stock\")"
   ],
   "metadata": {},
   "id": "5e66c858-8e5f-4940-8660-0264ecc33944",
   "execution_count": 1
  },
  {
   "cell_type": "code",
   "execution_count": 2,
   "id": "9ab38ea0-3b12-40f1-bd20-7aaca03f9a4a",
   "metadata": {},
   "outputs": [
    {
     "name": "stderr",
     "output_type": "stream",
     "text": [
      "[*********************100%***********************]  1 of 1 completed\n"
     ]
    }
   ],
   "source": [
    "google_stock = yf.download('GOOGL', start='2015-01-01', end='2024-01-01')"
   ]
  },
  {
   "cell_type": "code",
   "execution_count": 4,
   "id": "07a53801-b18e-4487-9db3-c72ab2096217",
   "metadata": {},
   "outputs": [
    {
     "name": "stdout",
     "output_type": "stream",
     "text": [
      "Tamaño del conjunto de entrenamiento: (1811, 5) (1811,)\n",
      "Tamaño del conjunto de prueba: (453, 5) (453,)\n"
     ]
    }
   ],
   "source": [
    "# Definir X e y\n",
    "X = google_stock.drop(columns=[\"Close\"])\n",
    "y = google_stock[\"Close\"]\n",
    "\n",
    "# Dividir en entrenamiento y prueba (80% entrenamiento, 20% prueba)\n",
    "X_train, X_val, y_train, y_val = train_test_split(X, y, test_size=0.2, random_state=42)\n",
    "\n",
    "print(\"Tamaño del conjunto de entrenamiento:\", X_train.shape, y_train.shape)\n",
    "print(\"Tamaño del conjunto de prueba:\", X_val.shape, y_val.shape)\n"
   ]
  },
  {
   "cell_type": "code",
   "execution_count": 14,
   "id": "3bf78285-777d-49eb-b81e-dad52aadb6fc",
   "metadata": {},
   "outputs": [],
   "source": [
    "train = xgb.DMatrix(X_train, label=y_train)\n",
    "valid = xgb.DMatrix(X_val, label=y_val)"
   ]
  },
  {
   "cell_type": "code",
   "execution_count": 15,
   "id": "74597306-7044-4e65-ac98-88554f0c4e4d",
   "metadata": {},
   "outputs": [],
   "source": [
    "def objective(params):\n",
    "    with mlflow.start_run(nested=True):\n",
    "         \n",
    "        # Tag model\n",
    "        mlflow.set_tag(\"model_family\", \"xgboost\")\n",
    "        \n",
    "        # Log parameters\n",
    "        mlflow.log_params(params)\n",
    "        \n",
    "        # Train model\n",
    "        booster = xgb.train(\n",
    "            params=params,\n",
    "            dtrain=train,\n",
    "            num_boost_round=100,\n",
    "            evals=[(valid, 'validation')],\n",
    "            early_stopping_rounds=10\n",
    "        )\n",
    "        \n",
    "        # Log xgboost model with artifact_path\n",
    "        mlflow.xgboost.log_model(booster, artifact_path=\"model\")\n",
    "         \n",
    "        # Predict in the val dataset\n",
    "        y_pred = booster.predict(valid)\n",
    "        \n",
    "        # Calculate metric\n",
    "        rmse = np.sqrt(mean_squared_error(y_val, y_pred))\n",
    "        \n",
    "        # Log performance metric\n",
    "        mlflow.log_metric(\"rmse\", rmse)\n",
    "\n",
    "    return {'loss': rmse, 'status': STATUS_OK}"
   ]
  },
  {
   "cell_type": "code",
   "execution_count": null,
   "id": "c77cf4cb-d25f-4faf-bd27-a478d6db20f4",
   "metadata": {},
   "outputs": [],
   "source": [
    "mlflow.xgboost.autolog()\n",
    "\n",
    "with mlflow.start_run(run_name=\"Xgboost Hyper-parameter Optimization\", nested=True):\n",
    "    search_space = {\n",
    "        'max_depth': scope.int(hp.quniform('max_depth', 4, 100, 1)),\n",
    "        'learning_rate': hp.loguniform('learning_rate', -3, 0),\n",
    "        'reg_alpha': hp.loguniform('reg_alpha', -5, -1),\n",
    "        'reg_lambda': hp.loguniform('reg_lambda', -6, -1),\n",
    "        'min_child_weight': hp.loguniform('min_child_weight', -1, 3),\n",
    "        'objective': 'reg:squarederror',\n",
    "        'seed': 42\n",
    "    }\n",
    "    \n",
    "    best_params = fmin(\n",
    "        fn=objective,\n",
    "        space=search_space,\n",
    "        algo=tpe.suggest,\n",
    "        max_evals=10,\n",
    "        trials=Trials()\n",
    "    )\n",
    "    best_params[\"max_depth\"] = int(best_params[\"max_depth\"])\n",
    "    best_params[\"seed\"] = 42\n",
    "    best_params[\"objective\"] = \"reg:squarederror\"\n",
    "    \n",
    "    mlflow.log_params(best_params)\n",
    "\n",
    "    # Log tags\n",
    "    mlflow.set_tags(\n",
    "        tags={\n",
    "            \"project\": \"Google Stock validation\",\n",
    "            \"optimizer_engine\": \"hyper-opt\",\n",
    "            \"model_family\": \"xgboost\",\n",
    "            \"feature_set_version\": 1,\n",
    "        }\n",
    "    )\n",
    "\n",
    "    # Log a fit model instance\n",
    "    booster = xgb.train(\n",
    "        params=best_params,\n",
    "        dtrain=train,\n",
    "        num_boost_round=100,\n",
    "        evals=[(valid, 'validation')],\n",
    "        early_stopping_rounds=10\n",
    "    )\n",
    "        \n",
    "    y_pred = booster.predict(valid)\n",
    "    \n",
    "    rmse = np.sqrt(mean_squared_error(y_val, y_pred))\n",
    "    mlflow.log_metric(\"rmse\", rmse)\n",
    "    \n",
    "    pathlib.Path(\"models\").mkdir(exist_ok=True)\n",
    "\n",
    "        \n",
    "    mlflow.log_artifact(\"models/preprocessor.b\", artifact_path=\"preprocessor\")"
   ]
  },
  {
   "cell_type": "code",
   "execution_count": 24,
   "id": "4a0ebc23-d772-424b-8277-59973b34e41b",
   "metadata": {},
   "outputs": [
    {
     "data": {
      "text/plain": [
       "{'learning_rate': np.float64(0.11597112725137511),\n",
       " 'max_depth': 54,\n",
       " 'min_child_weight': np.float64(1.9078428525972895),\n",
       " 'reg_alpha': np.float64(0.29322059294206937),\n",
       " 'reg_lambda': np.float64(0.016297130661752667),\n",
       " 'seed': 42,\n",
       " 'objective': 'reg:squarederror'}"
      ]
     },
     "execution_count": 24,
     "metadata": {},
     "output_type": "execute_result"
    }
   ],
   "source": [
    "best_params"
   ]
  },
  {
   "cell_type": "code",
   "execution_count": 25,
   "id": "c3899af7-5f9e-4d96-87fc-9935990ada2c",
   "metadata": {},
   "outputs": [],
   "source": [
    "import mlflow"
   ]
  },
  {
   "cell_type": "code",
   "execution_count": 26,
   "id": "b1436141-81e3-4fcc-bf4f-268c0aacb398",
   "metadata": {},
   "outputs": [
    {
     "name": "stdin",
     "output_type": "stream",
     "text": [
      "Ingrese el run_id 5fc0756e7f73427cb4b6a8bed889a20b\n"
     ]
    },
    {
     "name": "stderr",
     "output_type": "stream",
     "text": [
      "Successfully registered model 'google-stock-model'.\n",
      "2024/09/28 13:10:20 INFO mlflow.store.model_registry.abstract_store: Waiting up to 300 seconds for model version to finish creation. Model name: google-stock-model, version 1\n",
      "Created version '1' of model 'google-stock-model'.\n"
     ]
    }
   ],
   "source": [
    "run_id = input(\"Ingrese el run_id\")\n",
    "run_uri = f\"runs:/{run_id}/model\"\n",
    "\n",
    "result = mlflow.register_model(\n",
    "    model_uri=run_uri,\n",
    "    name=\"google-stock-model\"\n",
    ")"
   ]
  },
  {
   "cell_type": "code",
   "execution_count": 27,
   "id": "3f51d33a-fea3-4e02-932c-1d4205e9c2b6",
   "metadata": {},
   "outputs": [
    {
     "data": {
      "text/plain": [
       "<ModelVersion: aliases=['champion'], creation_timestamp=1727550617515, current_stage='None', description='The model version 1 was transitioned to champion on 2024-09-28 13:12:02.669914', last_updated_timestamp=1727550720469, name='google-stock-model', run_id='5fc0756e7f73427cb4b6a8bed889a20b', run_link='', source='mlflow-artifacts:/6ec4ca913e1442d7a8287af46c3fa3b1/5fc0756e7f73427cb4b6a8bed889a20b/artifacts/model', status='READY', status_message='', tags={}, user_id='', version='1'>"
      ]
     },
     "execution_count": 27,
     "metadata": {},
     "output_type": "execute_result"
    }
   ],
   "source": [
    "from datetime import datetime\n",
    "from mlflow import MlflowClient\n",
    "\n",
    "client = MlflowClient(tracking_uri=MLFLOW_TRACKING_URI)\n",
    "client.update_registered_model(\n",
    "    name=\"google-stock-model\",\n",
    "    description=\"Model registry for the google stock prediction\",\n",
    ")\n",
    "\n",
    "new_alias = \"champion\"\n",
    "date = datetime.today()\n",
    "model_version = \"1\"\n",
    "\n",
    "# create \"champion\" alias for version 1 of model \"nyc-taxi-model\"\n",
    "client.set_registered_model_alias(\n",
    "    name=\"google-stock-model\",\n",
    "    alias=new_alias,\n",
    "    version=model_version\n",
    ")\n",
    "\n",
    "client.update_model_version(\n",
    "    name=\"google-stock-model\",\n",
    "    version=model_version,\n",
    "    description=f\"The model version {model_version} was transitioned to {new_alias} on {date}\",\n",
    ")"
   ]
  },
  {
   "cell_type": "code",
   "execution_count": 28,
   "id": "3c71219f-2ebc-4056-87bb-759c013d19fd",
   "metadata": {},
   "outputs": [
    {
     "data": {
      "application/vnd.jupyter.widget-view+json": {
       "model_id": "5a8ef1da31f04d8993ca00b7d7c71131",
       "version_major": 2,
       "version_minor": 0
      },
      "text/plain": [
       "Downloading artifacts:   0%|          | 0/5 [00:00<?, ?it/s]"
      ]
     },
     "metadata": {},
     "output_type": "display_data"
    },
    {
     "data": {
      "text/plain": [
       "array([143.453   ,  72.09996 ,  36.609688,  39.58499 ,  28.274122,\n",
       "       101.74806 ,  55.14543 , 135.74756 ,  27.341633, 100.93057 ,\n",
       "        98.4985  ,  33.11652 ,  41.786972,  53.575924, 104.2153  ,\n",
       "       144.40746 ,  78.695564, 109.47353 ,  37.52547 , 109.6177  ,\n",
       "       114.617744,  74.52254 , 137.93652 ,  88.22144 ,  55.855217,\n",
       "       141.85316 ,  59.42868 ,  35.214108,  60.18714 ,  66.35824 ,\n",
       "        27.66563 ,  99.641205, 112.27483 ,  39.037693, 120.42924 ,\n",
       "       135.73648 ,  59.399837,  68.086845,  42.42141 ,  52.24469 ,\n",
       "       129.81413 , 140.84976 ,  39.980915,  54.611214, 118.23367 ,\n",
       "        75.56147 , 147.15639 ,  46.274845, 102.66855 ,  41.178814,\n",
       "        27.851946, 145.38954 , 133.83778 ,  40.492138, 145.56761 ,\n",
       "        90.6261  ,  59.570694,  48.011665,  73.25103 , 127.962166,\n",
       "        52.441124,  30.575087,  90.829254,  71.52325 , 115.75765 ,\n",
       "        38.918068, 104.460266,  36.359734,  52.231182, 129.63306 ,\n",
       "       130.11194 ,  56.01812 , 127.7084  ,  52.599   ,  35.273872,\n",
       "        76.00729 ,  38.278004,  48.42332 , 141.8747  ,  41.554947,\n",
       "       118.80043 ,  37.54703 ,  68.89735 ,  67.84433 ,  38.530613,\n",
       "       133.5017  ,  59.090683,  37.905464,  51.641396, 114.718925,\n",
       "        55.506737,  56.911743,  28.466753,  97.34327 ,  38.022587,\n",
       "       112.94074 , 139.09103 ,  74.357925,  60.190464, 116.50657 ,\n",
       "        48.937195, 104.097145, 138.59888 ,  90.818794, 128.91794 ,\n",
       "        39.897953,  26.967049,  88.10714 ,  58.8842  ,  56.02044 ,\n",
       "        36.062965, 135.15353 ,  41.29537 ,  39.947548,  91.63188 ,\n",
       "       126.107475,  32.256477,  60.54023 , 124.84242 ,  53.65638 ,\n",
       "        48.165115,  79.16928 ,  41.6908  ,  27.52757 ,  34.10237 ,\n",
       "        46.98163 ,  55.132687,  57.687313, 132.3956  ,  72.08722 ,\n",
       "        28.159615,  60.148487,  55.66687 , 109.26734 ,  37.87889 ,\n",
       "        74.411514, 121.579895, 128.76447 , 144.39749 ,  56.02837 ,\n",
       "       114.25162 , 104.59541 , 113.96298 ,  47.493607,  95.6334  ,\n",
       "        41.31402 ,  94.593864,  36.583626,  52.663326, 128.67761 ,\n",
       "        35.71123 , 140.86638 ,  26.966442, 135.2732  , 119.7324  ,\n",
       "       110.35968 , 105.62892 ,  40.211536,  38.972008, 145.19646 ,\n",
       "        69.35454 ,  41.012928,  60.373344,  90.77421 ,  48.025833,\n",
       "        77.60735 ,  41.78892 , 127.962166,  27.199635, 135.9975  ,\n",
       "       131.90234 ,  27.19022 ,  27.558224, 102.80235 ,  67.789894,\n",
       "       135.76239 , 130.83336 ,  36.589092,  27.647789,  63.57028 ,\n",
       "        80.98438 ,  62.920853, 107.014694,  61.602974,  58.71304 ,\n",
       "       113.77767 , 130.96074 ,  57.668633,  68.27185 ,  52.23515 ,\n",
       "       135.18123 ,  36.05183 ,  59.953053,  53.444656, 113.06111 ,\n",
       "        58.685387,  64.520035,  86.64118 ,  56.506203,  25.598211,\n",
       "       100.737885, 137.44081 , 104.505905,  67.08272 , 141.50581 ,\n",
       "        27.341633, 128.68759 ,  61.512486,  54.08113 ,  47.97402 ,\n",
       "        67.04316 ,  46.722076,  75.675896,  31.859686, 139.07176 ,\n",
       "        49.775066,  58.420815,  50.480534, 138.56805 ,  52.61056 ,\n",
       "        52.67508 , 117.61727 , 137.90349 ,  50.1987  ,  60.356556,\n",
       "        70.38134 , 117.57463 ,  89.03274 ,  53.200115,  49.132683,\n",
       "       109.47299 , 115.652   , 135.16632 , 133.92003 ,  60.367107,\n",
       "        48.52289 , 102.6971  ,  37.791866,  51.368256,  56.49322 ,\n",
       "        38.984924,  56.0261  ,  34.75478 ,  26.190166,  82.02433 ,\n",
       "        52.391884, 140.6082  , 114.73529 ,  46.42127 ,  37.913372,\n",
       "        72.5771  ,  35.28533 ,  40.34948 ,  33.39071 ,  51.657673,\n",
       "        63.148106,  38.834885,  65.33076 ,  41.575897,  27.123423,\n",
       "        60.387398,  38.927486, 143.53712 ,  56.3113  ,  40.59184 ,\n",
       "        99.71491 ,  39.98414 ,  70.2944  ,  32.316483, 120.53413 ,\n",
       "        57.26709 ,  36.36058 ,  47.315765,  39.028442,  85.40301 ,\n",
       "        38.779655,  41.34417 ,  51.00563 ,  64.25312 , 136.4663  ,\n",
       "        57.07832 , 141.4947  ,  36.58278 ,  89.14267 , 127.50608 ,\n",
       "        84.16326 ,  52.061478,  52.62552 ,  85.656044,  39.980537,\n",
       "        53.54964 ,  43.39576 ,  70.2446  ,  57.239594, 140.88232 ,\n",
       "        56.028297,  51.30864 ,  32.49393 ,  52.03493 ,  27.93473 ,\n",
       "        90.219284,  57.65875 ,  67.81484 ,  60.383896,  40.227367,\n",
       "        35.282207, 119.854515, 100.483475,  55.655125,  40.41197 ,\n",
       "        42.466106,  45.591454,  88.08357 , 130.94792 ,  70.49046 ,\n",
       "       137.0886  ,  52.265663,  40.107727,  32.885254,  60.714397,\n",
       "        65.53964 ,  42.817806,  60.94742 , 119.7065  ,  61.97949 ,\n",
       "       148.86476 , 129.89803 ,  64.43667 ,  39.260025,  64.5505  ,\n",
       "        40.205307,  62.77908 ,  57.97452 , 109.40089 ,  39.30083 ,\n",
       "       101.887825, 144.24336 ,  64.44561 ,  37.57691 ,  36.376404,\n",
       "        39.747166,  37.9719  ,  27.647789, 117.01636 ,  35.925568,\n",
       "       133.49855 ,  43.39576 , 113.93484 ,  72.04554 ,  53.20446 ,\n",
       "       135.99208 ,  51.336002,  27.213358, 105.01542 ,  30.946985,\n",
       "        88.27276 ,  70.48889 ,  79.197685,  47.72929 ,  27.487864,\n",
       "        59.16674 ,  37.188587,  41.16843 , 117.65876 ,  89.0294  ,\n",
       "       139.71571 ,  57.67247 ,  27.973171,  52.44028 , 124.262344,\n",
       "        94.81113 ,  36.938786, 102.65595 ,  54.28584 ,  26.173418,\n",
       "        60.15576 ,  37.760582, 145.93144 , 122.27828 ,  68.65987 ,\n",
       "        39.038994, 129.71657 ,  75.29387 , 148.3854  ,  49.69079 ,\n",
       "        38.90307 , 119.65982 ,  49.67929 ,  37.17329 ,  52.60925 ,\n",
       "        36.94021 ,  61.75477 , 113.72986 ,  37.172375, 119.55108 ,\n",
       "        37.188587,  38.01511 ,  97.31282 ,  55.00611 ,  42.050037,\n",
       "        54.9941  ,  37.418385, 135.17195 ,  86.64254 , 139.83058 ,\n",
       "        37.999435, 141.83322 , 123.33061 ,  92.32808 ,  52.831505,\n",
       "       106.11673 , 105.4764  ,  97.32802 , 118.87251 , 122.00181 ,\n",
       "       122.785995,  26.380112,  37.17149 ,  56.02601 ,  35.637127,\n",
       "       114.35557 ,  56.880547,  52.84662 ,  40.1934  ,  55.854805,\n",
       "       110.13371 ,  97.37245 ,  37.39733 , 102.512024,  40.616425,\n",
       "        74.34174 ,  36.36189 ,  63.06092 ,  87.518005, 102.705574,\n",
       "        98.53852 ,  96.5474  , 119.642265,  33.39478 ,  47.10797 ,\n",
       "        89.44642 ,  34.053207, 111.94651 ,  40.590023,  39.320778,\n",
       "        50.180695,  39.408348,  58.676205,  47.202625,  25.184885,\n",
       "        86.62515 , 107.85972 ,  40.240906], dtype=float32)"
      ]
     },
     "execution_count": 28,
     "metadata": {},
     "output_type": "execute_result"
    }
   ],
   "source": [
    "import mlflow.pyfunc\n",
    "\n",
    "model_name = \"google-stock-model\"\n",
    "alias = \"champion\"\n",
    "\n",
    "model_uri = f\"models:/{model_name}@{alias}\"\n",
    "\n",
    "champion_version = mlflow.pyfunc.load_model(\n",
    "    model_uri=model_uri\n",
    ")\n",
    "\n",
    "champion_version.predict(X_val)"
   ]
  }
 ],
 "metadata": {
  "kernelspec": {
   "display_name": "Python 3 (ipykernel)",
   "language": "python",
   "name": "python3"
  },
  "language_info": {
   "codemirror_mode": {
    "name": "ipython",
    "version": 3
   },
   "file_extension": ".py",
   "mimetype": "text/x-python",
   "name": "python",
   "nbconvert_exporter": "python",
   "pygments_lexer": "ipython3",
   "version": "3.12.6"
  }
 },
 "nbformat": 4,
 "nbformat_minor": 5
}
