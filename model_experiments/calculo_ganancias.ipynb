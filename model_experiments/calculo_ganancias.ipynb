{
 "cells": [
  {
   "cell_type": "code",
   "execution_count": 1,
   "id": "d7c6f1eb-5b15-477d-9706-dc2597cb085c",
   "metadata": {
    "ExecuteTime": {
     "end_time": "2024-11-15T03:25:31.280585600Z",
     "start_time": "2024-11-15T03:25:26.040279600Z"
    }
   },
   "outputs": [],
   "source": [
    "# Importaciones necesarias\n",
    "import mlflow.pyfunc\n",
    "from datetime import timedelta\n",
    "import pandas as pd\n",
    "import dagshub\n",
    "import yfinance as yf"
   ]
  },
  {
   "cell_type": "code",
   "execution_count": 2,
   "id": "fc12d2f8-f46c-41d9-8dc4-f6a2c12d815c",
   "metadata": {
    "scrolled": true,
    "ExecuteTime": {
     "end_time": "2024-11-15T03:26:54.286603700Z",
     "start_time": "2024-11-15T03:26:31.392017200Z"
    }
   },
   "outputs": [
    {
     "data": {
      "text/plain": "Accessing as PacoTinoco\n",
      "text/html": "<pre style=\"white-space:pre;overflow-x:auto;line-height:normal;font-family:Menlo,'DejaVu Sans Mono',consolas,'Courier New',monospace\">Accessing as PacoTinoco\n</pre>\n"
     },
     "metadata": {},
     "output_type": "display_data"
    },
    {
     "data": {
      "text/plain": "Initialized MLflow to track repo \u001B[32m\"PacoTinoco/Proyecto_Final_CDD\"\u001B[0m\n",
      "text/html": "<pre style=\"white-space:pre;overflow-x:auto;line-height:normal;font-family:Menlo,'DejaVu Sans Mono',consolas,'Courier New',monospace\">Initialized MLflow to track repo <span style=\"color: #008000; text-decoration-color: #008000\">\"PacoTinoco/Proyecto_Final_CDD\"</span>\n</pre>\n"
     },
     "metadata": {},
     "output_type": "display_data"
    },
    {
     "data": {
      "text/plain": "Repository PacoTinoco/Proyecto_Final_CDD initialized!\n",
      "text/html": "<pre style=\"white-space:pre;overflow-x:auto;line-height:normal;font-family:Menlo,'DejaVu Sans Mono',consolas,'Courier New',monospace\">Repository PacoTinoco/Proyecto_Final_CDD initialized!\n</pre>\n"
     },
     "metadata": {},
     "output_type": "display_data"
    },
    {
     "data": {
      "text/plain": "Downloading artifacts:   0%|          | 0/6 [00:00<?, ?it/s]",
      "application/vnd.jupyter.widget-view+json": {
       "version_major": 2,
       "version_minor": 0,
       "model_id": "ad2d06d618dd40debea0240935476bb5"
      }
     },
     "metadata": {},
     "output_type": "display_data"
    }
   ],
   "source": [
    "# Definir la configuración del modelo y el alias del modelo optimizado\n",
    "dagshub.init(url=\"https://dagshub.com/PacoTinoco/Proyecto_Final_CDD\", mlflow=True)\n",
    "MLFLOW_TRACKING_URI = mlflow.get_tracking_uri()\n",
    "\n",
    "model_name = \"google-stock-model-randomforest-perfect\"\n",
    "alias = \"champion\"\n",
    "model_uri = f\"models:/{model_name}@{alias}\"\n",
    "\n",
    "# Cargar el modelo entrenado de MLflow\n",
    "model = mlflow.pyfunc.load_model(model_uri)\n"
   ]
  },
  {
   "cell_type": "code",
   "execution_count": 23,
   "id": "88e427cc-fb87-4779-8dfd-112177eb4a0a",
   "metadata": {
    "ExecuteTime": {
     "end_time": "2024-11-15T03:54:32.108479200Z",
     "start_time": "2024-11-15T03:54:27.776047300Z"
    }
   },
   "outputs": [],
   "source": [
    "# Solicitar datos al usuario\n",
    "capital_inicial = float(input(\"Ingrese el capital inicial a invertir en USD: \"))\n",
    "dias_inversion = int(input(\"Ingrese el número de días de inversión: \"))\n"
   ]
  },
  {
   "cell_type": "code",
   "execution_count": 24,
   "id": "2f075938-10d3-4158-9e89-3209b4fe9e13",
   "metadata": {
    "ExecuteTime": {
     "end_time": "2024-11-15T03:54:54.679641500Z",
     "start_time": "2024-11-15T03:54:53.361186500Z"
    }
   },
   "outputs": [
    {
     "name": "stderr",
     "output_type": "stream",
     "text": [
      "[*********************100%***********************]  1 of 1 completed\n"
     ]
    }
   ],
   "source": [
    "# Descargar datos históricos recientes para Google\n",
    "data = yf.download('GOOGL', period=\"1mo\")\n",
    "# Usar la última fila como base\n",
    "input_data = data.iloc[-1:]\n",
    "\n",
    "# Iterar para simular la predicción de cada día adicional\n",
    "precio_inicial = input_data['Close']\n",
    "cantidad_acciones = capital_inicial / precio_inicial\n",
    "precio_estimado = precio_inicial\n"
   ]
  },
  {
   "cell_type": "code",
   "execution_count": 25,
   "id": "0b94e39a-0929-44e7-8179-2e20381bfc4e",
   "metadata": {
    "ExecuteTime": {
     "end_time": "2024-11-15T03:54:57.363130400Z",
     "start_time": "2024-11-15T03:54:57.299403Z"
    }
   },
   "outputs": [
    {
     "data": {
      "text/plain": "                  Open        High         Low       Close   Adj Close  \\\nDate                                                                     \n2024-11-14  178.279999  178.820007  174.320007  175.580002  175.580002   \n\n              Volume  \nDate                  \n2024-11-14  30989100  ",
      "text/html": "<div>\n<style scoped>\n    .dataframe tbody tr th:only-of-type {\n        vertical-align: middle;\n    }\n\n    .dataframe tbody tr th {\n        vertical-align: top;\n    }\n\n    .dataframe thead th {\n        text-align: right;\n    }\n</style>\n<table border=\"1\" class=\"dataframe\">\n  <thead>\n    <tr style=\"text-align: right;\">\n      <th></th>\n      <th>Open</th>\n      <th>High</th>\n      <th>Low</th>\n      <th>Close</th>\n      <th>Adj Close</th>\n      <th>Volume</th>\n    </tr>\n    <tr>\n      <th>Date</th>\n      <th></th>\n      <th></th>\n      <th></th>\n      <th></th>\n      <th></th>\n      <th></th>\n    </tr>\n  </thead>\n  <tbody>\n    <tr>\n      <th>2024-11-14</th>\n      <td>178.279999</td>\n      <td>178.820007</td>\n      <td>174.320007</td>\n      <td>175.580002</td>\n      <td>175.580002</td>\n      <td>30989100</td>\n    </tr>\n  </tbody>\n</table>\n</div>"
     },
     "execution_count": 25,
     "metadata": {},
     "output_type": "execute_result"
    }
   ],
   "source": [
    "input_data"
   ]
  },
  {
   "cell_type": "code",
   "execution_count": 26,
   "id": "873e490a-698d-4f7e-bde4-3ca6b600315f",
   "metadata": {
    "ExecuteTime": {
     "end_time": "2024-11-15T03:55:00.410088700Z",
     "start_time": "2024-11-15T03:55:00.376795400Z"
    }
   },
   "outputs": [
    {
     "data": {
      "text/plain": "Date\n2024-11-14    175.580002\nName: Close, dtype: float64"
     },
     "execution_count": 26,
     "metadata": {},
     "output_type": "execute_result"
    }
   ],
   "source": [
    "precio_inicial = input_data['Close']\n",
    "precio_inicial"
   ]
  },
  {
   "cell_type": "code",
   "execution_count": 27,
   "id": "31d90fe2-1e23-4098-8687-7763aefb8b07",
   "metadata": {
    "ExecuteTime": {
     "end_time": "2024-11-15T03:55:07.542957900Z",
     "start_time": "2024-11-15T03:55:07.515588200Z"
    }
   },
   "outputs": [
    {
     "name": "stderr",
     "output_type": "stream",
     "text": [
      "C:\\Users\\Francisco\\AppData\\Local\\Temp\\ipykernel_10600\\614707743.py:5: SettingWithCopyWarning: \n",
      "A value is trying to be set on a copy of a slice from a DataFrame.\n",
      "Try using .loc[row_indexer,col_indexer] = value instead\n",
      "\n",
      "See the caveats in the documentation: https://pandas.pydata.org/pandas-docs/stable/user_guide/indexing.html#returning-a-view-versus-a-copy\n",
      "  input_data['Close'] = precio_estimado\n"
     ]
    }
   ],
   "source": [
    "for _ in range(dias_inversion):\n",
    "    # Predecir el precio de cierre del día\n",
    "    precio_estimado = model.predict(input_data)\n",
    "    # Actualizar el dataframe de entrada con el precio proyectado\n",
    "    input_data['Close'] = precio_estimado\n",
    "    input_data.index += timedelta(days=1)\n",
    "\n",
    "# Calcular el capital final con la proyección de precio final\n",
    "capital_final = cantidad_acciones * precio_estimado\n",
    "ganancia_estimada = capital_final - capital_inicial"
   ]
  },
  {
   "cell_type": "code",
   "outputs": [
    {
     "data": {
      "text/plain": "Date\n2024-11-14   -150.232603\nName: Close, dtype: float64"
     },
     "execution_count": 28,
     "metadata": {},
     "output_type": "execute_result"
    }
   ],
   "source": [
    "ganancia_estimada    "
   ],
   "metadata": {
    "collapsed": false,
    "ExecuteTime": {
     "end_time": "2024-11-15T03:55:10.578912800Z",
     "start_time": "2024-11-15T03:55:10.563445400Z"
    }
   },
   "id": "ebb5d07f09374db8",
   "execution_count": 28
  },
  {
   "cell_type": "code",
   "outputs": [],
   "source": [
    "# Extraer valores numéricos para evitar el error de Series\n",
    "capital_final = capital_final.iloc[0] if isinstance(capital_final, pd.Series) else capital_final\n",
    "ganancia_estimada = ganancia_estimada.iloc[0] if isinstance(ganancia_estimada, pd.Series) else ganancia_estimada"
   ],
   "metadata": {
    "collapsed": false,
    "ExecuteTime": {
     "end_time": "2024-11-15T03:55:21.345155700Z",
     "start_time": "2024-11-15T03:55:21.333952500Z"
    }
   },
   "id": "ce229017cbe8b505",
   "execution_count": 29
  },
  {
   "cell_type": "code",
   "outputs": [
    {
     "name": "stdout",
     "output_type": "stream",
     "text": [
      "Se estima que tendrás aproximadamente $849.77 USD al final de 1 días, con una ganancia de $-150.23 USD.\n"
     ]
    }
   ],
   "source": [
    "# Mostrar el resultado\n",
    "print(f\"Se estima que tendrás aproximadamente ${capital_final:.2f} USD al final de {dias_inversion} días, con una ganancia de ${ganancia_estimada:.2f} USD.\")"
   ],
   "metadata": {
    "collapsed": false,
    "ExecuteTime": {
     "end_time": "2024-11-15T03:55:28.100416300Z",
     "start_time": "2024-11-15T03:55:28.091083900Z"
    }
   },
   "id": "c54b8a4e60d86ba4",
   "execution_count": 31
  }
 ],
 "metadata": {
  "kernelspec": {
   "display_name": "Python 3 (ipykernel)",
   "language": "python",
   "name": "python3"
  },
  "language_info": {
   "codemirror_mode": {
    "name": "ipython",
    "version": 3
   },
   "file_extension": ".py",
   "mimetype": "text/x-python",
   "name": "python",
   "nbconvert_exporter": "python",
   "pygments_lexer": "ipython3",
   "version": "3.9.13"
  }
 },
 "nbformat": 4,
 "nbformat_minor": 5
}
