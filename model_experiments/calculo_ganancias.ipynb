{
 "cells": [
  {
   "cell_type": "code",
   "execution_count": 42,
   "id": "d7c6f1eb-5b15-477d-9706-dc2597cb085c",
   "metadata": {
    "ExecuteTime": {
     "end_time": "2024-11-16T03:09:33.102976200Z",
     "start_time": "2024-11-16T03:09:33.097858300Z"
    }
   },
   "outputs": [],
   "source": [
    "# Importaciones necesarias\n",
    "import mlflow.pyfunc\n",
    "from datetime import timedelta\n",
    "import pandas as pd\n",
    "import dagshub\n",
    "import yfinance as yf"
   ]
  },
  {
   "cell_type": "code",
   "execution_count": 33,
   "id": "fc12d2f8-f46c-41d9-8dc4-f6a2c12d815c",
   "metadata": {
    "scrolled": true,
    "ExecuteTime": {
     "end_time": "2024-11-16T03:08:30.040858300Z",
     "start_time": "2024-11-16T03:08:26.157059Z"
    }
   },
   "outputs": [
    {
     "data": {
      "text/plain": "Initialized MLflow to track repo \u001B[32m\"PacoTinoco/Proyecto_Final_CDD\"\u001B[0m\n",
      "text/html": "<pre style=\"white-space:pre;overflow-x:auto;line-height:normal;font-family:Menlo,'DejaVu Sans Mono',consolas,'Courier New',monospace\">Initialized MLflow to track repo <span style=\"color: #008000; text-decoration-color: #008000\">\"PacoTinoco/Proyecto_Final_CDD\"</span>\n</pre>\n"
     },
     "metadata": {},
     "output_type": "display_data"
    },
    {
     "data": {
      "text/plain": "Repository PacoTinoco/Proyecto_Final_CDD initialized!\n",
      "text/html": "<pre style=\"white-space:pre;overflow-x:auto;line-height:normal;font-family:Menlo,'DejaVu Sans Mono',consolas,'Courier New',monospace\">Repository PacoTinoco/Proyecto_Final_CDD initialized!\n</pre>\n"
     },
     "metadata": {},
     "output_type": "display_data"
    },
    {
     "data": {
      "text/plain": "Downloading artifacts:   0%|          | 0/6 [00:00<?, ?it/s]",
      "application/vnd.jupyter.widget-view+json": {
       "version_major": 2,
       "version_minor": 0,
       "model_id": "13a3a68312c5494ba556b62960015f04"
      }
     },
     "metadata": {},
     "output_type": "display_data"
    }
   ],
   "source": [
    "# Definir la configuración del modelo y el alias del modelo optimizado\n",
    "dagshub.init(url=\"https://dagshub.com/PacoTinoco/Proyecto_Final_CDD\", mlflow=True)\n",
    "MLFLOW_TRACKING_URI = mlflow.get_tracking_uri()\n",
    "\n",
    "model_name = \"amazon-stock-model-randomforest-prefect\"\n",
    "alias = \"champion\"\n",
    "model_uri = f\"models:/{model_name}@{alias}\"\n",
    "\n",
    "# Cargar el modelo entrenado de MLflow\n",
    "model = mlflow.pyfunc.load_model(model_uri)\n"
   ]
  },
  {
   "cell_type": "code",
   "execution_count": 43,
   "id": "88e427cc-fb87-4779-8dfd-112177eb4a0a",
   "metadata": {
    "ExecuteTime": {
     "end_time": "2024-11-16T03:10:28.732747300Z",
     "start_time": "2024-11-16T03:10:19.304899100Z"
    }
   },
   "outputs": [],
   "source": [
    "# Solicitar datos al usuario\n",
    "capital_inicial = float(input(\"Ingrese el capital inicial a invertir en USD: \"))\n",
    "dias_inversion = int(input(\"Ingrese el número de días de inversión: \"))\n"
   ]
  },
  {
   "cell_type": "code",
   "execution_count": 58,
   "id": "2f075938-10d3-4158-9e89-3209b4fe9e13",
   "metadata": {
    "ExecuteTime": {
     "end_time": "2024-11-16T19:58:40.538208Z",
     "start_time": "2024-11-16T19:58:38.828422100Z"
    }
   },
   "outputs": [
    {
     "name": "stderr",
     "output_type": "stream",
     "text": [
      "[*********************100%***********************]  1 of 1 completed\n"
     ]
    }
   ],
   "source": [
    "# Descargar datos históricos recientes para Google\n",
    "data = yf.download('AMZN', period=\"1mo\")\n",
    "# Usar la última fila como base\n",
    "input_data = data.iloc[-1:]\n",
    "\n",
    "# Iterar para simular la predicción de cada día adicional\n",
    "precio_inicial = input_data['Close']\n",
    "cantidad_acciones = capital_inicial / precio_inicial\n",
    "precio_estimado = precio_inicial\n"
   ]
  },
  {
   "cell_type": "code",
   "execution_count": 52,
   "id": "0b94e39a-0929-44e7-8179-2e20381bfc4e",
   "metadata": {
    "ExecuteTime": {
     "end_time": "2024-11-16T03:11:29.922002700Z",
     "start_time": "2024-11-16T03:11:29.901111100Z"
    }
   },
   "outputs": [
    {
     "data": {
      "text/plain": "                  Open        High         Low       Close   Adj Close  \\\nDate                                                                     \n2024-11-04  196.449997  197.330002  194.309998  195.779999  195.779999   \n2024-11-05  196.039993  199.820007  195.990005  199.500000  199.500000   \n2024-11-06  200.009995  207.550003  199.139999  207.089996  207.089996   \n2024-11-07  207.440002  212.250000  207.190002  210.050003  210.050003   \n2024-11-08  209.720001  209.960007  207.440002  208.179993  208.179993   \n2024-11-11  208.500000  209.649994  205.589996  206.839996  206.839996   \n2024-11-12  208.369995  209.539993  206.009995  208.910004  208.910004   \n2024-11-13  209.399994  215.089996  209.139999  214.100006  214.100006   \n2024-11-14  214.160004  215.899994  210.880005  211.479996  211.479996   \n2024-11-15  206.759995  207.339996  199.610001  202.610001  202.610001   \n\n              Volume  \nDate                  \n2024-11-04  38492100  \n2024-11-05  30564800  \n2024-11-06  72292200  \n2024-11-07  52878400  \n2024-11-08  36075800  \n2024-11-11  35456000  \n2024-11-12  38942900  \n2024-11-13  46212900  \n2024-11-14  42620300  \n2024-11-15  86418500  ",
      "text/html": "<div>\n<style scoped>\n    .dataframe tbody tr th:only-of-type {\n        vertical-align: middle;\n    }\n\n    .dataframe tbody tr th {\n        vertical-align: top;\n    }\n\n    .dataframe thead th {\n        text-align: right;\n    }\n</style>\n<table border=\"1\" class=\"dataframe\">\n  <thead>\n    <tr style=\"text-align: right;\">\n      <th></th>\n      <th>Open</th>\n      <th>High</th>\n      <th>Low</th>\n      <th>Close</th>\n      <th>Adj Close</th>\n      <th>Volume</th>\n    </tr>\n    <tr>\n      <th>Date</th>\n      <th></th>\n      <th></th>\n      <th></th>\n      <th></th>\n      <th></th>\n      <th></th>\n    </tr>\n  </thead>\n  <tbody>\n    <tr>\n      <th>2024-11-04</th>\n      <td>196.449997</td>\n      <td>197.330002</td>\n      <td>194.309998</td>\n      <td>195.779999</td>\n      <td>195.779999</td>\n      <td>38492100</td>\n    </tr>\n    <tr>\n      <th>2024-11-05</th>\n      <td>196.039993</td>\n      <td>199.820007</td>\n      <td>195.990005</td>\n      <td>199.500000</td>\n      <td>199.500000</td>\n      <td>30564800</td>\n    </tr>\n    <tr>\n      <th>2024-11-06</th>\n      <td>200.009995</td>\n      <td>207.550003</td>\n      <td>199.139999</td>\n      <td>207.089996</td>\n      <td>207.089996</td>\n      <td>72292200</td>\n    </tr>\n    <tr>\n      <th>2024-11-07</th>\n      <td>207.440002</td>\n      <td>212.250000</td>\n      <td>207.190002</td>\n      <td>210.050003</td>\n      <td>210.050003</td>\n      <td>52878400</td>\n    </tr>\n    <tr>\n      <th>2024-11-08</th>\n      <td>209.720001</td>\n      <td>209.960007</td>\n      <td>207.440002</td>\n      <td>208.179993</td>\n      <td>208.179993</td>\n      <td>36075800</td>\n    </tr>\n    <tr>\n      <th>2024-11-11</th>\n      <td>208.500000</td>\n      <td>209.649994</td>\n      <td>205.589996</td>\n      <td>206.839996</td>\n      <td>206.839996</td>\n      <td>35456000</td>\n    </tr>\n    <tr>\n      <th>2024-11-12</th>\n      <td>208.369995</td>\n      <td>209.539993</td>\n      <td>206.009995</td>\n      <td>208.910004</td>\n      <td>208.910004</td>\n      <td>38942900</td>\n    </tr>\n    <tr>\n      <th>2024-11-13</th>\n      <td>209.399994</td>\n      <td>215.089996</td>\n      <td>209.139999</td>\n      <td>214.100006</td>\n      <td>214.100006</td>\n      <td>46212900</td>\n    </tr>\n    <tr>\n      <th>2024-11-14</th>\n      <td>214.160004</td>\n      <td>215.899994</td>\n      <td>210.880005</td>\n      <td>211.479996</td>\n      <td>211.479996</td>\n      <td>42620300</td>\n    </tr>\n    <tr>\n      <th>2024-11-15</th>\n      <td>206.759995</td>\n      <td>207.339996</td>\n      <td>199.610001</td>\n      <td>202.610001</td>\n      <td>202.610001</td>\n      <td>86418500</td>\n    </tr>\n  </tbody>\n</table>\n</div>"
     },
     "execution_count": 52,
     "metadata": {},
     "output_type": "execute_result"
    }
   ],
   "source": [
    "input_data"
   ]
  },
  {
   "cell_type": "code",
   "execution_count": 53,
   "id": "873e490a-698d-4f7e-bde4-3ca6b600315f",
   "metadata": {
    "ExecuteTime": {
     "end_time": "2024-11-16T03:11:34.717008100Z",
     "start_time": "2024-11-16T03:11:34.709793900Z"
    }
   },
   "outputs": [
    {
     "data": {
      "text/plain": "Date\n2024-11-04    195.779999\n2024-11-05    199.500000\n2024-11-06    207.089996\n2024-11-07    210.050003\n2024-11-08    208.179993\n2024-11-11    206.839996\n2024-11-12    208.910004\n2024-11-13    214.100006\n2024-11-14    211.479996\n2024-11-15    202.610001\nName: Close, dtype: float64"
     },
     "execution_count": 53,
     "metadata": {},
     "output_type": "execute_result"
    }
   ],
   "source": [
    "precio_inicial = input_data['Close']\n",
    "precio_inicial"
   ]
  },
  {
   "cell_type": "code",
   "execution_count": 54,
   "id": "31d90fe2-1e23-4098-8687-7763aefb8b07",
   "metadata": {
    "ExecuteTime": {
     "end_time": "2024-11-16T03:11:41.687312200Z",
     "start_time": "2024-11-16T03:11:41.641271400Z"
    }
   },
   "outputs": [
    {
     "name": "stderr",
     "output_type": "stream",
     "text": [
      "C:\\Users\\Francisco\\AppData\\Local\\Temp\\ipykernel_10600\\614707743.py:5: SettingWithCopyWarning: \n",
      "A value is trying to be set on a copy of a slice from a DataFrame.\n",
      "Try using .loc[row_indexer,col_indexer] = value instead\n",
      "\n",
      "See the caveats in the documentation: https://pandas.pydata.org/pandas-docs/stable/user_guide/indexing.html#returning-a-view-versus-a-copy\n",
      "  input_data['Close'] = precio_estimado\n",
      "C:\\Users\\Francisco\\AppData\\Local\\Temp\\ipykernel_10600\\614707743.py:5: SettingWithCopyWarning: \n",
      "A value is trying to be set on a copy of a slice from a DataFrame.\n",
      "Try using .loc[row_indexer,col_indexer] = value instead\n",
      "\n",
      "See the caveats in the documentation: https://pandas.pydata.org/pandas-docs/stable/user_guide/indexing.html#returning-a-view-versus-a-copy\n",
      "  input_data['Close'] = precio_estimado\n",
      "C:\\Users\\Francisco\\AppData\\Local\\Temp\\ipykernel_10600\\614707743.py:5: SettingWithCopyWarning: \n",
      "A value is trying to be set on a copy of a slice from a DataFrame.\n",
      "Try using .loc[row_indexer,col_indexer] = value instead\n",
      "\n",
      "See the caveats in the documentation: https://pandas.pydata.org/pandas-docs/stable/user_guide/indexing.html#returning-a-view-versus-a-copy\n",
      "  input_data['Close'] = precio_estimado\n",
      "C:\\Users\\Francisco\\AppData\\Local\\Temp\\ipykernel_10600\\614707743.py:5: SettingWithCopyWarning: \n",
      "A value is trying to be set on a copy of a slice from a DataFrame.\n",
      "Try using .loc[row_indexer,col_indexer] = value instead\n",
      "\n",
      "See the caveats in the documentation: https://pandas.pydata.org/pandas-docs/stable/user_guide/indexing.html#returning-a-view-versus-a-copy\n",
      "  input_data['Close'] = precio_estimado\n",
      "C:\\Users\\Francisco\\AppData\\Local\\Temp\\ipykernel_10600\\614707743.py:5: SettingWithCopyWarning: \n",
      "A value is trying to be set on a copy of a slice from a DataFrame.\n",
      "Try using .loc[row_indexer,col_indexer] = value instead\n",
      "\n",
      "See the caveats in the documentation: https://pandas.pydata.org/pandas-docs/stable/user_guide/indexing.html#returning-a-view-versus-a-copy\n",
      "  input_data['Close'] = precio_estimado\n",
      "C:\\Users\\Francisco\\AppData\\Local\\Temp\\ipykernel_10600\\614707743.py:5: SettingWithCopyWarning: \n",
      "A value is trying to be set on a copy of a slice from a DataFrame.\n",
      "Try using .loc[row_indexer,col_indexer] = value instead\n",
      "\n",
      "See the caveats in the documentation: https://pandas.pydata.org/pandas-docs/stable/user_guide/indexing.html#returning-a-view-versus-a-copy\n",
      "  input_data['Close'] = precio_estimado\n",
      "C:\\Users\\Francisco\\AppData\\Local\\Temp\\ipykernel_10600\\614707743.py:5: SettingWithCopyWarning: \n",
      "A value is trying to be set on a copy of a slice from a DataFrame.\n",
      "Try using .loc[row_indexer,col_indexer] = value instead\n",
      "\n",
      "See the caveats in the documentation: https://pandas.pydata.org/pandas-docs/stable/user_guide/indexing.html#returning-a-view-versus-a-copy\n",
      "  input_data['Close'] = precio_estimado\n",
      "C:\\Users\\Francisco\\AppData\\Local\\Temp\\ipykernel_10600\\614707743.py:5: SettingWithCopyWarning: \n",
      "A value is trying to be set on a copy of a slice from a DataFrame.\n",
      "Try using .loc[row_indexer,col_indexer] = value instead\n",
      "\n",
      "See the caveats in the documentation: https://pandas.pydata.org/pandas-docs/stable/user_guide/indexing.html#returning-a-view-versus-a-copy\n",
      "  input_data['Close'] = precio_estimado\n",
      "C:\\Users\\Francisco\\AppData\\Local\\Temp\\ipykernel_10600\\614707743.py:5: SettingWithCopyWarning: \n",
      "A value is trying to be set on a copy of a slice from a DataFrame.\n",
      "Try using .loc[row_indexer,col_indexer] = value instead\n",
      "\n",
      "See the caveats in the documentation: https://pandas.pydata.org/pandas-docs/stable/user_guide/indexing.html#returning-a-view-versus-a-copy\n",
      "  input_data['Close'] = precio_estimado\n",
      "C:\\Users\\Francisco\\AppData\\Local\\Temp\\ipykernel_10600\\614707743.py:5: SettingWithCopyWarning: \n",
      "A value is trying to be set on a copy of a slice from a DataFrame.\n",
      "Try using .loc[row_indexer,col_indexer] = value instead\n",
      "\n",
      "See the caveats in the documentation: https://pandas.pydata.org/pandas-docs/stable/user_guide/indexing.html#returning-a-view-versus-a-copy\n",
      "  input_data['Close'] = precio_estimado\n"
     ]
    }
   ],
   "source": [
    "for _ in range(dias_inversion):\n",
    "    # Predecir el precio de cierre del día\n",
    "    precio_estimado = model.predict(input_data)\n",
    "    # Actualizar el dataframe de entrada con el precio proyectado\n",
    "    input_data['Close'] = precio_estimado\n",
    "    input_data.index += timedelta(days=1)\n",
    "\n",
    "# Calcular el capital final con la proyección de precio final\n",
    "capital_final = cantidad_acciones * precio_estimado\n",
    "ganancia_estimada = capital_final - capital_inicial"
   ]
  },
  {
   "cell_type": "code",
   "outputs": [
    {
     "data": {
      "text/plain": "Date\n2024-11-04    -58.074190\n2024-11-05    -75.637926\n2024-11-06   -109.156036\n2024-11-07   -122.065074\n2024-11-08   -114.178882\n2024-11-11   -108.440161\n2024-11-12   -117.274278\n2024-11-13   -138.672449\n2024-11-14   -128.001525\n2024-11-15    -89.464432\nName: Close, dtype: float64"
     },
     "execution_count": 55,
     "metadata": {},
     "output_type": "execute_result"
    }
   ],
   "source": [
    "ganancia_estimada    "
   ],
   "metadata": {
    "collapsed": false,
    "ExecuteTime": {
     "end_time": "2024-11-16T03:11:45.452874800Z",
     "start_time": "2024-11-16T03:11:45.435970400Z"
    }
   },
   "id": "ebb5d07f09374db8",
   "execution_count": 55
  },
  {
   "cell_type": "code",
   "outputs": [],
   "source": [
    "# Extraer valores numéricos para evitar el error de Series\n",
    "capital_final = capital_final.iloc[0] if isinstance(capital_final, pd.Series) else capital_final\n",
    "ganancia_estimada = ganancia_estimada.iloc[0] if isinstance(ganancia_estimada, pd.Series) else ganancia_estimada"
   ],
   "metadata": {
    "collapsed": false,
    "ExecuteTime": {
     "end_time": "2024-11-16T03:11:52.065453800Z",
     "start_time": "2024-11-16T03:11:52.059447300Z"
    }
   },
   "id": "ce229017cbe8b505",
   "execution_count": 56
  },
  {
   "cell_type": "code",
   "outputs": [
    {
     "name": "stdout",
     "output_type": "stream",
     "text": [
      "Se estima que tendrás aproximadamente $941.93 USD al final de 10 días, con una ganancia de $-58.07 USD.\n"
     ]
    }
   ],
   "source": [
    "# Mostrar el resultado\n",
    "print(f\"Se estima que tendrás aproximadamente ${capital_final:.2f} USD al final de {dias_inversion} días, con una ganancia de ${ganancia_estimada:.2f} USD.\")"
   ],
   "metadata": {
    "collapsed": false,
    "ExecuteTime": {
     "end_time": "2024-11-16T03:11:54.654451800Z",
     "start_time": "2024-11-16T03:11:54.644934900Z"
    }
   },
   "id": "c54b8a4e60d86ba4",
   "execution_count": 57
  }
 ],
 "metadata": {
  "kernelspec": {
   "display_name": "Python 3 (ipykernel)",
   "language": "python",
   "name": "python3"
  },
  "language_info": {
   "codemirror_mode": {
    "name": "ipython",
    "version": 3
   },
   "file_extension": ".py",
   "mimetype": "text/x-python",
   "name": "python",
   "nbconvert_exporter": "python",
   "pygments_lexer": "ipython3",
   "version": "3.9.13"
  }
 },
 "nbformat": 4,
 "nbformat_minor": 5
}
