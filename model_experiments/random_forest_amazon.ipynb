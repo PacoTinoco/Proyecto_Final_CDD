{
 "cells": [
  {
   "cell_type": "code",
   "execution_count": 1,
   "id": "initial_id",
   "metadata": {
    "collapsed": true,
    "ExecuteTime": {
     "end_time": "2024-11-16T00:56:10.405651200Z",
     "start_time": "2024-11-16T00:56:05.475540400Z"
    }
   },
   "outputs": [
    {
     "name": "stderr",
     "output_type": "stream",
     "text": [
      "[*********************100%***********************]  1 of 1 completed\n"
     ]
    }
   ],
   "source": [
    "import yfinance as yf\n",
    "from datetime import date, timedelta\n",
    "from sklearn.model_selection import train_test_split\n",
    "import pandas as pd\n",
    "import matplotlib.pyplot as plt\n",
    "import seaborn as sns\n",
    "import yfinance as yf\n",
    "from sklearn.metrics import  root_mean_squared_error\n",
    "from sklearn.feature_extraction import  DictVectorizer\n",
    "from sklearn.linear_model import Lasso, Ridge, LinearRegression\n",
    "from sklearn.ensemble import RandomForestRegressor\n",
    "from sklearn.metrics import mean_squared_error\n",
    "from hyperopt import fmin, tpe, hp, STATUS_OK, Trials\n",
    "import numpy as np\n",
    "import mlflow\n",
    "\n",
    "# Test dates\n",
    "amazon_stock = yf.download('AMZN', start='2015-01-01', end='2024-01-01')"
   ]
  },
  {
   "cell_type": "code",
   "outputs": [
    {
     "name": "stdout",
     "output_type": "stream",
     "text": [
      "Tamaño del conjunto de entrenamiento: (1811, 4) (1811,)\n",
      "Tamaño del conjunto de prueba: (453, 4) (453,)\n"
     ]
    }
   ],
   "source": [
    "# Definir X e y\n",
    "X = amazon_stock.drop(columns=[\"Close\", \"Adj Close\"])\n",
    "y = amazon_stock[\"Close\"]\n",
    "\n",
    "\n",
    "# Dividir en entrenamiento y prueba (80% entrenamiento, 20% prueba)\n",
    "X_train, X_val, y_train, y_val = train_test_split(X, y, test_size=0.2, random_state=42)\n",
    "\n",
    "print(\"Tamaño del conjunto de entrenamiento:\", X_train.shape, y_train.shape)\n",
    "print(\"Tamaño del conjunto de prueba:\", X_val.shape, y_val.shape)"
   ],
   "metadata": {
    "collapsed": false,
    "ExecuteTime": {
     "end_time": "2024-11-16T00:56:59.182239600Z",
     "start_time": "2024-11-16T00:56:59.171015300Z"
    }
   },
   "id": "7d7d5b8718176b5f",
   "execution_count": 4
  },
  {
   "cell_type": "code",
   "outputs": [
    {
     "data": {
      "text/plain": "                  Open        High         Low    Volume\nDate                                                    \n2015-01-02   15.629000   15.737500   15.348000  55664000\n2015-01-05   15.350500   15.419000   15.042500  55484000\n2015-01-06   15.112000   15.150000   14.619000  70380000\n2015-01-07   14.875000   15.064000   14.766500  52806000\n2015-01-08   15.016000   15.157000   14.805500  61768000\n...                ...         ...         ...       ...\n2023-12-22  153.770004  154.350006  152.710007  29480100\n2023-12-26  153.559998  153.979996  153.029999  25067200\n2023-12-27  153.559998  154.779999  153.119995  31434700\n2023-12-28  153.720001  154.080002  152.949997  27057000\n2023-12-29  153.100006  153.889999  151.029999  39789000\n\n[2264 rows x 4 columns]",
      "text/html": "<div>\n<style scoped>\n    .dataframe tbody tr th:only-of-type {\n        vertical-align: middle;\n    }\n\n    .dataframe tbody tr th {\n        vertical-align: top;\n    }\n\n    .dataframe thead th {\n        text-align: right;\n    }\n</style>\n<table border=\"1\" class=\"dataframe\">\n  <thead>\n    <tr style=\"text-align: right;\">\n      <th></th>\n      <th>Open</th>\n      <th>High</th>\n      <th>Low</th>\n      <th>Volume</th>\n    </tr>\n    <tr>\n      <th>Date</th>\n      <th></th>\n      <th></th>\n      <th></th>\n      <th></th>\n    </tr>\n  </thead>\n  <tbody>\n    <tr>\n      <th>2015-01-02</th>\n      <td>15.629000</td>\n      <td>15.737500</td>\n      <td>15.348000</td>\n      <td>55664000</td>\n    </tr>\n    <tr>\n      <th>2015-01-05</th>\n      <td>15.350500</td>\n      <td>15.419000</td>\n      <td>15.042500</td>\n      <td>55484000</td>\n    </tr>\n    <tr>\n      <th>2015-01-06</th>\n      <td>15.112000</td>\n      <td>15.150000</td>\n      <td>14.619000</td>\n      <td>70380000</td>\n    </tr>\n    <tr>\n      <th>2015-01-07</th>\n      <td>14.875000</td>\n      <td>15.064000</td>\n      <td>14.766500</td>\n      <td>52806000</td>\n    </tr>\n    <tr>\n      <th>2015-01-08</th>\n      <td>15.016000</td>\n      <td>15.157000</td>\n      <td>14.805500</td>\n      <td>61768000</td>\n    </tr>\n    <tr>\n      <th>...</th>\n      <td>...</td>\n      <td>...</td>\n      <td>...</td>\n      <td>...</td>\n    </tr>\n    <tr>\n      <th>2023-12-22</th>\n      <td>153.770004</td>\n      <td>154.350006</td>\n      <td>152.710007</td>\n      <td>29480100</td>\n    </tr>\n    <tr>\n      <th>2023-12-26</th>\n      <td>153.559998</td>\n      <td>153.979996</td>\n      <td>153.029999</td>\n      <td>25067200</td>\n    </tr>\n    <tr>\n      <th>2023-12-27</th>\n      <td>153.559998</td>\n      <td>154.779999</td>\n      <td>153.119995</td>\n      <td>31434700</td>\n    </tr>\n    <tr>\n      <th>2023-12-28</th>\n      <td>153.720001</td>\n      <td>154.080002</td>\n      <td>152.949997</td>\n      <td>27057000</td>\n    </tr>\n    <tr>\n      <th>2023-12-29</th>\n      <td>153.100006</td>\n      <td>153.889999</td>\n      <td>151.029999</td>\n      <td>39789000</td>\n    </tr>\n  </tbody>\n</table>\n<p>2264 rows × 4 columns</p>\n</div>"
     },
     "execution_count": 9,
     "metadata": {},
     "output_type": "execute_result"
    }
   ],
   "source": [
    "X"
   ],
   "metadata": {
    "collapsed": false,
    "ExecuteTime": {
     "end_time": "2024-11-16T01:32:23.319520100Z",
     "start_time": "2024-11-16T01:32:23.304509600Z"
    }
   },
   "id": "3b77b18ef6fa783f",
   "execution_count": 9
  },
  {
   "cell_type": "code",
   "outputs": [
    {
     "data": {
      "text/plain": "Accessing as PacoTinoco\n",
      "text/html": "<pre style=\"white-space:pre;overflow-x:auto;line-height:normal;font-family:Menlo,'DejaVu Sans Mono',consolas,'Courier New',monospace\">Accessing as PacoTinoco\n</pre>\n"
     },
     "metadata": {},
     "output_type": "display_data"
    },
    {
     "data": {
      "text/plain": "Initialized MLflow to track repo \u001B[32m\"PacoTinoco/Proyecto_Final_CDD\"\u001B[0m\n",
      "text/html": "<pre style=\"white-space:pre;overflow-x:auto;line-height:normal;font-family:Menlo,'DejaVu Sans Mono',consolas,'Courier New',monospace\">Initialized MLflow to track repo <span style=\"color: #008000; text-decoration-color: #008000\">\"PacoTinoco/Proyecto_Final_CDD\"</span>\n</pre>\n"
     },
     "metadata": {},
     "output_type": "display_data"
    },
    {
     "data": {
      "text/plain": "Repository PacoTinoco/Proyecto_Final_CDD initialized!\n",
      "text/html": "<pre style=\"white-space:pre;overflow-x:auto;line-height:normal;font-family:Menlo,'DejaVu Sans Mono',consolas,'Courier New',monospace\">Repository PacoTinoco/Proyecto_Final_CDD initialized!\n</pre>\n"
     },
     "metadata": {},
     "output_type": "display_data"
    },
    {
     "name": "stdout",
     "output_type": "stream",
     "text": [
      "https://dagshub.com/PacoTinoco/Proyecto_Final_CDD.mlflow\n"
     ]
    },
    {
     "name": "stderr",
     "output_type": "stream",
     "text": [
      "2024/11/15 19:01:10 INFO mlflow.tracking.fluent: Experiment with name 'amazon-stock-model-randomforest' does not exist. Creating a new experiment.\n"
     ]
    },
    {
     "data": {
      "text/plain": "<Experiment: artifact_location='mlflow-artifacts:/15cd90d7ce864197825b6004970573b6', creation_time=1731718870358, experiment_id='6', last_update_time=1731718870358, lifecycle_stage='active', name='amazon-stock-model-randomforest', tags={}>"
     },
     "execution_count": 5,
     "metadata": {},
     "output_type": "execute_result"
    }
   ],
   "source": [
    "import dagshub\n",
    "import mlflow\n",
    "dagshub.init(url=\"https://dagshub.com/PacoTinoco/Proyecto_Final_CDD\", mlflow=True)\n",
    "\n",
    "MLFLOW_TRACKING_URI = mlflow.get_tracking_uri()\n",
    "\n",
    "print(MLFLOW_TRACKING_URI)\n",
    "\n",
    "mlflow.set_tracking_uri(MLFLOW_TRACKING_URI)\n",
    "mlflow.set_experiment(experiment_name=\"amazon-stock-model-randomforest\")"
   ],
   "metadata": {
    "collapsed": false,
    "ExecuteTime": {
     "end_time": "2024-11-16T01:01:10.954347500Z",
     "start_time": "2024-11-16T01:01:06.964717700Z"
    }
   },
   "id": "e4806aed731c98a",
   "execution_count": 5
  },
  {
   "cell_type": "code",
   "outputs": [
    {
     "name": "stderr",
     "output_type": "stream",
     "text": [
      "2024/11/15 19:02:10 WARNING mlflow.utils.autologging_utils: MLflow sklearn autologging is known to be compatible with 0.24.1 <= scikit-learn <= 1.5.1, but the installed version is 1.5.2. If you encounter errors during autologging, try upgrading / downgrading scikit-learn to a compatible version, or try upgrading MLflow.\n"
     ]
    },
    {
     "name": "stdout",
     "output_type": "stream",
     "text": [
      "  0%|          | 0/10 [00:00<?, ?trial/s, best loss=?]"
     ]
    },
    {
     "name": "stderr",
     "output_type": "stream",
     "text": [
      "2024/11/15 19:02:16 WARNING mlflow.utils.autologging_utils: MLflow autologging encountered a warning: \"C:\\Users\\Francisco\\PycharmProjects\\Proyecto_Final_CDD\\.venv\\Lib\\site-packages\\mlflow\\types\\utils.py:407: UserWarning: Hint: Inferred schema contains integer column(s). Integer columns in Python cannot represent missing values. If your input data contains missing values at inference time, it will be encoded as floats and will cause a schema enforcement error. The best way to avoid this problem is to infer the model schema based on a realistic data sample (training dataset) that includes missing values. Alternatively, you can declare integer columns as doubles (float64) whenever these columns may have missing values. See `Handling Integers With Missing Values <https://www.mlflow.org/docs/latest/models.html#handling-integers-with-missing-values>`_ for more details.\"\n",
      "\n",
      "2024/11/15 19:02:17 WARNING mlflow.utils.autologging_utils: MLflow autologging encountered a warning: \"C:\\Users\\Francisco\\PycharmProjects\\Proyecto_Final_CDD\\.venv\\Lib\\site-packages\\mlflow\\types\\utils.py:407: UserWarning: Hint: Inferred schema contains integer column(s). Integer columns in Python cannot represent missing values. If your input data contains missing values at inference time, it will be encoded as floats and will cause a schema enforcement error. The best way to avoid this problem is to infer the model schema based on a realistic data sample (training dataset) that includes missing values. Alternatively, you can declare integer columns as doubles (float64) whenever these columns may have missing values. See `Handling Integers With Missing Values <https://www.mlflow.org/docs/latest/models.html#handling-integers-with-missing-values>`_ for more details.\"\n",
      "\n",
      "2024/11/15 19:03:08 WARNING mlflow.utils.autologging_utils: Encountered unexpected error during sklearn autologging: The following failures occurred while performing one or more logging operations: [MlflowException('Failed to perform one or more operations on the run with ID 27c48a8cb50d4ef5afa3d7799677505e. Failed operations: [RestException(\"INVALID_PARAMETER_VALUE: Response: {\\'error_code\\': \\'INVALID_PARAMETER_VALUE\\'}\")]')]\n",
      "\n",
      "2024/11/15 19:03:09 INFO mlflow.tracking._tracking_service.client: 🏃 View run sophisticated-ox-659 at: https://dagshub.com/PacoTinoco/Proyecto_Final_CDD.mlflow/#/experiments/6/runs/27c48a8cb50d4ef5afa3d7799677505e.\n",
      "\n",
      "2024/11/15 19:03:09 INFO mlflow.tracking._tracking_service.client: 🧪 View experiment at: https://dagshub.com/PacoTinoco/Proyecto_Final_CDD.mlflow/#/experiments/6.\n",
      "\n"
     ]
    },
    {
     "name": "stdout",
     "output_type": "stream",
     "text": [
      " 10%|█         | 1/10 [00:53<08:01, 53.45s/trial, best loss: 0.9375700202551965]"
     ]
    },
    {
     "name": "stderr",
     "output_type": "stream",
     "text": [
      "2024/11/15 19:03:09 WARNING mlflow.utils.autologging_utils: MLflow autologging encountered a warning: \"C:\\Users\\Francisco\\PycharmProjects\\Proyecto_Final_CDD\\.venv\\Lib\\site-packages\\mlflow\\types\\utils.py:407: UserWarning: Hint: Inferred schema contains integer column(s). Integer columns in Python cannot represent missing values. If your input data contains missing values at inference time, it will be encoded as floats and will cause a schema enforcement error. The best way to avoid this problem is to infer the model schema based on a realistic data sample (training dataset) that includes missing values. Alternatively, you can declare integer columns as doubles (float64) whenever these columns may have missing values. See `Handling Integers With Missing Values <https://www.mlflow.org/docs/latest/models.html#handling-integers-with-missing-values>`_ for more details.\"\n",
      "\n",
      "2024/11/15 19:03:11 WARNING mlflow.utils.autologging_utils: MLflow autologging encountered a warning: \"C:\\Users\\Francisco\\PycharmProjects\\Proyecto_Final_CDD\\.venv\\Lib\\site-packages\\mlflow\\types\\utils.py:407: UserWarning: Hint: Inferred schema contains integer column(s). Integer columns in Python cannot represent missing values. If your input data contains missing values at inference time, it will be encoded as floats and will cause a schema enforcement error. The best way to avoid this problem is to infer the model schema based on a realistic data sample (training dataset) that includes missing values. Alternatively, you can declare integer columns as doubles (float64) whenever these columns may have missing values. See `Handling Integers With Missing Values <https://www.mlflow.org/docs/latest/models.html#handling-integers-with-missing-values>`_ for more details.\"\n",
      "\n",
      "2024/11/15 19:03:31 WARNING mlflow.utils.autologging_utils: Encountered unexpected error during sklearn autologging: The following failures occurred while performing one or more logging operations: [MlflowException('Failed to perform one or more operations on the run with ID b77c7762d40645f0a9cd9b67320b764d. Failed operations: [RestException(\"INVALID_PARAMETER_VALUE: Response: {\\'error_code\\': \\'INVALID_PARAMETER_VALUE\\'}\")]')]\n",
      "\n",
      "2024/11/15 19:03:31 INFO mlflow.tracking._tracking_service.client: 🏃 View run masked-mare-347 at: https://dagshub.com/PacoTinoco/Proyecto_Final_CDD.mlflow/#/experiments/6/runs/b77c7762d40645f0a9cd9b67320b764d.\n",
      "\n",
      "2024/11/15 19:03:31 INFO mlflow.tracking._tracking_service.client: 🧪 View experiment at: https://dagshub.com/PacoTinoco/Proyecto_Final_CDD.mlflow/#/experiments/6.\n",
      "\n"
     ]
    },
    {
     "name": "stdout",
     "output_type": "stream",
     "text": [
      " 20%|██        | 2/10 [01:15<04:42, 35.25s/trial, best loss: 0.9357617105529868]"
     ]
    },
    {
     "name": "stderr",
     "output_type": "stream",
     "text": [
      "2024/11/15 19:03:32 WARNING mlflow.utils.autologging_utils: MLflow autologging encountered a warning: \"C:\\Users\\Francisco\\PycharmProjects\\Proyecto_Final_CDD\\.venv\\Lib\\site-packages\\mlflow\\types\\utils.py:407: UserWarning: Hint: Inferred schema contains integer column(s). Integer columns in Python cannot represent missing values. If your input data contains missing values at inference time, it will be encoded as floats and will cause a schema enforcement error. The best way to avoid this problem is to infer the model schema based on a realistic data sample (training dataset) that includes missing values. Alternatively, you can declare integer columns as doubles (float64) whenever these columns may have missing values. See `Handling Integers With Missing Values <https://www.mlflow.org/docs/latest/models.html#handling-integers-with-missing-values>`_ for more details.\"\n",
      "\n",
      "2024/11/15 19:03:33 WARNING mlflow.utils.autologging_utils: MLflow autologging encountered a warning: \"C:\\Users\\Francisco\\PycharmProjects\\Proyecto_Final_CDD\\.venv\\Lib\\site-packages\\mlflow\\types\\utils.py:407: UserWarning: Hint: Inferred schema contains integer column(s). Integer columns in Python cannot represent missing values. If your input data contains missing values at inference time, it will be encoded as floats and will cause a schema enforcement error. The best way to avoid this problem is to infer the model schema based on a realistic data sample (training dataset) that includes missing values. Alternatively, you can declare integer columns as doubles (float64) whenever these columns may have missing values. See `Handling Integers With Missing Values <https://www.mlflow.org/docs/latest/models.html#handling-integers-with-missing-values>`_ for more details.\"\n",
      "\n",
      "2024/11/15 19:03:55 WARNING mlflow.utils.autologging_utils: Encountered unexpected error during sklearn autologging: The following failures occurred while performing one or more logging operations: [MlflowException('Failed to perform one or more operations on the run with ID 7d97e85237ba4becb02225b09716ccdc. Failed operations: [RestException(\"INVALID_PARAMETER_VALUE: Response: {\\'error_code\\': \\'INVALID_PARAMETER_VALUE\\'}\")]')]\n",
      "\n",
      "2024/11/15 19:03:56 INFO mlflow.tracking._tracking_service.client: 🏃 View run mysterious-crab-582 at: https://dagshub.com/PacoTinoco/Proyecto_Final_CDD.mlflow/#/experiments/6/runs/7d97e85237ba4becb02225b09716ccdc.\n",
      "\n",
      "2024/11/15 19:03:56 INFO mlflow.tracking._tracking_service.client: 🧪 View experiment at: https://dagshub.com/PacoTinoco/Proyecto_Final_CDD.mlflow/#/experiments/6.\n",
      "\n"
     ]
    },
    {
     "name": "stdout",
     "output_type": "stream",
     "text": [
      " 30%|███       | 3/10 [01:40<03:32, 30.31s/trial, best loss: 0.9357617105529868]"
     ]
    },
    {
     "name": "stderr",
     "output_type": "stream",
     "text": [
      "2024/11/15 19:03:57 WARNING mlflow.utils.autologging_utils: MLflow autologging encountered a warning: \"C:\\Users\\Francisco\\PycharmProjects\\Proyecto_Final_CDD\\.venv\\Lib\\site-packages\\mlflow\\types\\utils.py:407: UserWarning: Hint: Inferred schema contains integer column(s). Integer columns in Python cannot represent missing values. If your input data contains missing values at inference time, it will be encoded as floats and will cause a schema enforcement error. The best way to avoid this problem is to infer the model schema based on a realistic data sample (training dataset) that includes missing values. Alternatively, you can declare integer columns as doubles (float64) whenever these columns may have missing values. See `Handling Integers With Missing Values <https://www.mlflow.org/docs/latest/models.html#handling-integers-with-missing-values>`_ for more details.\"\n",
      "\n",
      "2024/11/15 19:03:59 WARNING mlflow.utils.autologging_utils: MLflow autologging encountered a warning: \"C:\\Users\\Francisco\\PycharmProjects\\Proyecto_Final_CDD\\.venv\\Lib\\site-packages\\mlflow\\types\\utils.py:407: UserWarning: Hint: Inferred schema contains integer column(s). Integer columns in Python cannot represent missing values. If your input data contains missing values at inference time, it will be encoded as floats and will cause a schema enforcement error. The best way to avoid this problem is to infer the model schema based on a realistic data sample (training dataset) that includes missing values. Alternatively, you can declare integer columns as doubles (float64) whenever these columns may have missing values. See `Handling Integers With Missing Values <https://www.mlflow.org/docs/latest/models.html#handling-integers-with-missing-values>`_ for more details.\"\n",
      "\n",
      "2024/11/15 19:04:30 WARNING mlflow.utils.autologging_utils: Encountered unexpected error during sklearn autologging: The following failures occurred while performing one or more logging operations: [MlflowException('Failed to perform one or more operations on the run with ID b994356029494f72b29091cf207c3945. Failed operations: [RestException(\"INVALID_PARAMETER_VALUE: Response: {\\'error_code\\': \\'INVALID_PARAMETER_VALUE\\'}\")]')]\n",
      "\n",
      "2024/11/15 19:04:30 INFO mlflow.tracking._tracking_service.client: 🏃 View run victorious-cat-867 at: https://dagshub.com/PacoTinoco/Proyecto_Final_CDD.mlflow/#/experiments/6/runs/b994356029494f72b29091cf207c3945.\n",
      "\n",
      "2024/11/15 19:04:30 INFO mlflow.tracking._tracking_service.client: 🧪 View experiment at: https://dagshub.com/PacoTinoco/Proyecto_Final_CDD.mlflow/#/experiments/6.\n",
      "\n"
     ]
    },
    {
     "name": "stdout",
     "output_type": "stream",
     "text": [
      " 40%|████      | 4/10 [02:14<03:11, 31.94s/trial, best loss: 0.9349319129546464]"
     ]
    },
    {
     "name": "stderr",
     "output_type": "stream",
     "text": [
      "2024/11/15 19:04:31 WARNING mlflow.utils.autologging_utils: MLflow autologging encountered a warning: \"C:\\Users\\Francisco\\PycharmProjects\\Proyecto_Final_CDD\\.venv\\Lib\\site-packages\\mlflow\\types\\utils.py:407: UserWarning: Hint: Inferred schema contains integer column(s). Integer columns in Python cannot represent missing values. If your input data contains missing values at inference time, it will be encoded as floats and will cause a schema enforcement error. The best way to avoid this problem is to infer the model schema based on a realistic data sample (training dataset) that includes missing values. Alternatively, you can declare integer columns as doubles (float64) whenever these columns may have missing values. See `Handling Integers With Missing Values <https://www.mlflow.org/docs/latest/models.html#handling-integers-with-missing-values>`_ for more details.\"\n",
      "\n",
      "2024/11/15 19:04:32 WARNING mlflow.utils.autologging_utils: MLflow autologging encountered a warning: \"C:\\Users\\Francisco\\PycharmProjects\\Proyecto_Final_CDD\\.venv\\Lib\\site-packages\\mlflow\\types\\utils.py:407: UserWarning: Hint: Inferred schema contains integer column(s). Integer columns in Python cannot represent missing values. If your input data contains missing values at inference time, it will be encoded as floats and will cause a schema enforcement error. The best way to avoid this problem is to infer the model schema based on a realistic data sample (training dataset) that includes missing values. Alternatively, you can declare integer columns as doubles (float64) whenever these columns may have missing values. See `Handling Integers With Missing Values <https://www.mlflow.org/docs/latest/models.html#handling-integers-with-missing-values>`_ for more details.\"\n",
      "\n",
      "2024/11/15 19:04:54 WARNING mlflow.utils.autologging_utils: Encountered unexpected error during sklearn autologging: The following failures occurred while performing one or more logging operations: [MlflowException('Failed to perform one or more operations on the run with ID ee11457d021d4193bd0339c6f98fcd05. Failed operations: [RestException(\"INVALID_PARAMETER_VALUE: Response: {\\'error_code\\': \\'INVALID_PARAMETER_VALUE\\'}\")]')]\n",
      "\n",
      "2024/11/15 19:04:55 INFO mlflow.tracking._tracking_service.client: 🏃 View run glamorous-worm-409 at: https://dagshub.com/PacoTinoco/Proyecto_Final_CDD.mlflow/#/experiments/6/runs/ee11457d021d4193bd0339c6f98fcd05.\n",
      "\n",
      "2024/11/15 19:04:55 INFO mlflow.tracking._tracking_service.client: 🧪 View experiment at: https://dagshub.com/PacoTinoco/Proyecto_Final_CDD.mlflow/#/experiments/6.\n",
      "\n"
     ]
    },
    {
     "name": "stdout",
     "output_type": "stream",
     "text": [
      " 50%|█████     | 5/10 [02:39<02:26, 29.30s/trial, best loss: 0.9349319129546464]"
     ]
    },
    {
     "name": "stderr",
     "output_type": "stream",
     "text": [
      "2024/11/15 19:04:55 WARNING mlflow.utils.autologging_utils: MLflow autologging encountered a warning: \"C:\\Users\\Francisco\\PycharmProjects\\Proyecto_Final_CDD\\.venv\\Lib\\site-packages\\mlflow\\types\\utils.py:407: UserWarning: Hint: Inferred schema contains integer column(s). Integer columns in Python cannot represent missing values. If your input data contains missing values at inference time, it will be encoded as floats and will cause a schema enforcement error. The best way to avoid this problem is to infer the model schema based on a realistic data sample (training dataset) that includes missing values. Alternatively, you can declare integer columns as doubles (float64) whenever these columns may have missing values. See `Handling Integers With Missing Values <https://www.mlflow.org/docs/latest/models.html#handling-integers-with-missing-values>`_ for more details.\"\n",
      "\n",
      "2024/11/15 19:04:57 WARNING mlflow.utils.autologging_utils: MLflow autologging encountered a warning: \"C:\\Users\\Francisco\\PycharmProjects\\Proyecto_Final_CDD\\.venv\\Lib\\site-packages\\mlflow\\types\\utils.py:407: UserWarning: Hint: Inferred schema contains integer column(s). Integer columns in Python cannot represent missing values. If your input data contains missing values at inference time, it will be encoded as floats and will cause a schema enforcement error. The best way to avoid this problem is to infer the model schema based on a realistic data sample (training dataset) that includes missing values. Alternatively, you can declare integer columns as doubles (float64) whenever these columns may have missing values. See `Handling Integers With Missing Values <https://www.mlflow.org/docs/latest/models.html#handling-integers-with-missing-values>`_ for more details.\"\n",
      "\n",
      "2024/11/15 19:05:04 WARNING mlflow.utils.autologging_utils: Encountered unexpected error during sklearn autologging: The following failures occurred while performing one or more logging operations: [MlflowException('Failed to perform one or more operations on the run with ID 635b210e133e4c8b93f150c3bdaf7d13. Failed operations: [RestException(\"INVALID_PARAMETER_VALUE: Response: {\\'error_code\\': \\'INVALID_PARAMETER_VALUE\\'}\")]')]\n",
      "\n",
      "2024/11/15 19:05:06 INFO mlflow.tracking._tracking_service.client: 🏃 View run stately-crab-963 at: https://dagshub.com/PacoTinoco/Proyecto_Final_CDD.mlflow/#/experiments/6/runs/635b210e133e4c8b93f150c3bdaf7d13.\n",
      "\n",
      "2024/11/15 19:05:06 INFO mlflow.tracking._tracking_service.client: 🧪 View experiment at: https://dagshub.com/PacoTinoco/Proyecto_Final_CDD.mlflow/#/experiments/6.\n",
      "\n"
     ]
    },
    {
     "name": "stdout",
     "output_type": "stream",
     "text": [
      " 60%|██████    | 6/10 [02:51<01:33, 23.32s/trial, best loss: 0.9349319129546464]"
     ]
    },
    {
     "name": "stderr",
     "output_type": "stream",
     "text": [
      "2024/11/15 19:05:10 WARNING mlflow.utils.autologging_utils: MLflow autologging encountered a warning: \"C:\\Users\\Francisco\\PycharmProjects\\Proyecto_Final_CDD\\.venv\\Lib\\site-packages\\mlflow\\types\\utils.py:407: UserWarning: Hint: Inferred schema contains integer column(s). Integer columns in Python cannot represent missing values. If your input data contains missing values at inference time, it will be encoded as floats and will cause a schema enforcement error. The best way to avoid this problem is to infer the model schema based on a realistic data sample (training dataset) that includes missing values. Alternatively, you can declare integer columns as doubles (float64) whenever these columns may have missing values. See `Handling Integers With Missing Values <https://www.mlflow.org/docs/latest/models.html#handling-integers-with-missing-values>`_ for more details.\"\n",
      "\n",
      "2024/11/15 19:05:14 WARNING mlflow.utils.autologging_utils: MLflow autologging encountered a warning: \"C:\\Users\\Francisco\\PycharmProjects\\Proyecto_Final_CDD\\.venv\\Lib\\site-packages\\mlflow\\types\\utils.py:407: UserWarning: Hint: Inferred schema contains integer column(s). Integer columns in Python cannot represent missing values. If your input data contains missing values at inference time, it will be encoded as floats and will cause a schema enforcement error. The best way to avoid this problem is to infer the model schema based on a realistic data sample (training dataset) that includes missing values. Alternatively, you can declare integer columns as doubles (float64) whenever these columns may have missing values. See `Handling Integers With Missing Values <https://www.mlflow.org/docs/latest/models.html#handling-integers-with-missing-values>`_ for more details.\"\n",
      "\n",
      "2024/11/15 19:05:21 WARNING mlflow.utils.autologging_utils: Encountered unexpected error during sklearn autologging: The following failures occurred while performing one or more logging operations: [MlflowException('Failed to perform one or more operations on the run with ID e17de28176fc4159a72dd4a56b51b151. Failed operations: [RestException(\"INVALID_PARAMETER_VALUE: Response: {\\'error_code\\': \\'INVALID_PARAMETER_VALUE\\'}\")]')]\n",
      "\n",
      "2024/11/15 19:05:23 INFO mlflow.tracking._tracking_service.client: 🏃 View run overjoyed-hog-391 at: https://dagshub.com/PacoTinoco/Proyecto_Final_CDD.mlflow/#/experiments/6/runs/e17de28176fc4159a72dd4a56b51b151.\n",
      "\n",
      "2024/11/15 19:05:23 INFO mlflow.tracking._tracking_service.client: 🧪 View experiment at: https://dagshub.com/PacoTinoco/Proyecto_Final_CDD.mlflow/#/experiments/6.\n",
      "\n"
     ]
    },
    {
     "name": "stdout",
     "output_type": "stream",
     "text": [
      " 70%|███████   | 7/10 [03:08<01:03, 21.25s/trial, best loss: 0.9349319129546464]"
     ]
    },
    {
     "name": "stderr",
     "output_type": "stream",
     "text": [
      "2024/11/15 19:05:27 WARNING mlflow.utils.autologging_utils: MLflow autologging encountered a warning: \"C:\\Users\\Francisco\\PycharmProjects\\Proyecto_Final_CDD\\.venv\\Lib\\site-packages\\mlflow\\types\\utils.py:407: UserWarning: Hint: Inferred schema contains integer column(s). Integer columns in Python cannot represent missing values. If your input data contains missing values at inference time, it will be encoded as floats and will cause a schema enforcement error. The best way to avoid this problem is to infer the model schema based on a realistic data sample (training dataset) that includes missing values. Alternatively, you can declare integer columns as doubles (float64) whenever these columns may have missing values. See `Handling Integers With Missing Values <https://www.mlflow.org/docs/latest/models.html#handling-integers-with-missing-values>`_ for more details.\"\n",
      "\n",
      "2024/11/15 19:05:31 WARNING mlflow.utils.autologging_utils: MLflow autologging encountered a warning: \"C:\\Users\\Francisco\\PycharmProjects\\Proyecto_Final_CDD\\.venv\\Lib\\site-packages\\mlflow\\types\\utils.py:407: UserWarning: Hint: Inferred schema contains integer column(s). Integer columns in Python cannot represent missing values. If your input data contains missing values at inference time, it will be encoded as floats and will cause a schema enforcement error. The best way to avoid this problem is to infer the model schema based on a realistic data sample (training dataset) that includes missing values. Alternatively, you can declare integer columns as doubles (float64) whenever these columns may have missing values. See `Handling Integers With Missing Values <https://www.mlflow.org/docs/latest/models.html#handling-integers-with-missing-values>`_ for more details.\"\n",
      "\n",
      "2024/11/15 19:05:40 WARNING mlflow.utils.autologging_utils: Encountered unexpected error during sklearn autologging: The following failures occurred while performing one or more logging operations: [MlflowException('Failed to perform one or more operations on the run with ID bd0d74fb64ee41ce8301ac8274de0e6c. Failed operations: [RestException(\"INVALID_PARAMETER_VALUE: Response: {\\'error_code\\': \\'INVALID_PARAMETER_VALUE\\'}\")]')]\n",
      "\n",
      "2024/11/15 19:05:41 INFO mlflow.tracking._tracking_service.client: 🏃 View run upbeat-duck-856 at: https://dagshub.com/PacoTinoco/Proyecto_Final_CDD.mlflow/#/experiments/6/runs/bd0d74fb64ee41ce8301ac8274de0e6c.\n",
      "\n",
      "2024/11/15 19:05:41 INFO mlflow.tracking._tracking_service.client: 🧪 View experiment at: https://dagshub.com/PacoTinoco/Proyecto_Final_CDD.mlflow/#/experiments/6.\n",
      "\n"
     ]
    },
    {
     "name": "stdout",
     "output_type": "stream",
     "text": [
      " 80%|████████  | 8/10 [03:25<00:40, 20.01s/trial, best loss: 0.9349319129546464]"
     ]
    },
    {
     "name": "stderr",
     "output_type": "stream",
     "text": [
      "2024/11/15 19:05:44 WARNING mlflow.utils.autologging_utils: MLflow autologging encountered a warning: \"C:\\Users\\Francisco\\PycharmProjects\\Proyecto_Final_CDD\\.venv\\Lib\\site-packages\\mlflow\\types\\utils.py:407: UserWarning: Hint: Inferred schema contains integer column(s). Integer columns in Python cannot represent missing values. If your input data contains missing values at inference time, it will be encoded as floats and will cause a schema enforcement error. The best way to avoid this problem is to infer the model schema based on a realistic data sample (training dataset) that includes missing values. Alternatively, you can declare integer columns as doubles (float64) whenever these columns may have missing values. See `Handling Integers With Missing Values <https://www.mlflow.org/docs/latest/models.html#handling-integers-with-missing-values>`_ for more details.\"\n",
      "\n",
      "2024/11/15 19:05:48 WARNING mlflow.utils.autologging_utils: MLflow autologging encountered a warning: \"C:\\Users\\Francisco\\PycharmProjects\\Proyecto_Final_CDD\\.venv\\Lib\\site-packages\\mlflow\\types\\utils.py:407: UserWarning: Hint: Inferred schema contains integer column(s). Integer columns in Python cannot represent missing values. If your input data contains missing values at inference time, it will be encoded as floats and will cause a schema enforcement error. The best way to avoid this problem is to infer the model schema based on a realistic data sample (training dataset) that includes missing values. Alternatively, you can declare integer columns as doubles (float64) whenever these columns may have missing values. See `Handling Integers With Missing Values <https://www.mlflow.org/docs/latest/models.html#handling-integers-with-missing-values>`_ for more details.\"\n",
      "\n",
      "2024/11/15 19:05:57 WARNING mlflow.utils.autologging_utils: Encountered unexpected error during sklearn autologging: The following failures occurred while performing one or more logging operations: [MlflowException('Failed to perform one or more operations on the run with ID 4a6b915c91b44de6b14569cbf6a575a2. Failed operations: [RestException(\"INVALID_PARAMETER_VALUE: Response: {\\'error_code\\': \\'INVALID_PARAMETER_VALUE\\'}\")]')]\n",
      "\n",
      "2024/11/15 19:05:58 INFO mlflow.tracking._tracking_service.client: 🏃 View run luxuriant-worm-113 at: https://dagshub.com/PacoTinoco/Proyecto_Final_CDD.mlflow/#/experiments/6/runs/4a6b915c91b44de6b14569cbf6a575a2.\n",
      "\n",
      "2024/11/15 19:05:58 INFO mlflow.tracking._tracking_service.client: 🧪 View experiment at: https://dagshub.com/PacoTinoco/Proyecto_Final_CDD.mlflow/#/experiments/6.\n",
      "\n"
     ]
    },
    {
     "name": "stdout",
     "output_type": "stream",
     "text": [
      " 90%|█████████ | 9/10 [03:42<00:19, 19.10s/trial, best loss: 0.9349319129546464]"
     ]
    },
    {
     "name": "stderr",
     "output_type": "stream",
     "text": [
      "2024/11/15 19:06:01 WARNING mlflow.utils.autologging_utils: MLflow autologging encountered a warning: \"C:\\Users\\Francisco\\PycharmProjects\\Proyecto_Final_CDD\\.venv\\Lib\\site-packages\\mlflow\\types\\utils.py:407: UserWarning: Hint: Inferred schema contains integer column(s). Integer columns in Python cannot represent missing values. If your input data contains missing values at inference time, it will be encoded as floats and will cause a schema enforcement error. The best way to avoid this problem is to infer the model schema based on a realistic data sample (training dataset) that includes missing values. Alternatively, you can declare integer columns as doubles (float64) whenever these columns may have missing values. See `Handling Integers With Missing Values <https://www.mlflow.org/docs/latest/models.html#handling-integers-with-missing-values>`_ for more details.\"\n",
      "\n",
      "2024/11/15 19:06:05 WARNING mlflow.utils.autologging_utils: MLflow autologging encountered a warning: \"C:\\Users\\Francisco\\PycharmProjects\\Proyecto_Final_CDD\\.venv\\Lib\\site-packages\\mlflow\\types\\utils.py:407: UserWarning: Hint: Inferred schema contains integer column(s). Integer columns in Python cannot represent missing values. If your input data contains missing values at inference time, it will be encoded as floats and will cause a schema enforcement error. The best way to avoid this problem is to infer the model schema based on a realistic data sample (training dataset) that includes missing values. Alternatively, you can declare integer columns as doubles (float64) whenever these columns may have missing values. See `Handling Integers With Missing Values <https://www.mlflow.org/docs/latest/models.html#handling-integers-with-missing-values>`_ for more details.\"\n",
      "\n",
      "2024/11/15 19:06:12 WARNING mlflow.utils.autologging_utils: Encountered unexpected error during sklearn autologging: The following failures occurred while performing one or more logging operations: [MlflowException('Failed to perform one or more operations on the run with ID c1c38f5c72884a8e896b6f0f9d59691d. Failed operations: [RestException(\"INVALID_PARAMETER_VALUE: Response: {\\'error_code\\': \\'INVALID_PARAMETER_VALUE\\'}\")]')]\n",
      "\n",
      "2024/11/15 19:06:14 INFO mlflow.tracking._tracking_service.client: 🏃 View run luxuriant-rat-935 at: https://dagshub.com/PacoTinoco/Proyecto_Final_CDD.mlflow/#/experiments/6/runs/c1c38f5c72884a8e896b6f0f9d59691d.\n",
      "\n",
      "2024/11/15 19:06:14 INFO mlflow.tracking._tracking_service.client: 🧪 View experiment at: https://dagshub.com/PacoTinoco/Proyecto_Final_CDD.mlflow/#/experiments/6.\n",
      "\n"
     ]
    },
    {
     "name": "stdout",
     "output_type": "stream",
     "text": [
      "100%|██████████| 10/10 [03:59<00:00, 23.92s/trial, best loss: 0.9349319129546464]\n"
     ]
    },
    {
     "name": "stderr",
     "output_type": "stream",
     "text": [
      "2024/11/15 19:06:17 INFO mlflow.tracking._tracking_service.client: 🏃 View run Parent Random Forest at: https://dagshub.com/PacoTinoco/Proyecto_Final_CDD.mlflow/#/experiments/6/runs/40adb0f534074fc2beba66cfcff84083.\n",
      "2024/11/15 19:06:17 INFO mlflow.tracking._tracking_service.client: 🧪 View experiment at: https://dagshub.com/PacoTinoco/Proyecto_Final_CDD.mlflow/#/experiments/6.\n"
     ]
    }
   ],
   "source": [
    "mlflow.sklearn.autolog()\n",
    "\n",
    "def objective_rf(params):\n",
    "    with mlflow.start_run(nested=True):\n",
    "        # Set model tag\n",
    "        mlflow.set_tag(\"model_family\", \"random_forest\")\n",
    "\n",
    "        # Log parameters\n",
    "        mlflow.log_params(params)\n",
    "\n",
    "        # Train RandomForest model\n",
    "        rf_model = RandomForestRegressor(\n",
    "            n_estimators=int(params['n_estimators']),\n",
    "            max_depth=int(params['max_depth']),\n",
    "            min_samples_split=int(params['min_samples_split']),\n",
    "            min_samples_leaf=int(params['min_samples_leaf']),\n",
    "            random_state=42\n",
    "        )\n",
    "        rf_model.fit(X_train, y_train)\n",
    "\n",
    "        # Predict on validation dataset\n",
    "        y_pred = rf_model.predict(X_val)\n",
    "\n",
    "        # Calculate RMSE\n",
    "        rmse = np.sqrt(mean_squared_error(y_val, y_pred))\n",
    "\n",
    "        # Log RMSE metric\n",
    "        mlflow.log_metric(\"rmse\", rmse)\n",
    "\n",
    "        return {'loss': rmse, 'status': STATUS_OK}\n",
    "\n",
    "\n",
    "# Define search space for RandomForest\n",
    "search_space_rf = {\n",
    "    'n_estimators': hp.quniform('n_estimators', 50, 100, 1),\n",
    "    'max_depth': hp.quniform('max_depth', 5, 15, 1),\n",
    "    'min_samples_split': hp.quniform('min_samples_split', 2, 5, 1),\n",
    "    'min_samples_leaf': hp.quniform('min_samples_leaf', 1, 2, 1),\n",
    "}\n",
    "\n",
    "# Run hyperparameter optimization\n",
    "with mlflow.start_run(run_name=\"Parent Random Forest\", nested=True):\n",
    "    best_params_rf = fmin(\n",
    "        fn=objective_rf,\n",
    "        space=search_space_rf,\n",
    "        algo=tpe.suggest,\n",
    "        max_evals=10,\n",
    "        trials=Trials()\n",
    "    )\n",
    "\n",
    "    # Log best parameters\n",
    "    mlflow.log_params(best_params_rf)"
   ],
   "metadata": {
    "collapsed": false,
    "ExecuteTime": {
     "end_time": "2024-11-16T01:06:18.054556300Z",
     "start_time": "2024-11-16T01:02:10.707911500Z"
    }
   },
   "id": "161ba14eebd72ad9",
   "execution_count": 6
  },
  {
   "cell_type": "code",
   "outputs": [
    {
     "name": "stderr",
     "output_type": "stream",
     "text": [
      "Successfully registered model 'amazon-stock-model-randomforest'.\n",
      "2024/11/15 19:37:30 INFO mlflow.store.model_registry.abstract_store: Waiting up to 300 seconds for model version to finish creation. Model name: amazon-stock-model-randomforest, version 1\n",
      "Created version '1' of model 'amazon-stock-model-randomforest'.\n"
     ]
    }
   ],
   "source": [
    "run_id = input(\"Ingrese el run_id\")\n",
    "run_uri = f\"runs:/{run_id}/model\"\n",
    "\n",
    "result = mlflow.register_model(\n",
    "    model_uri=run_uri,\n",
    "    name=\"amazon-stock-model-randomforest\"\n",
    ")"
   ],
   "metadata": {
    "collapsed": false,
    "ExecuteTime": {
     "end_time": "2024-11-16T01:37:30.754313100Z",
     "start_time": "2024-11-16T01:37:25.695421600Z"
    }
   },
   "id": "3e93ee329efbf308",
   "execution_count": 10
  },
  {
   "cell_type": "code",
   "outputs": [
    {
     "data": {
      "text/plain": "<ModelVersion: aliases=['champion'], creation_timestamp=1731721050287, current_stage='None', description='The model version 1 was transitioned to champion on 2024-11-15 19:38:30.704945', last_updated_timestamp=1731721110641, name='amazon-stock-model-randomforest', run_id='b994356029494f72b29091cf207c3945', run_link='', source='mlflow-artifacts:/15cd90d7ce864197825b6004970573b6/b994356029494f72b29091cf207c3945/artifacts/model', status='READY', status_message='', tags={}, user_id='', version='1'>"
     },
     "execution_count": 11,
     "metadata": {},
     "output_type": "execute_result"
    }
   ],
   "source": [
    "from datetime import datetime\n",
    "from mlflow import MlflowClient\n",
    "\n",
    "client = MlflowClient(tracking_uri=MLFLOW_TRACKING_URI)\n",
    "client.update_registered_model(\n",
    "    name=\"amazon-stock-model-randomforest\",\n",
    "    description=\"Model registry for the amazon stock randomforest prediction\",\n",
    ")\n",
    "\n",
    "new_alias = \"champion\"\n",
    "date = datetime.today()\n",
    "model_version = \"1\"\n",
    "\n",
    "# create \"champion\" alias for version 1 of model \"nyc-taxi-model\"\n",
    "client.set_registered_model_alias(\n",
    "    name=\"amazon-stock-model-randomforest\",\n",
    "    alias=new_alias,\n",
    "    version=model_version\n",
    ")\n",
    "\n",
    "client.update_model_version(\n",
    "    name=\"amazon-stock-model-randomforest\",\n",
    "    version=model_version,\n",
    "    description=f\"The model version {model_version} was transitioned to {new_alias} on {date}\",\n",
    ")"
   ],
   "metadata": {
    "collapsed": false,
    "ExecuteTime": {
     "end_time": "2024-11-16T01:38:31.095942700Z",
     "start_time": "2024-11-16T01:38:30.537311100Z"
    }
   },
   "id": "5191e2c3d4fba0b7",
   "execution_count": 11
  },
  {
   "cell_type": "code",
   "outputs": [
    {
     "data": {
      "text/plain": "{'max_depth': 14.0,\n 'min_samples_leaf': 1.0,\n 'min_samples_split': 3.0,\n 'n_estimators': 94.0}"
     },
     "execution_count": 12,
     "metadata": {},
     "output_type": "execute_result"
    }
   ],
   "source": [
    "best_params_rf"
   ],
   "metadata": {
    "collapsed": false,
    "ExecuteTime": {
     "end_time": "2024-11-16T01:38:38.763217800Z",
     "start_time": "2024-11-16T01:38:38.752690400Z"
    }
   },
   "id": "28c291e66fdcbbb9",
   "execution_count": 12
  },
  {
   "cell_type": "code",
   "outputs": [
    {
     "data": {
      "text/plain": "Downloading artifacts:   0%|          | 0/5 [00:00<?, ?it/s]",
      "application/vnd.jupyter.widget-view+json": {
       "version_major": 2,
       "version_minor": 0,
       "model_id": "e9b6665282c540f591318020a52ad0b2"
      }
     },
     "metadata": {},
     "output_type": "display_data"
    },
    {
     "data": {
      "text/plain": "array([168.99291617, 102.8225732 ,  35.2315668 ,  38.43199172,\n        18.81398255, 151.98644914,  80.29483741, 169.29012876,\n        21.45449975, 102.47998987, 114.18053518,  26.98258436,\n        41.91802015,  58.96802357, 157.03280609, 170.80020567,\n       172.56694894, 106.77702636,  35.93351239, 107.14165401,\n       161.4168907 , 151.38629254, 164.5985691 , 166.5001041 ,\n        81.44238154, 176.39847769,  86.2199086 ,  35.85562574,\n        90.7958783 ,  86.92307909,  21.39735076, 115.29210883,\n       168.24846553,  34.29536475, 159.21121108, 153.44790001,\n        70.38899676, 119.60514246,  42.63869646,  75.48991032,\n       128.91945171, 165.55298124,  38.27371556,  59.59608865,\n       162.9466886 , 159.97474783, 173.15589374,  48.25253461,\n        98.06577891,  39.34642414,  21.49810735, 178.40361973,\n       182.56106923,  39.20470775, 169.41359193, 157.09510449,\n        84.82006672,  47.02689281, 133.27326233, 148.57046288,\n        86.89870848,  23.220959  ,  94.87993146, 101.39685694,\n       116.3099935 ,  37.40410188, 120.4662687 ,  35.87323891,\n        86.33101499, 137.85706505, 130.45692827,  81.31777351,\n       132.96915974,  58.23953459,  35.41965756, 151.93168766,\n        33.44584961,  50.05180151, 178.16303932,  42.048573  ,\n       163.92943842,  31.32134884,  94.92915149,  89.26846945,\n        30.5134271 , 146.46903505,  98.29346328,  28.37691596,\n        71.49929986, 119.86339549,  95.79943929,  92.23714324,\n        18.75747212,  98.54848102,  33.19008613, 160.82251566,\n       164.23666478, 156.64849797,  86.89162917, 114.31239908,\n        48.97578894, 127.79309839, 127.74589629,  88.11922731,\n       141.54727456,  38.37719915,  19.16006497,  85.16075259,\n        98.54331665,  88.11860605,  35.61940921, 135.48804481,\n        39.84398109,  38.74858962,  91.27041088, 144.23199002,\n        25.91031454,  91.50355359, 183.11103847,  84.15719896,\n        48.3700965 , 164.9830068 ,  41.12349292,  19.01372399,\n        27.56081386,  48.9107846 ,  72.70283301,  82.80926178,\n       146.60781669, 137.35432942,  18.57044204,  90.81622644,\n        95.80709692, 102.70999227,  31.59518449, 106.41299171,\n       142.00489405, 152.58665039, 166.34606497,  98.89528493,\n       134.26719445, 164.02720031, 119.12583444,  49.09004936,\n        93.79822787,  40.5029924 ,  98.87052441,  27.89803139,\n        85.83502616, 137.82121924,  27.94484607, 153.81526158,\n        19.22075839, 153.11443136, 131.21257427, 161.60150565,\n       104.90277095,  38.06984348,  38.60932589, 174.68611561,\n        95.19700166,  40.49362007,  92.0941407 ,  91.60884314,\n        51.02110877, 169.73533303,  40.87996422, 153.17754835,\n        21.15464234, 136.46742619, 182.41841731,  19.27236427,\n        21.41868654, 124.03494325,  89.26292906, 160.59987773,\n       139.01433182,  26.58457711,  18.52186664,  95.63244107,\n       158.82700263,  89.21032735, 106.79293819, 100.556399  ,\n        97.01554766, 132.92856779, 130.67840823,  82.25499836,\n       119.68171113,  77.42145383, 161.42450217,  29.73811665,\n        95.76005966,  79.48001893, 163.63230123,  89.30960381,\n        89.04008842, 156.17243554,  66.77315896,  15.22277447,\n       116.82766906, 149.32508291, 102.9486287 ,  97.12083032,\n       162.75485542,  19.16648181, 135.28653213,  88.27522422,\n        81.64403861,  47.89313681,  88.16863473,  47.47150474,\n       107.68532431,  24.90926326, 165.14365351,  50.36357908,\n        94.58852128,  57.47650208, 159.0697432 ,  79.02049325,\n        75.31393618, 172.85044018, 128.61257533,  49.93787025,\n       100.49651243, 120.92680873, 124.70521104, 156.24261961,\n        59.0325395 ,  67.84553079, 128.35849056, 114.12423424,\n       168.77010307, 166.14284936, 100.28247125,  47.94427275,\n       157.70397692,  33.60672509,  76.03843218,  85.52086557,\n        33.97448935,  82.97475193,  24.12340682,  18.59153596,\n       169.66715873,  58.59538812, 164.88686007, 136.27921115,\n        48.20797357,  27.98291401, 125.69370559,  30.72727947,\n        38.46175306,  26.52928056,  75.88557176,  95.13486779,\n        38.07750562,  89.38801835,  42.28324863,  21.56108932,\n        99.13588565,  33.56112274, 166.10567713,  81.08162088,\n        40.98166607, 122.79401911,  42.22660321, 119.73664709,\n        26.54345739, 115.90256245,  97.42529759,  27.94848437,\n        49.70984457,  39.2449258 ,  91.02950832,  36.90416078,\n        40.46502091,  69.70319331,  94.87078198, 159.06833274,\n        65.68442958, 153.59666496,  37.34560584, 159.78801985,\n       152.7061198 , 174.53170386,  85.3281095 ,  78.50146198,\n       159.79891001,  38.67601308,  71.21968843,  42.67399598,\n       127.14355822,  85.27953069, 174.1809323 ,  81.26532   ,\n        76.12925234,  26.26369776,  55.31410228,  21.90582272,\n        88.28558351,  84.60759427,  94.24799091,  86.83103537,\n        41.89006882,  25.85959273, 146.99132129,  94.49240915,\n        62.93305714,  39.04291535,  44.04080982,  45.2664328 ,\n       166.19661371, 132.37758574, 124.05292231, 146.78590486,\n        84.50820214,  38.06692253,  24.5527958 , 116.75059097,\n        88.16555898,  42.66212224,  94.33119327, 162.77825737,\n       117.04937083, 178.80651284, 154.9877382 ,  95.49129673,\n        33.64670772,  89.76290421,  39.22104638, 119.14282834,\n        85.979454  , 107.4628736 ,  31.52523123, 153.36452679,\n       172.57900305,  86.94874021,  36.83983067,  27.86326081,\n        37.93296593,  31.92658802,  21.37742011, 128.8314979 ,\n        25.96107442, 145.32798068,  42.61719732, 160.38665256,\n       140.80219258,  85.60015635, 181.60331244,  79.02786472,\n        21.86731336, 127.84347065,  25.38982153, 159.02599533,\n       122.31640252, 163.54920562,  48.25343998,  18.83335905,\n        90.11566377,  35.76100817,  41.10949559, 110.61816692,\n       160.24191597, 162.98128227,  92.94506307,  18.53804743,\n        83.36150289, 177.04835453, 165.28218728,  32.4197213 ,\n       118.91404762,  59.28130145,  18.46193168,  91.55434894,\n        31.68293627, 168.4322929 , 134.53764661, 136.28211965,\n        38.73853666, 138.28191085, 153.32827154, 175.81953009,\n        51.14601381,  37.87286624, 127.83712408,  72.27419687,\n        36.35682322,  81.45780531,  35.57106317,  92.28214835,\n       116.50949665,  31.26562205, 131.24421161,  28.37064931,\n        27.85508483,  95.86561679,  77.35351135,  42.11673575,\n        82.97785975,  31.72467482, 155.20036904, 164.42752903,\n       153.58038763,  33.40117753, 171.15877752, 125.75606293,\n        94.41255955,  56.28084685, 157.12791201,  99.07992412,\n       112.07502743, 161.42177188, 130.51855177, 115.34983161,\n        15.13133662,  36.35401616,  90.95808092,  28.08670425,\n       169.35584497,  65.76638566,  58.89457766,  38.03238637,\n        95.22142291, 115.04399584, 112.52304212,  36.86570794,\n       165.14915098,  40.33935199, 150.18805422,  37.65978617,\n       120.50069981,  83.82044307, 153.06526038, 114.61594998,\n        90.01107181, 173.10730625,  26.1487113 ,  48.29544785,\n        94.10507677,  28.16274569, 113.73309741,  38.39570686,\n        38.60077187,  50.33506071,  38.99091855,  87.05586676,\n        49.51618462,  14.45301265, 155.52637874, 105.10687209,\n        41.55968373])"
     },
     "execution_count": 13,
     "metadata": {},
     "output_type": "execute_result"
    }
   ],
   "source": [
    "import mlflow.pyfunc\n",
    "\n",
    "model_name = \"amazon-stock-model-randomforest\"\n",
    "alias = \"champion\"\n",
    "\n",
    "model_uri = f\"models:/{model_name}@{alias}\"\n",
    "\n",
    "champion_version = mlflow.pyfunc.load_model(\n",
    "    model_uri=model_uri\n",
    ")\n",
    "\n",
    "champion_version.predict(X_val)"
   ],
   "metadata": {
    "collapsed": false,
    "ExecuteTime": {
     "end_time": "2024-11-16T01:39:05.739923Z",
     "start_time": "2024-11-16T01:39:02.480356500Z"
    }
   },
   "id": "ccffd709cb83cf3f",
   "execution_count": 13
  }
 ],
 "metadata": {
  "kernelspec": {
   "display_name": "Python 3",
   "language": "python",
   "name": "python3"
  },
  "language_info": {
   "codemirror_mode": {
    "name": "ipython",
    "version": 2
   },
   "file_extension": ".py",
   "mimetype": "text/x-python",
   "name": "python",
   "nbconvert_exporter": "python",
   "pygments_lexer": "ipython2",
   "version": "2.7.6"
  }
 },
 "nbformat": 4,
 "nbformat_minor": 5
}
